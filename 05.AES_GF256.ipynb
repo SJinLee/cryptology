{
  "nbformat": 4,
  "nbformat_minor": 0,
  "metadata": {
    "colab": {
      "provenance": [],
      "authorship_tag": "ABX9TyP4fOc3Ao+zN1NFHbRMjAu5",
      "include_colab_link": true
    },
    "kernelspec": {
      "name": "python3",
      "display_name": "Python 3"
    },
    "language_info": {
      "name": "python"
    }
  },
  "cells": [
    {
      "cell_type": "markdown",
      "metadata": {
        "id": "view-in-github",
        "colab_type": "text"
      },
      "source": [
        "<a href=\"https://colab.research.google.com/github/SJinLee/cryptology/blob/main/05.AES_GF256.ipynb\" target=\"_parent\"><img src=\"https://colab.research.google.com/assets/colab-badge.svg\" alt=\"Open In Colab\"/></a>"
      ]
    },
    {
      "cell_type": "markdown",
      "source": [
        "https://www.cs.uaf.edu/2015/spring/cs463/lecture/03_23_AES.html"
      ],
      "metadata": {
        "id": "aFitZviuGQvc"
      }
    },
    {
      "cell_type": "code",
      "source": [
        "def to_binary_list(m,ndigits=8):\n",
        "    b = []\n",
        "    for i in range(ndigits):\n",
        "        b = [m%2] + b\n",
        "        m = m//2\n",
        "    return b\n",
        "def to_num(b):\n",
        "    m = 0\n",
        "    for n in b:\n",
        "        m = m*2+n\n",
        "    return m"
      ],
      "metadata": {
        "id": "AWxUUkzLD9bP"
      },
      "execution_count": 4,
      "outputs": []
    },
    {
      "cell_type": "code",
      "execution_count": 5,
      "metadata": {
        "id": "j8ocpxFFD55Z"
      },
      "outputs": [],
      "source": [
        "def add_gf256(a,b):\n",
        "    return a^b\n",
        "def mult_gf256(a,b):\n",
        "    irr = 0x11b\n",
        "    high = 0x100\n",
        "    c = 0\n",
        "    for bit in range(7,-1,-1):\n",
        "        if b&(1<<bit):\n",
        "            c=c^(a<<bit)\n",
        "\n",
        "    for bit in range(7,-1,-1):\n",
        "        if c & (high<<bit):\n",
        "            c=c^(irr<<bit)\n",
        "    return c"
      ]
    },
    {
      "cell_type": "code",
      "source": [
        "a = 0x57\n",
        "b = 0x83\n",
        "c = add_gf256(a,b)\n",
        "hex(c)"
      ],
      "metadata": {
        "colab": {
          "base_uri": "https://localhost:8080/",
          "height": 35
        },
        "id": "_Sn_DCFfF71m",
        "outputId": "747737b7-9c89-470b-f34c-d8a77b47c376"
      },
      "execution_count": 6,
      "outputs": [
        {
          "output_type": "execute_result",
          "data": {
            "text/plain": [
              "'0xd4'"
            ],
            "application/vnd.google.colaboratory.intrinsic+json": {
              "type": "string"
            }
          },
          "metadata": {},
          "execution_count": 6
        }
      ]
    },
    {
      "cell_type": "code",
      "source": [
        "a = 0x57\n",
        "b = 0x83\n",
        "c = mult_gf256(a,b)\n",
        "hex(c)"
      ],
      "metadata": {
        "colab": {
          "base_uri": "https://localhost:8080/",
          "height": 35
        },
        "id": "VUsfZHxPEvNp",
        "outputId": "1472bd42-5cba-4f41-8abc-11a38b114a8a"
      },
      "execution_count": 7,
      "outputs": [
        {
          "output_type": "execute_result",
          "data": {
            "text/plain": [
              "'0xc1'"
            ],
            "application/vnd.google.colaboratory.intrinsic+json": {
              "type": "string"
            }
          },
          "metadata": {},
          "execution_count": 7
        }
      ]
    },
    {
      "cell_type": "code",
      "source": [
        "to_binary_list(c)"
      ],
      "metadata": {
        "colab": {
          "base_uri": "https://localhost:8080/"
        },
        "id": "wjf7mhyfEwM3",
        "outputId": "21f9517d-b199-4d06-ae30-5531f6d068a8"
      },
      "execution_count": 8,
      "outputs": [
        {
          "output_type": "execute_result",
          "data": {
            "text/plain": [
              "[1, 1, 0, 0, 0, 0, 0, 1]"
            ]
          },
          "metadata": {},
          "execution_count": 8
        }
      ]
    },
    {
      "cell_type": "code",
      "source": [
        "def gmix_column(r):\n",
        "    a = [0]*4;\n",
        "    b = [0]*4;\n",
        "    # The array 'a' is simply a copy of the input array 'r'\n",
        "    # The array 'b' is each element of the array 'a' multiplied by 2\n",
        "    # in Rijndael's Galois field\n",
        "    # a[n] ^ b[n] is element n multiplied by 3 in Rijndael's Galois field\n",
        "    for c in range(4):\n",
        "        a[c] = r[c]\n",
        "        h = r[c] >> 7\n",
        "        b[c] = r[c] << 1\n",
        "        b[c] ^= h * 0x1B # Rijndael's Galois field\n",
        "    r[0] = b[0] ^ a[3] ^ a[2] ^ b[1] ^ a[1] # 2 * a0 + a3 + a2 + 3 * a1\n",
        "    r[1] = b[1] ^ a[0] ^ a[3] ^ b[2] ^ a[2] # 2 * a1 + a0 + a3 + 3 * a2\n",
        "    r[2] = b[2] ^ a[1] ^ a[0] ^ b[3] ^ a[3] # 2 * a2 + a1 + a0 + 3 * a3\n",
        "    r[3] = b[3] ^ a[2] ^ a[1] ^ b[0] ^ a[0] # 2 * a3 + a2 + a1 + 3 * a0\n",
        "    return r"
      ],
      "metadata": {
        "id": "0AoNCQdoFWcF"
      },
      "execution_count": 9,
      "outputs": []
    },
    {
      "cell_type": "code",
      "source": [
        "c = [0x01,0x02,0x03,0x04]\n",
        "gmix_column(c)"
      ],
      "metadata": {
        "id": "wKWJ6D1Lsbr9",
        "outputId": "289827c8-c235-4802-8d42-a67e3c7d410f",
        "colab": {
          "base_uri": "https://localhost:8080/"
        }
      },
      "execution_count": 10,
      "outputs": [
        {
          "output_type": "execute_result",
          "data": {
            "text/plain": [
              "[3, 4, 9, 10]"
            ]
          },
          "metadata": {},
          "execution_count": 10
        }
      ]
    },
    {
      "cell_type": "code",
      "source": [
        "def calc_all_inv():\n",
        "    inv = []\n",
        "    for a in range(256):\n",
        "        for b in range(256):\n",
        "            c = mult_gf256(a,b)\n",
        "            if c==1:\n",
        "                break\n",
        "        if c==1:\n",
        "            inv.append(b)\n",
        "        else:\n",
        "            inv.append(0)\n",
        "    return inv"
      ],
      "metadata": {
        "id": "WkkmSiiaspwh"
      },
      "execution_count": 37,
      "outputs": []
    },
    {
      "cell_type": "code",
      "source": [
        "inv = calc_all_inv()\n",
        "[' '.join([x.to_bytes(1,'big').hex() for x in inv[i:i+16]]) for i in range(0,256,16)]"
      ],
      "metadata": {
        "id": "l2PebqmaMM2q",
        "outputId": "3e34fbf8-7b05-47b7-a305-d7ef7928fb11",
        "colab": {
          "base_uri": "https://localhost:8080/"
        }
      },
      "execution_count": 38,
      "outputs": [
        {
          "output_type": "execute_result",
          "data": {
            "text/plain": [
              "['00 01 8d f6 cb 52 7b d1 e8 4f 29 c0 b0 e1 e5 c7',\n",
              " '74 b4 aa 4b 99 2b 60 5f 58 3f fd cc ff 40 ee b2',\n",
              " '3a 6e 5a f1 55 4d a8 c9 c1 0a 98 15 30 44 a2 c2',\n",
              " '2c 45 92 6c f3 39 66 42 f2 35 20 6f 77 bb 59 19',\n",
              " '1d fe 37 67 2d 31 f5 69 a7 64 ab 13 54 25 e9 09',\n",
              " 'ed 5c 05 ca 4c 24 87 bf 18 3e 22 f0 51 ec 61 17',\n",
              " '16 5e af d3 49 a6 36 43 f4 47 91 df 33 93 21 3b',\n",
              " '79 b7 97 85 10 b5 ba 3c b6 70 d0 06 a1 fa 81 82',\n",
              " '83 7e 7f 80 96 73 be 56 9b 9e 95 d9 f7 02 b9 a4',\n",
              " 'de 6a 32 6d d8 8a 84 72 2a 14 9f 88 f9 dc 89 9a',\n",
              " 'fb 7c 2e c3 8f b8 65 48 26 c8 12 4a ce e7 d2 62',\n",
              " '0c e0 1f ef 11 75 78 71 a5 8e 76 3d bd bc 86 57',\n",
              " '0b 28 2f a3 da d4 e4 0f a9 27 53 04 1b fc ac e6',\n",
              " '7a 07 ae 63 c5 db e2 ea 94 8b c4 d5 9d f8 90 6b',\n",
              " 'b1 0d d6 eb c6 0e cf ad 08 4e d7 e3 5d 50 1e b3',\n",
              " '5b 23 38 34 68 46 03 8c dd 9c 7d a0 cd 1a 41 1c']"
            ]
          },
          "metadata": {},
          "execution_count": 38
        }
      ]
    },
    {
      "cell_type": "code",
      "source": [
        "def affine(b):\n",
        "    mat = [[1,0,0,0,1,1,1,1],\n",
        "           [1,1,0,0,0,1,1,1],\n",
        "           [1,1,1,0,0,0,1,1],\n",
        "           [1,1,1,1,0,0,0,1],\n",
        "           [1,1,1,1,1,0,0,0],\n",
        "           [0,1,1,1,1,1,0,0],\n",
        "           [0,0,1,1,1,1,1,0],\n",
        "           [0,0,0,1,1,1,1,1]]\n",
        "    const = [1,1,0,0,0,1,1,0]\n",
        "    bb = to_binary_list(b)[::-1]\n",
        "    cc = []\n",
        "    for i in range(8):\n",
        "        c = sum([x*y for x,y in zip(mat[i],bb)]) + const[i]\n",
        "        cc = cc + [c % 2]\n",
        "    return to_num(cc[::-1])"
      ],
      "metadata": {
        "id": "G1HOBpDlMSGf"
      },
      "execution_count": 39,
      "outputs": []
    },
    {
      "cell_type": "code",
      "source": [
        "sbox = {i:affine(x) for i,x in enumerate(inv)}"
      ],
      "metadata": {
        "id": "fG6hQ96IQ7uB"
      },
      "execution_count": 43,
      "outputs": []
    },
    {
      "cell_type": "code",
      "source": [
        "[' '.join([sbox[x].to_bytes(1,'big').hex() for x in range(i,i+16)]) for i in range(0,256,16)]"
      ],
      "metadata": {
        "id": "NStiULgwPsBO",
        "outputId": "061a439b-20cd-4781-ae7c-cb04f86415b0",
        "colab": {
          "base_uri": "https://localhost:8080/"
        }
      },
      "execution_count": 44,
      "outputs": [
        {
          "output_type": "execute_result",
          "data": {
            "text/plain": [
              "['63 7c 77 7b f2 6b 6f c5 30 01 67 2b fe d7 ab 76',\n",
              " 'ca 82 c9 7d fa 59 47 f0 ad d4 a2 af 9c a4 72 c0',\n",
              " 'b7 fd 93 26 36 3f f7 cc 34 a5 e5 f1 71 d8 31 15',\n",
              " '04 c7 23 c3 18 96 05 9a 07 12 80 e2 eb 27 b2 75',\n",
              " '09 83 2c 1a 1b 6e 5a a0 52 3b d6 b3 29 e3 2f 84',\n",
              " '53 d1 00 ed 20 fc b1 5b 6a cb be 39 4a 4c 58 cf',\n",
              " 'd0 ef aa fb 43 4d 33 85 45 f9 02 7f 50 3c 9f a8',\n",
              " '51 a3 40 8f 92 9d 38 f5 bc b6 da 21 10 ff f3 d2',\n",
              " 'cd 0c 13 ec 5f 97 44 17 c4 a7 7e 3d 64 5d 19 73',\n",
              " '60 81 4f dc 22 2a 90 88 46 ee b8 14 de 5e 0b db',\n",
              " 'e0 32 3a 0a 49 06 24 5c c2 d3 ac 62 91 95 e4 79',\n",
              " 'e7 c8 37 6d 8d d5 4e a9 6c 56 f4 ea 65 7a ae 08',\n",
              " 'ba 78 25 2e 1c a6 b4 c6 e8 dd 74 1f 4b bd 8b 8a',\n",
              " '70 3e b5 66 48 03 f6 0e 61 35 57 b9 86 c1 1d 9e',\n",
              " 'e1 f8 98 11 69 d9 8e 94 9b 1e 87 e9 ce 55 28 df',\n",
              " '8c a1 89 0d bf e6 42 68 41 99 2d 0f b0 54 bb 16']"
            ]
          },
          "metadata": {},
          "execution_count": 44
        }
      ]
    },
    {
      "cell_type": "code",
      "source": [
        "def RotWord(w):\n",
        "    return w[1:] + w[:1]"
      ],
      "metadata": {
        "id": "tRhSqpCCPtQz"
      },
      "execution_count": 42,
      "outputs": []
    },
    {
      "cell_type": "code",
      "source": [
        "def SubBytes(b):\n",
        "    return sbox[b]\n",
        "def SubWords(w):\n",
        "    return [SubBytes[x] for x in w]"
      ],
      "metadata": {
        "id": "84rwNjhSWKCq"
      },
      "execution_count": 45,
      "outputs": []
    },
    {
      "cell_type": "code",
      "source": [
        "def get_rcon(Nr):\n",
        "    rcon = [0,1,2]\n",
        "    for i in range(3,Nr+1):\n",
        "        x = mult_gf256(rcon[i-1],2)\n",
        "        rcon.append(x)\n",
        "    return rcon"
      ],
      "metadata": {
        "id": "qlKnSto2XF4d"
      },
      "execution_count": 51,
      "outputs": []
    },
    {
      "cell_type": "code",
      "source": [
        "rcon = get_rcon(14)\n",
        "' '.join([x.to_bytes(1,'big').hex() for x in rcon])"
      ],
      "metadata": {
        "id": "pnVnY721X6VP",
        "outputId": "4acd8a6b-0051-44d3-cd99-7f0d32b7be3b",
        "colab": {
          "base_uri": "https://localhost:8080/",
          "height": 35
        }
      },
      "execution_count": 56,
      "outputs": [
        {
          "output_type": "execute_result",
          "data": {
            "text/plain": [
              "'00 01 02 04 08 10 20 40 80 1b 36 6c d8 ab 4d'"
            ],
            "application/vnd.google.colaboratory.intrinsic+json": {
              "type": "string"
            }
          },
          "metadata": {},
          "execution_count": 56
        }
      ]
    },
    {
      "cell_type": "code",
      "source": [],
      "metadata": {
        "id": "O_TvkwX3YNdU"
      },
      "execution_count": null,
      "outputs": []
    }
  ]
}