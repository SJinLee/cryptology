{
  "nbformat": 4,
  "nbformat_minor": 0,
  "metadata": {
    "colab": {
      "provenance": [],
      "authorship_tag": "ABX9TyPDzIKK0MRCjmwbTUmJVcCp",
      "include_colab_link": true
    },
    "kernelspec": {
      "name": "python3",
      "display_name": "Python 3"
    },
    "language_info": {
      "name": "python"
    }
  },
  "cells": [
    {
      "cell_type": "markdown",
      "metadata": {
        "id": "view-in-github",
        "colab_type": "text"
      },
      "source": [
        "<a href=\"https://colab.research.google.com/github/SJinLee/cryptology/blob/main/05.AES_GF256.ipynb\" target=\"_parent\"><img src=\"https://colab.research.google.com/assets/colab-badge.svg\" alt=\"Open In Colab\"/></a>"
      ]
    },
    {
      "cell_type": "markdown",
      "source": [
        "https://www.cs.uaf.edu/2015/spring/cs463/lecture/03_23_AES.html"
      ],
      "metadata": {
        "id": "aFitZviuGQvc"
      }
    },
    {
      "cell_type": "code",
      "source": [
        "def to_binary_list(m,ndigits=8):\n",
        "    b = []\n",
        "    for i in range(ndigits):\n",
        "        b = [m%2] + b\n",
        "        m = m//2\n",
        "    return b\n",
        "def to_num(b):\n",
        "    m = 0\n",
        "    for n in b:\n",
        "        m = m*2+n\n",
        "    return m"
      ],
      "metadata": {
        "id": "AWxUUkzLD9bP"
      },
      "execution_count": 17,
      "outputs": []
    },
    {
      "cell_type": "code",
      "execution_count": 22,
      "metadata": {
        "id": "j8ocpxFFD55Z"
      },
      "outputs": [],
      "source": [
        "def add_gf256(a,b):\n",
        "    return a^b\n",
        "def mult_gf256(a,b):\n",
        "    irr = 0x11b\n",
        "    high = 0x100\n",
        "    c = 0\n",
        "    for bit in range(7,-1,-1):\n",
        "        if b&(1<<bit):\n",
        "            c=c^(a<<bit)\n",
        "\n",
        "    for bit in range(7,-1,-1):\n",
        "        if c & (high<<bit):\n",
        "            c=c^(irr<<bit)\n",
        "    return c"
      ]
    },
    {
      "cell_type": "code",
      "source": [
        "a = 0x57\n",
        "b = 0x83\n",
        "c = add_gf256(a,b)\n",
        "hex(c)"
      ],
      "metadata": {
        "colab": {
          "base_uri": "https://localhost:8080/",
          "height": 35
        },
        "id": "_Sn_DCFfF71m",
        "outputId": "85ca5690-f147-4616-abb0-c421552223a6"
      },
      "execution_count": 23,
      "outputs": [
        {
          "output_type": "execute_result",
          "data": {
            "text/plain": [
              "'0xd4'"
            ],
            "application/vnd.google.colaboratory.intrinsic+json": {
              "type": "string"
            }
          },
          "metadata": {},
          "execution_count": 23
        }
      ]
    },
    {
      "cell_type": "code",
      "source": [
        "a = 0x57\n",
        "b = 0x83\n",
        "c = mult_gf256(a,b)\n",
        "hex(c)"
      ],
      "metadata": {
        "colab": {
          "base_uri": "https://localhost:8080/",
          "height": 35
        },
        "id": "VUsfZHxPEvNp",
        "outputId": "1d532ae7-7162-4d01-d2fe-251d37aff113"
      },
      "execution_count": 24,
      "outputs": [
        {
          "output_type": "execute_result",
          "data": {
            "text/plain": [
              "'0xc1'"
            ],
            "application/vnd.google.colaboratory.intrinsic+json": {
              "type": "string"
            }
          },
          "metadata": {},
          "execution_count": 24
        }
      ]
    },
    {
      "cell_type": "code",
      "source": [
        "to_binary_list(c)"
      ],
      "metadata": {
        "colab": {
          "base_uri": "https://localhost:8080/"
        },
        "id": "wjf7mhyfEwM3",
        "outputId": "a3790683-2896-4408-adea-97686e1d6979"
      },
      "execution_count": 21,
      "outputs": [
        {
          "output_type": "execute_result",
          "data": {
            "text/plain": [
              "[1, 1, 0, 0, 0, 0, 0, 1]"
            ]
          },
          "metadata": {},
          "execution_count": 21
        }
      ]
    },
    {
      "cell_type": "code",
      "source": [],
      "metadata": {
        "id": "0AoNCQdoFWcF"
      },
      "execution_count": null,
      "outputs": []
    }
  ]
}