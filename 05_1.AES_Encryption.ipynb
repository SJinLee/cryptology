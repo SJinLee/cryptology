{
  "nbformat": 4,
  "nbformat_minor": 0,
  "metadata": {
    "colab": {
      "provenance": [],
      "authorship_tag": "ABX9TyNdWFVE3L5Rq+pBJjUQcq1L",
      "include_colab_link": true
    },
    "kernelspec": {
      "name": "python3",
      "display_name": "Python 3"
    },
    "language_info": {
      "name": "python"
    }
  },
  "cells": [
    {
      "cell_type": "markdown",
      "metadata": {
        "id": "view-in-github",
        "colab_type": "text"
      },
      "source": [
        "<a href=\"https://colab.research.google.com/github/SJinLee/cryptology/blob/main/05_1.AES_Encryption.ipynb\" target=\"_parent\"><img src=\"https://colab.research.google.com/assets/colab-badge.svg\" alt=\"Open In Colab\"/></a>"
      ]
    },
    {
      "cell_type": "markdown",
      "source": [
        "https://www.cs.uaf.edu/2015/spring/cs463/lecture/03_23_AES.html"
      ],
      "metadata": {
        "id": "aFitZviuGQvc"
      }
    },
    {
      "cell_type": "code",
      "source": [
        "def to_binary_list(m,ndigits=8):\n",
        "    b = []\n",
        "    for i in range(ndigits):\n",
        "        b = [m%2] + b\n",
        "        m = m//2\n",
        "    return b\n",
        "def to_num(b):\n",
        "    m = 0\n",
        "    for n in b:\n",
        "        m = m*2+n\n",
        "    return m"
      ],
      "metadata": {
        "id": "AWxUUkzLD9bP"
      },
      "execution_count": 3,
      "outputs": []
    },
    {
      "cell_type": "code",
      "execution_count": 4,
      "metadata": {
        "id": "j8ocpxFFD55Z"
      },
      "outputs": [],
      "source": [
        "def add_gf256(a,b):\n",
        "    return a^b\n",
        "def mult_gf256(a,b):\n",
        "    irr = 0x11b\n",
        "    high = 0x100\n",
        "    c = 0\n",
        "    for bit in range(7,-1,-1):\n",
        "        if b&(1<<bit):\n",
        "            c=c^(a<<bit)\n",
        "\n",
        "    for bit in range(7,-1,-1):\n",
        "        if c & (high<<bit):\n",
        "            c=c^(irr<<bit)\n",
        "    return c"
      ]
    },
    {
      "cell_type": "code",
      "source": [
        "a = 0x57\n",
        "b = 0x83\n",
        "c = add_gf256(a,b)\n",
        "hex(c)"
      ],
      "metadata": {
        "colab": {
          "base_uri": "https://localhost:8080/",
          "height": 35
        },
        "id": "_Sn_DCFfF71m",
        "outputId": "3e5bcf77-0cb0-4eec-bcbd-4d0e483a946a"
      },
      "execution_count": 5,
      "outputs": [
        {
          "output_type": "execute_result",
          "data": {
            "text/plain": [
              "'0xd4'"
            ],
            "application/vnd.google.colaboratory.intrinsic+json": {
              "type": "string"
            }
          },
          "metadata": {},
          "execution_count": 5
        }
      ]
    },
    {
      "cell_type": "code",
      "source": [
        "a = 0x57\n",
        "b = 0x83\n",
        "c = mult_gf256(a,b)\n",
        "hex(c)"
      ],
      "metadata": {
        "colab": {
          "base_uri": "https://localhost:8080/",
          "height": 35
        },
        "id": "VUsfZHxPEvNp",
        "outputId": "ebfecac2-4652-4907-f2da-4d768f4a2fb3"
      },
      "execution_count": 6,
      "outputs": [
        {
          "output_type": "execute_result",
          "data": {
            "text/plain": [
              "'0xc1'"
            ],
            "application/vnd.google.colaboratory.intrinsic+json": {
              "type": "string"
            }
          },
          "metadata": {},
          "execution_count": 6
        }
      ]
    },
    {
      "cell_type": "code",
      "source": [
        "to_binary_list(c)"
      ],
      "metadata": {
        "colab": {
          "base_uri": "https://localhost:8080/"
        },
        "id": "wjf7mhyfEwM3",
        "outputId": "5b506d15-4521-46db-ff65-b3ad663d0cc5"
      },
      "execution_count": 7,
      "outputs": [
        {
          "output_type": "execute_result",
          "data": {
            "text/plain": [
              "[1, 1, 0, 0, 0, 0, 0, 1]"
            ]
          },
          "metadata": {},
          "execution_count": 7
        }
      ]
    },
    {
      "cell_type": "code",
      "source": [
        "def gmix_column(r):\n",
        "    a = [0]*4;\n",
        "    b = [0]*4;\n",
        "    # The array 'a' is simply a copy of the input array 'r'\n",
        "    # The array 'b' is each element of the array 'a' multiplied by 2\n",
        "    # in Rijndael's Galois field\n",
        "    # a[n] ^ b[n] is element n multiplied by 3 in Rijndael's Galois field\n",
        "    for c in range(4):\n",
        "        a[c] = r[c]\n",
        "        h = r[c] >> 7\n",
        "        b[c] = (r[c] << 1) & 0x0ff\n",
        "        b[c] ^= h * 0x1B # Rijndael's Galois field\n",
        "    r2 = [0]*4\n",
        "    r2[0] = b[0] ^ a[3] ^ a[2] ^ b[1] ^ a[1] # 2 * a0 + a3 + a2 + 3 * a1\n",
        "    r2[1] = b[1] ^ a[0] ^ a[3] ^ b[2] ^ a[2] # 2 * a1 + a0 + a3 + 3 * a2\n",
        "    r2[2] = b[2] ^ a[1] ^ a[0] ^ b[3] ^ a[3] # 2 * a2 + a1 + a0 + 3 * a3\n",
        "    r2[3] = b[3] ^ a[2] ^ a[1] ^ b[0] ^ a[0] # 2 * a3 + a2 + a1 + 3 * a0\n",
        "    return r2"
      ],
      "metadata": {
        "id": "0AoNCQdoFWcF"
      },
      "execution_count": 8,
      "outputs": []
    },
    {
      "cell_type": "code",
      "source": [
        "c = [0x01,0x02,0x03,0x04]\n",
        "gmix_column(c)"
      ],
      "metadata": {
        "id": "wKWJ6D1Lsbr9",
        "outputId": "44d22e2e-941e-439c-9a2d-c33570387443",
        "colab": {
          "base_uri": "https://localhost:8080/"
        }
      },
      "execution_count": 9,
      "outputs": [
        {
          "output_type": "execute_result",
          "data": {
            "text/plain": [
              "[3, 4, 9, 10]"
            ]
          },
          "metadata": {},
          "execution_count": 9
        }
      ]
    },
    {
      "cell_type": "code",
      "source": [
        "def calc_all_inv():\n",
        "    inv = []\n",
        "    for a in range(256):\n",
        "        for b in range(256):\n",
        "            c = mult_gf256(a,b)\n",
        "            if c==1:\n",
        "                break\n",
        "        if c==1:\n",
        "            inv.append(b)\n",
        "        else:\n",
        "            inv.append(0)\n",
        "    return inv"
      ],
      "metadata": {
        "id": "WkkmSiiaspwh"
      },
      "execution_count": 10,
      "outputs": []
    },
    {
      "cell_type": "code",
      "source": [
        "inv = calc_all_inv()\n",
        "[' '.join([x.to_bytes(1,'big').hex() for x in inv[i:i+16]]) for i in range(0,256,16)]"
      ],
      "metadata": {
        "id": "l2PebqmaMM2q",
        "outputId": "57f9e53d-a2c5-4d24-e491-a9c1eccc5cc4",
        "colab": {
          "base_uri": "https://localhost:8080/"
        }
      },
      "execution_count": 11,
      "outputs": [
        {
          "output_type": "execute_result",
          "data": {
            "text/plain": [
              "['00 01 8d f6 cb 52 7b d1 e8 4f 29 c0 b0 e1 e5 c7',\n",
              " '74 b4 aa 4b 99 2b 60 5f 58 3f fd cc ff 40 ee b2',\n",
              " '3a 6e 5a f1 55 4d a8 c9 c1 0a 98 15 30 44 a2 c2',\n",
              " '2c 45 92 6c f3 39 66 42 f2 35 20 6f 77 bb 59 19',\n",
              " '1d fe 37 67 2d 31 f5 69 a7 64 ab 13 54 25 e9 09',\n",
              " 'ed 5c 05 ca 4c 24 87 bf 18 3e 22 f0 51 ec 61 17',\n",
              " '16 5e af d3 49 a6 36 43 f4 47 91 df 33 93 21 3b',\n",
              " '79 b7 97 85 10 b5 ba 3c b6 70 d0 06 a1 fa 81 82',\n",
              " '83 7e 7f 80 96 73 be 56 9b 9e 95 d9 f7 02 b9 a4',\n",
              " 'de 6a 32 6d d8 8a 84 72 2a 14 9f 88 f9 dc 89 9a',\n",
              " 'fb 7c 2e c3 8f b8 65 48 26 c8 12 4a ce e7 d2 62',\n",
              " '0c e0 1f ef 11 75 78 71 a5 8e 76 3d bd bc 86 57',\n",
              " '0b 28 2f a3 da d4 e4 0f a9 27 53 04 1b fc ac e6',\n",
              " '7a 07 ae 63 c5 db e2 ea 94 8b c4 d5 9d f8 90 6b',\n",
              " 'b1 0d d6 eb c6 0e cf ad 08 4e d7 e3 5d 50 1e b3',\n",
              " '5b 23 38 34 68 46 03 8c dd 9c 7d a0 cd 1a 41 1c']"
            ]
          },
          "metadata": {},
          "execution_count": 11
        }
      ]
    },
    {
      "cell_type": "code",
      "source": [
        "def affine(b):\n",
        "    mat = [[1,0,0,0,1,1,1,1],\n",
        "           [1,1,0,0,0,1,1,1],\n",
        "           [1,1,1,0,0,0,1,1],\n",
        "           [1,1,1,1,0,0,0,1],\n",
        "           [1,1,1,1,1,0,0,0],\n",
        "           [0,1,1,1,1,1,0,0],\n",
        "           [0,0,1,1,1,1,1,0],\n",
        "           [0,0,0,1,1,1,1,1]]\n",
        "    const = [1,1,0,0,0,1,1,0]\n",
        "    bb = to_binary_list(b)[::-1]\n",
        "    cc = []\n",
        "    for i in range(8):\n",
        "        c = sum([x*y for x,y in zip(mat[i],bb)]) + const[i]\n",
        "        cc = cc + [c % 2]\n",
        "    return to_num(cc[::-1])"
      ],
      "metadata": {
        "id": "G1HOBpDlMSGf"
      },
      "execution_count": 12,
      "outputs": []
    },
    {
      "cell_type": "code",
      "source": [
        "sbox = {i:affine(x) for i,x in enumerate(inv)}"
      ],
      "metadata": {
        "id": "fG6hQ96IQ7uB"
      },
      "execution_count": 13,
      "outputs": []
    },
    {
      "cell_type": "code",
      "source": [
        "[' '.join([sbox[x].to_bytes(1,'big').hex() for x in range(i,i+16)]) for i in range(0,256,16)]"
      ],
      "metadata": {
        "id": "NStiULgwPsBO",
        "outputId": "c4849c0c-accc-4750-dc60-e8c6f384e2d8",
        "colab": {
          "base_uri": "https://localhost:8080/"
        }
      },
      "execution_count": 14,
      "outputs": [
        {
          "output_type": "execute_result",
          "data": {
            "text/plain": [
              "['63 7c 77 7b f2 6b 6f c5 30 01 67 2b fe d7 ab 76',\n",
              " 'ca 82 c9 7d fa 59 47 f0 ad d4 a2 af 9c a4 72 c0',\n",
              " 'b7 fd 93 26 36 3f f7 cc 34 a5 e5 f1 71 d8 31 15',\n",
              " '04 c7 23 c3 18 96 05 9a 07 12 80 e2 eb 27 b2 75',\n",
              " '09 83 2c 1a 1b 6e 5a a0 52 3b d6 b3 29 e3 2f 84',\n",
              " '53 d1 00 ed 20 fc b1 5b 6a cb be 39 4a 4c 58 cf',\n",
              " 'd0 ef aa fb 43 4d 33 85 45 f9 02 7f 50 3c 9f a8',\n",
              " '51 a3 40 8f 92 9d 38 f5 bc b6 da 21 10 ff f3 d2',\n",
              " 'cd 0c 13 ec 5f 97 44 17 c4 a7 7e 3d 64 5d 19 73',\n",
              " '60 81 4f dc 22 2a 90 88 46 ee b8 14 de 5e 0b db',\n",
              " 'e0 32 3a 0a 49 06 24 5c c2 d3 ac 62 91 95 e4 79',\n",
              " 'e7 c8 37 6d 8d d5 4e a9 6c 56 f4 ea 65 7a ae 08',\n",
              " 'ba 78 25 2e 1c a6 b4 c6 e8 dd 74 1f 4b bd 8b 8a',\n",
              " '70 3e b5 66 48 03 f6 0e 61 35 57 b9 86 c1 1d 9e',\n",
              " 'e1 f8 98 11 69 d9 8e 94 9b 1e 87 e9 ce 55 28 df',\n",
              " '8c a1 89 0d bf e6 42 68 41 99 2d 0f b0 54 bb 16']"
            ]
          },
          "metadata": {},
          "execution_count": 14
        }
      ]
    },
    {
      "cell_type": "code",
      "source": [
        "def RotWord(w,shift=1):\n",
        "    if shift==0:\n",
        "        return w[:]\n",
        "    return w[shift:] + w[:shift]"
      ],
      "metadata": {
        "id": "tRhSqpCCPtQz"
      },
      "execution_count": 15,
      "outputs": []
    },
    {
      "cell_type": "code",
      "source": [
        "def SubByte(b):\n",
        "    return sbox[b]\n",
        "def SubWord(w):\n",
        "    return [SubByte(x) for x in w]"
      ],
      "metadata": {
        "id": "84rwNjhSWKCq"
      },
      "execution_count": 16,
      "outputs": []
    },
    {
      "cell_type": "code",
      "source": [
        "def SubBytes(bytes):\n",
        "    return [sbox[b] for b in bytes]\n",
        "def ShiftRows(words):\n",
        "    ret = []\n",
        "    for s in range(4):\n",
        "        ret += RotWord(words[s*4:s*4+4],shift=s)\n",
        "    return ret\n",
        "def MixColumns(words):\n",
        "    for i in range(4):\n",
        "        r = [words[4*k+i] for k in range(4)]\n",
        "        r = gmix_column(r)\n",
        "        for j in range(4):\n",
        "            words[4*j+i] = r[j]"
      ],
      "metadata": {
        "id": "OQIg-ca3xZU_"
      },
      "execution_count": 17,
      "outputs": []
    },
    {
      "cell_type": "code",
      "source": [
        "def get_rcon(Nr):\n",
        "    rcon = [0,1,2]\n",
        "    for i in range(3,Nr+1):\n",
        "        x = mult_gf256(rcon[i-1],2)\n",
        "        rcon.append(x)\n",
        "    return rcon"
      ],
      "metadata": {
        "id": "qlKnSto2XF4d"
      },
      "execution_count": 18,
      "outputs": []
    },
    {
      "cell_type": "code",
      "source": [
        "rcon = get_rcon(14)\n",
        "' '.join([x.to_bytes(1,'big').hex() for x in rcon])"
      ],
      "metadata": {
        "id": "pnVnY721X6VP",
        "outputId": "b23f33f6-bf73-401f-866b-fc9aa999d1ac",
        "colab": {
          "base_uri": "https://localhost:8080/",
          "height": 35
        }
      },
      "execution_count": 19,
      "outputs": [
        {
          "output_type": "execute_result",
          "data": {
            "text/plain": [
              "'00 01 02 04 08 10 20 40 80 1b 36 6c d8 ab 4d'"
            ],
            "application/vnd.google.colaboratory.intrinsic+json": {
              "type": "string"
            }
          },
          "metadata": {},
          "execution_count": 19
        }
      ]
    },
    {
      "cell_type": "code",
      "source": [
        "def key_expansion(key,nk,nr,nb):\n",
        "    rcon = [[x,0,0,0] for x in get_rcon(nr)]\n",
        "    w = []\n",
        "    for i in range(nk):\n",
        "        w.append(key[i*4:i*4+4])\n",
        "    for i in range(nk,nb*(nr+1)):\n",
        "        temp = w[i-1]\n",
        "        if i%nk==0:\n",
        "            temp = [x^y for x,y in zip(SubWord(RotWord(temp)),rcon[i//nk])]\n",
        "        elif nk>6 and i%nk==4:\n",
        "            temp = SubWord(temp)\n",
        "        w.append([x^y for x,y in zip(w[i-nk],temp)])\n",
        "    return w"
      ],
      "metadata": {
        "id": "O_TvkwX3YNdU"
      },
      "execution_count": 20,
      "outputs": []
    },
    {
      "cell_type": "code",
      "source": [
        "nk2nr = {4:10,6:12,8:14}\n",
        "nk = 4\n",
        "nr = nk2nr[nk]\n",
        "nb = 4\n",
        "K = [i for i in range(nk*4)]\n",
        "M = [i+16 for i in range(nk*4)]"
      ],
      "metadata": {
        "id": "zv81oLNQpC7N"
      },
      "execution_count": 21,
      "outputs": []
    },
    {
      "cell_type": "code",
      "source": [
        "' '.join([x.to_bytes(1,'big').hex() for x in K])"
      ],
      "metadata": {
        "colab": {
          "base_uri": "https://localhost:8080/",
          "height": 35
        },
        "id": "fg3P0DcFp7rb",
        "outputId": "f791c7fe-3cde-450e-f5c6-ec468cf03e0f"
      },
      "execution_count": 22,
      "outputs": [
        {
          "output_type": "execute_result",
          "data": {
            "text/plain": [
              "'00 01 02 03 04 05 06 07 08 09 0a 0b 0c 0d 0e 0f'"
            ],
            "application/vnd.google.colaboratory.intrinsic+json": {
              "type": "string"
            }
          },
          "metadata": {},
          "execution_count": 22
        }
      ]
    },
    {
      "cell_type": "code",
      "source": [
        "' '.join([x.to_bytes(1,'big').hex() for x in M])"
      ],
      "metadata": {
        "colab": {
          "base_uri": "https://localhost:8080/",
          "height": 35
        },
        "id": "uxtegTJ3p-PY",
        "outputId": "ef52479f-c663-4896-ba29-7d565397441a"
      },
      "execution_count": 23,
      "outputs": [
        {
          "output_type": "execute_result",
          "data": {
            "text/plain": [
              "'10 11 12 13 14 15 16 17 18 19 1a 1b 1c 1d 1e 1f'"
            ],
            "application/vnd.google.colaboratory.intrinsic+json": {
              "type": "string"
            }
          },
          "metadata": {},
          "execution_count": 23
        }
      ]
    },
    {
      "cell_type": "code",
      "source": [
        "w = key_expansion(K,nk,nr,nb)"
      ],
      "metadata": {
        "id": "ILrWNTDyp_Lb"
      },
      "execution_count": 24,
      "outputs": []
    },
    {
      "cell_type": "code",
      "source": [
        "mm = M\n",
        "for i in range(0,nr):\n",
        "    mm = [x^y for x,y in zip(mm,sum(w[4*i:4*i+4],[]))]\n",
        "    print(i,'key',mm)\n",
        "    mm = SubBytes(mm)\n",
        "    print(i,'sbox',mm)\n",
        "    mm = ShiftRows(mm)\n",
        "    print(i,'shift',mm)\n",
        "    if i<nr-1:\n",
        "        MixColumns(mm)\n",
        "        print(i,'mix',mm)\n",
        "C = [x^y for x,y in zip(mm,sum(w[4*nr:4*nr+4],[]))]\n",
        "C"
      ],
      "metadata": {
        "colab": {
          "base_uri": "https://localhost:8080/"
        },
        "id": "fytJ5rKTqdQ9",
        "outputId": "92fc9ec3-5181-4125-86aa-7e50b92dc6ae"
      },
      "execution_count": 39,
      "outputs": [
        {
          "output_type": "stream",
          "name": "stdout",
          "text": [
            "0 key [16, 16, 16, 16, 16, 16, 16, 16, 16, 16, 16, 16, 16, 16, 16, 16]\n",
            "0 sbox [202, 202, 202, 202, 202, 202, 202, 202, 202, 202, 202, 202, 202, 202, 202, 202]\n",
            "0 shift [202, 202, 202, 202, 202, 202, 202, 202, 202, 202, 202, 202, 202, 202, 202, 202]\n",
            "0 mix [202, 202, 202, 202, 202, 202, 202, 202, 202, 202, 202, 202, 202, 202, 202, 202]\n",
            "1 key [28, 96, 190, 55, 24, 101, 184, 48, 16, 108, 178, 59, 28, 97, 188, 52]\n",
            "1 sbox [156, 208, 174, 154, 173, 77, 108, 4, 202, 80, 55, 226, 156, 239, 101, 24]\n",
            "1 shift [156, 208, 174, 154, 77, 108, 4, 173, 55, 226, 202, 80, 24, 156, 239, 101]\n",
            "1 mix [219, 113, 110, 246, 71, 169, 12, 78, 151, 220, 15, 56, 245, 198, 226, 130]\n",
            "2 key [109, 227, 161, 253, 35, 148, 177, 191, 41, 71, 202, 56, 157, 246, 81, 124]\n",
            "2 sbox [60, 17, 50, 84, 38, 34, 200, 8, 165, 160, 116, 7, 94, 66, 209, 16]\n",
            "2 shift [60, 17, 50, 84, 34, 200, 8, 38, 116, 7, 165, 160, 16, 94, 66, 209]\n",
            "2 mix [122, 56, 155, 179, 244, 205, 148, 50, 198, 53, 173, 65, 50, 64, 127, 195]\n",
            "3 key [204, 199, 239, 253, 38, 15, 93, 141, 170, 108, 161, 254, 54, 41, 192, 130]\n",
            "3 sbox [75, 198, 223, 84, 247, 118, 76, 93, 172, 80, 50, 187, 5, 165, 186, 19]\n",
            "3 shift [75, 198, 223, 84, 118, 76, 93, 247, 50, 187, 172, 80, 19, 5, 165, 186]\n",
            "3 mix [45, 253, 75, 64, 226, 141, 47, 235, 108, 232, 53, 214, 191, 172, 218, 52]\n",
            "4 key [106, 10, 188, 252, 119, 184, 17, 232, 149, 132, 7, 106, 66, 169, 87, 201]\n",
            "4 sbox [2, 103, 101, 176, 245, 108, 130, 155, 42, 95, 197, 2, 44, 211, 91, 221]\n",
            "4 shift [2, 103, 101, 176, 108, 130, 155, 245, 197, 2, 42, 95, 221, 44, 211, 91]\n",
            "4 mix [168, 125, 133, 123, 83, 82, 229, 251, 131, 149, 196, 22, 14, 113, 163, 215]\n",
            "5 key [148, 215, 38, 147, 250, 205, 120, 16, 211, 102, 107, 65, 163, 135, 129, 125]\n",
            "5 sbox [34, 14, 247, 220, 45, 189, 188, 202, 102, 51, 127, 131, 10, 23, 12, 255]\n",
            "5 shift [34, 14, 247, 220, 189, 188, 202, 45, 127, 131, 102, 51, 255, 10, 23, 12]\n",
            "5 mix [24, 74, 193, 235, 61, 249, 197, 223, 123, 177, 200, 131, 65, 57, 128, 121]\n",
            "6 key [70, 115, 206, 150, 202, 95, 87, 73, 220, 228, 245, 66, 75, 154, 159, 18]\n",
            "6 sbox [90, 143, 139, 144, 116, 207, 91, 59, 134, 105, 230, 44, 179, 184, 219, 201]\n",
            "6 shift [90, 143, 139, 144, 207, 91, 59, 116, 230, 44, 134, 105, 201, 179, 184, 219]\n",
            "6 mix [209, 119, 126, 21, 39, 254, 212, 24, 2, 66, 116, 64, 78, 128, 80, 27]\n",
            "7 key [197, 142, 14, 15, 196, 161, 54, 148, 70, 72, 171, 13, 0, 41, 144, 61]\n",
            "7 sbox [166, 25, 171, 118, 28, 50, 5, 34, 90, 82, 98, 215, 99, 165, 96, 39]\n",
            "7 shift [166, 25, 171, 118, 50, 5, 34, 28, 98, 215, 90, 82, 39, 99, 165, 96]\n",
            "7 mix [68, 137, 212, 250, 67, 18, 164, 216, 57, 12, 201, 110, 239, 63, 207, 20]\n",
            "8 key [3, 202, 83, 207, 231, 14, 193, 97, 217, 26, 115, 154, 65, 128, 181, 198]\n",
            "8 sbox [123, 116, 237, 138, 148, 171, 120, 239, 53, 162, 143, 184, 131, 205, 213, 180]\n",
            "8 shift [123, 116, 237, 138, 171, 120, 239, 148, 143, 184, 53, 162, 180, 131, 205, 213]\n",
            "8 mix [43, 91, 19, 223, 8, 212, 186, 145, 18, 249, 36, 37, 218, 65, 119, 2]\n",
            "9 key [127, 194, 33, 14, 248, 81, 237, 249, 2, 106, 201, 185, 100, 109, 224, 76]\n",
            "9 sbox [210, 37, 253, 171, 65, 209, 85, 153, 119, 2, 221, 86, 67, 60, 225, 41]\n",
            "9 shift [210, 37, 253, 171, 209, 85, 153, 65, 221, 86, 119, 2, 41, 67, 60, 225]\n"
          ]
        },
        {
          "output_type": "execute_result",
          "data": {
            "text/plain": [
              "[193, 52, 224, 212, 50, 193, 211, 86, 46, 81, 208, 137, 100, 104, 12, 36]"
            ]
          },
          "metadata": {},
          "execution_count": 39
        }
      ]
    },
    {
      "cell_type": "code",
      "source": [
        "def invaffine(b):\n",
        "    mati = [[0,0,1,0,0,1,0,1],\n",
        "           [1,0,0,1,0,0,1,0],\n",
        "           [0,1,0,0,1,0,0,1],\n",
        "           [1,0,1,0,0,1,0,0],\n",
        "           [0,1,0,1,0,0,1,0],\n",
        "           [0,0,1,0,1,0,0,1],\n",
        "           [1,0,0,1,0,1,0,0],\n",
        "           [0,1,0,0,1,0,1,0]]\n",
        "    const = [1,1,0,0,0,1,1,0]\n",
        "    bpc = [x+y for x,y in zip(to_binary_list(b)[::-1], const)]\n",
        "    cc = []\n",
        "    for i in range(8):\n",
        "        c = sum([x*y for x,y in zip(mati[i],bpc)])\n",
        "        cc = cc + [c % 2]\n",
        "    return to_num(cc[::-1])"
      ],
      "metadata": {
        "id": "1n7VnEHqBwXX"
      },
      "execution_count": 26,
      "outputs": []
    },
    {
      "cell_type": "code",
      "source": [
        "invsbox2 = {x:inv[invaffine(x)] for x in range(256)}"
      ],
      "metadata": {
        "id": "trA1ZvkdWP5o"
      },
      "execution_count": 46,
      "outputs": []
    },
    {
      "cell_type": "code",
      "source": [
        "[' '.join([invsbox2[x].to_bytes(1,'big').hex() for x in range(i,i+16)]) for i in range(0,256,16)]"
      ],
      "metadata": {
        "colab": {
          "base_uri": "https://localhost:8080/"
        },
        "id": "f75_dklRWl1e",
        "outputId": "70643cb6-779a-43b5-bfdb-ca70927a6719"
      },
      "execution_count": 47,
      "outputs": [
        {
          "output_type": "execute_result",
          "data": {
            "text/plain": [
              "['52 09 6a d5 30 36 a5 38 bf 40 a3 9e 81 f3 d7 fb',\n",
              " '7c e3 39 82 9b 2f ff 87 34 8e 43 44 c4 de e9 cb',\n",
              " '54 7b 94 32 a6 c2 23 3d ee 4c 95 0b 42 fa c3 4e',\n",
              " '08 2e a1 66 28 d9 24 b2 76 5b a2 49 6d 8b d1 25',\n",
              " '72 f8 f6 64 86 68 98 16 d4 a4 5c cc 5d 65 b6 92',\n",
              " '6c 70 48 50 fd ed b9 da 5e 15 46 57 a7 8d 9d 84',\n",
              " '90 d8 ab 00 8c bc d3 0a f7 e4 58 05 b8 b3 45 06',\n",
              " 'd0 2c 1e 8f ca 3f 0f 02 c1 af bd 03 01 13 8a 6b',\n",
              " '3a 91 11 41 4f 67 dc ea 97 f2 cf ce f0 b4 e6 73',\n",
              " '96 ac 74 22 e7 ad 35 85 e2 f9 37 e8 1c 75 df 6e',\n",
              " '47 f1 1a 71 1d 29 c5 89 6f b7 62 0e aa 18 be 1b',\n",
              " 'fc 56 3e 4b c6 d2 79 20 9a db c0 fe 78 cd 5a f4',\n",
              " '1f dd a8 33 88 07 c7 31 b1 12 10 59 27 80 ec 5f',\n",
              " '60 51 7f a9 19 b5 4a 0d 2d e5 7a 9f 93 c9 9c ef',\n",
              " 'a0 e0 3b 4d ae 2a f5 b0 c8 eb bb 3c 83 53 99 61',\n",
              " '17 2b 04 7e ba 77 d6 26 e1 69 14 63 55 21 0c 7d']"
            ]
          },
          "metadata": {},
          "execution_count": 47
        }
      ]
    },
    {
      "cell_type": "code",
      "source": [
        "invsbox = {sbox[i]:i for i in sbox}"
      ],
      "metadata": {
        "id": "gorKKvGUCdEW"
      },
      "execution_count": 27,
      "outputs": []
    },
    {
      "cell_type": "code",
      "source": [
        "[' '.join([invsbox[x].to_bytes(1,'big').hex() for x in range(i,i+16)]) for i in range(0,256,16)]"
      ],
      "metadata": {
        "colab": {
          "base_uri": "https://localhost:8080/"
        },
        "id": "Bi7M1t8f-bwh",
        "outputId": "fe118039-f6d5-4f56-96e8-b1f419dafec4"
      },
      "execution_count": 28,
      "outputs": [
        {
          "output_type": "execute_result",
          "data": {
            "text/plain": [
              "['52 09 6a d5 30 36 a5 38 bf 40 a3 9e 81 f3 d7 fb',\n",
              " '7c e3 39 82 9b 2f ff 87 34 8e 43 44 c4 de e9 cb',\n",
              " '54 7b 94 32 a6 c2 23 3d ee 4c 95 0b 42 fa c3 4e',\n",
              " '08 2e a1 66 28 d9 24 b2 76 5b a2 49 6d 8b d1 25',\n",
              " '72 f8 f6 64 86 68 98 16 d4 a4 5c cc 5d 65 b6 92',\n",
              " '6c 70 48 50 fd ed b9 da 5e 15 46 57 a7 8d 9d 84',\n",
              " '90 d8 ab 00 8c bc d3 0a f7 e4 58 05 b8 b3 45 06',\n",
              " 'd0 2c 1e 8f ca 3f 0f 02 c1 af bd 03 01 13 8a 6b',\n",
              " '3a 91 11 41 4f 67 dc ea 97 f2 cf ce f0 b4 e6 73',\n",
              " '96 ac 74 22 e7 ad 35 85 e2 f9 37 e8 1c 75 df 6e',\n",
              " '47 f1 1a 71 1d 29 c5 89 6f b7 62 0e aa 18 be 1b',\n",
              " 'fc 56 3e 4b c6 d2 79 20 9a db c0 fe 78 cd 5a f4',\n",
              " '1f dd a8 33 88 07 c7 31 b1 12 10 59 27 80 ec 5f',\n",
              " '60 51 7f a9 19 b5 4a 0d 2d e5 7a 9f 93 c9 9c ef',\n",
              " 'a0 e0 3b 4d ae 2a f5 b0 c8 eb bb 3c 83 53 99 61',\n",
              " '17 2b 04 7e ba 77 d6 26 e1 69 14 63 55 21 0c 7d']"
            ]
          },
          "metadata": {},
          "execution_count": 28
        }
      ]
    },
    {
      "cell_type": "code",
      "source": [
        "def InvRotWord(w,shift=1):\n",
        "    if shift==0:\n",
        "        return w[:]\n",
        "    return w[-shift:] + w[:-shift]\n",
        "def InvSubBytes(bytes):\n",
        "    return [invsbox[b] for b in bytes]\n",
        "def InvShiftRows(words):\n",
        "    ret = []\n",
        "    for s in range(4):\n",
        "        ret += InvRotWord(words[s*4:s*4+4],shift=s)\n",
        "    return ret\n",
        "def inv_gmix_column(r):\n",
        "    a = [0]*4;\n",
        "    b = [0]*4;\n",
        "    c = [0]*4;\n",
        "    d = [0]*4;\n",
        "    # The array 'a' is simply a copy of the input array 'r'\n",
        "    # The array 'b' is each element of the array 'a' multiplied by 2\n",
        "    # The array 'c' is each element of the array 'a' multiplied by 4\n",
        "    # The array 'd' is each element of the array 'a' multiplied by 8\n",
        "    # in Rijndael's Galois field\n",
        "    # a[n] ^ b[n] is element n multiplied by 3 in Rijndael's Galois field\n",
        "    for i in range(4):\n",
        "        a[i] = r[i]\n",
        "        h = r[i] >> 7\n",
        "        b[i] = (r[i] << 1) & 0x0ff\n",
        "        b[i] ^= h * 0x1B # Rijndael's Galois field\n",
        "        h = b[i] >> 7\n",
        "        c[i] = (b[i] << 1) & 0x0ff\n",
        "        c[i] ^= h * 0x1B # Rijndael's Galois field\n",
        "        h = c[i] >> 7\n",
        "        d[i] = (c[i] << 1) & 0x0ff\n",
        "        d[i] ^= h * 0x1B # Rijndael's Galois field\n",
        "    r2 = [0]*4\n",
        "    r2[0] = d[0] ^ c[0] ^ b[0] ^ d[3] ^ a[3] ^ d[2] ^ c[2] ^ a[2] ^ d[1] ^ b[1] ^ a[1] # 14 * a0 + 9 * a3 + 13 * a2 + 11 * a1\n",
        "    r2[1] = d[1] ^ c[1] ^ b[1] ^ d[0] ^ a[0] ^ d[3] ^ c[3] ^ a[3] ^ d[2] ^ b[2] ^ a[2] # 14 * a1 + 9 * a0 + 13 * a3 + 11 * a2\n",
        "    r2[2] = d[2] ^ c[2] ^ b[2] ^ d[1] ^ a[1] ^ d[0] ^ c[0] ^ a[0] ^ d[3] ^ b[3] ^ a[3] # 14 * a2 + 9 * a1 + 13 * a0 + 11 * a3\n",
        "    r2[3] = d[3] ^ c[3] ^ b[3] ^ d[2] ^ a[2] ^ d[1] ^ c[1] ^ a[1] ^ d[0] ^ b[0] ^ a[0] # 14 * a3 + 9 * a2 + 13 * a1 + 11 * a0\n",
        "    return r2\n",
        "def InvMixColumns(words):\n",
        "    for i in range(4):\n",
        "        r = [words[4*k+i] for k in range(4)]\n",
        "        r = inv_gmix_column(r)\n",
        "        for j in range(4):\n",
        "            words[4*j+i] = r[j]"
      ],
      "metadata": {
        "id": "pbpDBMd_-dmW"
      },
      "execution_count": 41,
      "outputs": []
    },
    {
      "cell_type": "code",
      "source": [
        "cc = C\n",
        "for i in range(nr,0,-1):\n",
        "    cc = [x^y for x,y in zip(cc,sum(w[4*i:4*i+4],[]))]\n",
        "    print(i,'key',cc)\n",
        "    if i<nr:\n",
        "        InvMixColumns(cc)\n",
        "        print(i,'invmix',cc)\n",
        "    cc = InvShiftRows(cc)\n",
        "    print(i,'invshift',cc)\n",
        "    cc = InvSubBytes(cc)\n",
        "    print(i,'invsbox',cc)\n",
        "mm = [x^y for x,y in zip(cc,sum(w[:4],[]))]\n",
        "mm"
      ],
      "metadata": {
        "colab": {
          "base_uri": "https://localhost:8080/"
        },
        "id": "1Y300p0A-qFu",
        "outputId": "d3bbf79d-4e01-435f-e614-aad4abd464aa"
      },
      "execution_count": 44,
      "outputs": [
        {
          "output_type": "stream",
          "name": "stdout",
          "text": [
            "10 key [210, 37, 253, 171, 209, 85, 153, 65, 221, 86, 119, 2, 41, 67, 60, 225]\n",
            "10 invshift [210, 37, 253, 171, 65, 209, 85, 153, 119, 2, 221, 86, 67, 60, 225, 41]\n",
            "10 invsbox [127, 194, 33, 14, 248, 81, 237, 249, 2, 106, 201, 185, 100, 109, 224, 76]\n",
            "9 key [43, 91, 19, 223, 8, 212, 186, 145, 18, 249, 36, 37, 218, 65, 119, 2]\n",
            "9 invmix [123, 116, 237, 138, 171, 120, 239, 148, 143, 184, 53, 162, 180, 131, 205, 213]\n",
            "9 invshift [123, 116, 237, 138, 148, 171, 120, 239, 53, 162, 143, 184, 131, 205, 213, 180]\n",
            "9 invsbox [3, 202, 83, 207, 231, 14, 193, 97, 217, 26, 115, 154, 65, 128, 181, 198]\n",
            "8 key [68, 137, 212, 250, 67, 18, 164, 216, 57, 12, 201, 110, 239, 63, 207, 20]\n",
            "8 invmix [166, 25, 171, 118, 50, 5, 34, 28, 98, 215, 90, 82, 39, 99, 165, 96]\n",
            "8 invshift [166, 25, 171, 118, 28, 50, 5, 34, 90, 82, 98, 215, 99, 165, 96, 39]\n",
            "8 invsbox [197, 142, 14, 15, 196, 161, 54, 148, 70, 72, 171, 13, 0, 41, 144, 61]\n",
            "7 key [209, 119, 126, 21, 39, 254, 212, 24, 2, 66, 116, 64, 78, 128, 80, 27]\n",
            "7 invmix [90, 143, 139, 144, 207, 91, 59, 116, 230, 44, 134, 105, 201, 179, 184, 219]\n",
            "7 invshift [90, 143, 139, 144, 116, 207, 91, 59, 134, 105, 230, 44, 179, 184, 219, 201]\n",
            "7 invsbox [70, 115, 206, 150, 202, 95, 87, 73, 220, 228, 245, 66, 75, 154, 159, 18]\n",
            "6 key [24, 74, 193, 235, 61, 249, 197, 223, 123, 177, 200, 131, 65, 57, 128, 121]\n",
            "6 invmix [34, 14, 247, 220, 189, 188, 202, 45, 127, 131, 102, 51, 255, 10, 23, 12]\n",
            "6 invshift [34, 14, 247, 220, 45, 189, 188, 202, 102, 51, 127, 131, 10, 23, 12, 255]\n",
            "6 invsbox [148, 215, 38, 147, 250, 205, 120, 16, 211, 102, 107, 65, 163, 135, 129, 125]\n",
            "5 key [168, 125, 133, 123, 83, 82, 229, 251, 131, 149, 196, 22, 14, 113, 163, 215]\n",
            "5 invmix [2, 103, 101, 176, 108, 130, 155, 245, 197, 2, 42, 95, 221, 44, 211, 91]\n",
            "5 invshift [2, 103, 101, 176, 245, 108, 130, 155, 42, 95, 197, 2, 44, 211, 91, 221]\n",
            "5 invsbox [106, 10, 188, 252, 119, 184, 17, 232, 149, 132, 7, 106, 66, 169, 87, 201]\n",
            "4 key [45, 253, 75, 64, 226, 141, 47, 235, 108, 232, 53, 214, 191, 172, 218, 52]\n",
            "4 invmix [75, 198, 223, 84, 118, 76, 93, 247, 50, 187, 172, 80, 19, 5, 165, 186]\n",
            "4 invshift [75, 198, 223, 84, 247, 118, 76, 93, 172, 80, 50, 187, 5, 165, 186, 19]\n",
            "4 invsbox [204, 199, 239, 253, 38, 15, 93, 141, 170, 108, 161, 254, 54, 41, 192, 130]\n",
            "3 key [122, 56, 155, 179, 244, 205, 148, 50, 198, 53, 173, 65, 50, 64, 127, 195]\n",
            "3 invmix [60, 17, 50, 84, 34, 200, 8, 38, 116, 7, 165, 160, 16, 94, 66, 209]\n",
            "3 invshift [60, 17, 50, 84, 38, 34, 200, 8, 165, 160, 116, 7, 94, 66, 209, 16]\n",
            "3 invsbox [109, 227, 161, 253, 35, 148, 177, 191, 41, 71, 202, 56, 157, 246, 81, 124]\n",
            "2 key [219, 113, 110, 246, 71, 169, 12, 78, 151, 220, 15, 56, 245, 198, 226, 130]\n",
            "2 invmix [156, 208, 174, 154, 77, 108, 4, 173, 55, 226, 202, 80, 24, 156, 239, 101]\n",
            "2 invshift [156, 208, 174, 154, 173, 77, 108, 4, 202, 80, 55, 226, 156, 239, 101, 24]\n",
            "2 invsbox [28, 96, 190, 55, 24, 101, 184, 48, 16, 108, 178, 59, 28, 97, 188, 52]\n",
            "1 key [202, 202, 202, 202, 202, 202, 202, 202, 202, 202, 202, 202, 202, 202, 202, 202]\n",
            "1 invmix [202, 202, 202, 202, 202, 202, 202, 202, 202, 202, 202, 202, 202, 202, 202, 202]\n",
            "1 invshift [202, 202, 202, 202, 202, 202, 202, 202, 202, 202, 202, 202, 202, 202, 202, 202]\n",
            "1 invsbox [16, 16, 16, 16, 16, 16, 16, 16, 16, 16, 16, 16, 16, 16, 16, 16]\n"
          ]
        },
        {
          "output_type": "execute_result",
          "data": {
            "text/plain": [
              "[16, 17, 18, 19, 20, 21, 22, 23, 24, 25, 26, 27, 28, 29, 30, 31]"
            ]
          },
          "metadata": {},
          "execution_count": 44
        }
      ]
    },
    {
      "cell_type": "code",
      "source": [
        "M"
      ],
      "metadata": {
        "colab": {
          "base_uri": "https://localhost:8080/"
        },
        "id": "5OWu8X2cBFpQ",
        "outputId": "b877bce3-dcd0-4084-d77a-8e632a2a8150"
      },
      "execution_count": 43,
      "outputs": [
        {
          "output_type": "execute_result",
          "data": {
            "text/plain": [
              "[16, 17, 18, 19, 20, 21, 22, 23, 24, 25, 26, 27, 28, 29, 30, 31]"
            ]
          },
          "metadata": {},
          "execution_count": 43
        }
      ]
    },
    {
      "cell_type": "code",
      "source": [],
      "metadata": {
        "id": "TBiHJhJOBNeG"
      },
      "execution_count": 31,
      "outputs": []
    }
  ]
}