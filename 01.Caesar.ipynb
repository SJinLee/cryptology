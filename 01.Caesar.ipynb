{
  "nbformat": 4,
  "nbformat_minor": 0,
  "metadata": {
    "colab": {
      "provenance": [],
      "authorship_tag": "ABX9TyPZ5jEFIe3fKBAEGhbt2kSt",
      "include_colab_link": true
    },
    "kernelspec": {
      "name": "python3",
      "display_name": "Python 3"
    },
    "language_info": {
      "name": "python"
    }
  },
  "cells": [
    {
      "cell_type": "markdown",
      "metadata": {
        "id": "view-in-github",
        "colab_type": "text"
      },
      "source": [
        "<a href=\"https://colab.research.google.com/github/SJinLee/cryptology/blob/main/01.Caesar.ipynb\" target=\"_parent\"><img src=\"https://colab.research.google.com/assets/colab-badge.svg\" alt=\"Open In Colab\"/></a>"
      ]
    },
    {
      "cell_type": "code",
      "execution_count": null,
      "metadata": {
        "id": "v37zYJT-HvCN"
      },
      "outputs": [],
      "source": [
        "a2n = dict(zip('abcdefghijklmnopqrstuvwxyz',range(26)))\n",
        "n2a = dict(zip(range(26),'abcdefghijklmnopqrstuvwxyz'))"
      ]
    },
    {
      "cell_type": "code",
      "source": [
        "print(a2n)"
      ],
      "metadata": {
        "colab": {
          "base_uri": "https://localhost:8080/"
        },
        "id": "b_olZjpxIXo2",
        "outputId": "55a9a497-85e8-43be-aea3-b9e043a6f519"
      },
      "execution_count": null,
      "outputs": [
        {
          "output_type": "stream",
          "name": "stdout",
          "text": [
            "{'a': 0, 'b': 1, 'c': 2, 'd': 3, 'e': 4, 'f': 5, 'g': 6, 'h': 7, 'i': 8, 'j': 9, 'k': 10, 'l': 11, 'm': 12, 'n': 13, 'o': 14, 'p': 15, 'q': 16, 'r': 17, 's': 18, 't': 19, 'u': 20, 'v': 21, 'w': 22, 'x': 23, 'y': 24, 'z': 25}\n"
          ]
        }
      ]
    },
    {
      "cell_type": "code",
      "source": [
        "print(n2a)"
      ],
      "metadata": {
        "colab": {
          "base_uri": "https://localhost:8080/"
        },
        "id": "J0iSJyFiIBkM",
        "outputId": "4471d51e-bd27-4eec-a8b6-2f528e6f192c"
      },
      "execution_count": null,
      "outputs": [
        {
          "output_type": "stream",
          "name": "stdout",
          "text": [
            "{0: 'a', 1: 'b', 2: 'c', 3: 'd', 4: 'e', 5: 'f', 6: 'g', 7: 'h', 8: 'i', 9: 'j', 10: 'k', 11: 'l', 12: 'm', 13: 'n', 14: 'o', 15: 'p', 16: 'q', 17: 'r', 18: 's', 19: 't', 20: 'u', 21: 'v', 22: 'w', 23: 'x', 24: 'y', 25: 'z'}\n"
          ]
        }
      ]
    },
    {
      "cell_type": "code",
      "source": [
        "M = 'substitutioncipher'"
      ],
      "metadata": {
        "id": "VrM49z_nIFdC"
      },
      "execution_count": null,
      "outputs": []
    },
    {
      "cell_type": "code",
      "source": [
        "K = 11"
      ],
      "metadata": {
        "id": "pqbiBMtjIr_L"
      },
      "execution_count": null,
      "outputs": []
    },
    {
      "cell_type": "code",
      "source": [
        "[a2n[x] for x in M]"
      ],
      "metadata": {
        "colab": {
          "base_uri": "https://localhost:8080/"
        },
        "id": "3Ir5p4F9Ithq",
        "outputId": "f76ed579-8f64-4452-ef00-7b0b13d20db9"
      },
      "execution_count": null,
      "outputs": [
        {
          "output_type": "execute_result",
          "data": {
            "text/plain": [
              "[18, 20, 1, 18, 19, 8, 19, 20, 19, 8, 14, 13, 2, 8, 15, 7, 4, 17]"
            ]
          },
          "metadata": {},
          "execution_count": 11
        }
      ]
    },
    {
      "cell_type": "code",
      "source": [
        "[(a2n[x]+K) % 26 for x in M]"
      ],
      "metadata": {
        "colab": {
          "base_uri": "https://localhost:8080/"
        },
        "id": "EhuJ7liCIxfh",
        "outputId": "6441525d-1eae-4729-daf6-04672281eb9c"
      },
      "execution_count": null,
      "outputs": [
        {
          "output_type": "execute_result",
          "data": {
            "text/plain": [
              "[3, 5, 12, 3, 4, 19, 4, 5, 4, 19, 25, 24, 13, 19, 0, 18, 15, 2]"
            ]
          },
          "metadata": {},
          "execution_count": 12
        }
      ]
    },
    {
      "cell_type": "code",
      "source": [
        "C = ''.join([n2a[(a2n[x]+K) % 26] for x in M])"
      ],
      "metadata": {
        "id": "mx40343LJAIa"
      },
      "execution_count": null,
      "outputs": []
    },
    {
      "cell_type": "code",
      "source": [
        "-10 % 26"
      ],
      "metadata": {
        "colab": {
          "base_uri": "https://localhost:8080/"
        },
        "id": "SQDZvTc8JKby",
        "outputId": "09e03294-90bd-4fa4-a221-84cd4f2d31dd"
      },
      "execution_count": null,
      "outputs": [
        {
          "output_type": "execute_result",
          "data": {
            "text/plain": [
              "16"
            ]
          },
          "metadata": {},
          "execution_count": 16
        }
      ]
    },
    {
      "cell_type": "code",
      "source": [
        "''.join([n2a[(a2n[x]-K) % 26] for x in C])"
      ],
      "metadata": {
        "colab": {
          "base_uri": "https://localhost:8080/",
          "height": 35
        },
        "id": "Wb-P-wDDJfA6",
        "outputId": "bb9f7cce-6416-45b3-f5bb-de3532bed499"
      },
      "execution_count": null,
      "outputs": [
        {
          "output_type": "execute_result",
          "data": {
            "text/plain": [
              "'substitutioncipher'"
            ],
            "application/vnd.google.colaboratory.intrinsic+json": {
              "type": "string"
            }
          },
          "metadata": {},
          "execution_count": 17
        }
      ]
    },
    {
      "cell_type": "code",
      "source": [
        "C = 'rygkboiyeqoddsxqyx'"
      ],
      "metadata": {
        "id": "pYKrb9EZJ2Sq"
      },
      "execution_count": null,
      "outputs": []
    },
    {
      "cell_type": "code",
      "source": [
        "for k in range(1,26):\n",
        "    print(k, ''.join([n2a[(a2n[x]-k) % 26] for x in C]))"
      ],
      "metadata": {
        "colab": {
          "base_uri": "https://localhost:8080/"
        },
        "id": "cSwJ_ekSKFqS",
        "outputId": "7a29381f-5602-42a7-a9d0-ab8f670df9eb"
      },
      "execution_count": null,
      "outputs": [
        {
          "output_type": "stream",
          "name": "stdout",
          "text": [
            "1 qxfjanhxdpnccrwpxw\n",
            "2 pweizmgwcombbqvowv\n",
            "3 ovdhylfvbnlaapunvu\n",
            "4 nucgxkeuamkzzotmut\n",
            "5 mtbfwjdtzljyynslts\n",
            "6 lsaevicsykixxmrksr\n",
            "7 krzduhbrxjhwwlqjrq\n",
            "8 jqyctgaqwigvvkpiqp\n",
            "9 ipxbsfzpvhfuujohpo\n",
            "10 howareyougettingon\n",
            "11 gnvzqdxntfdsshmfnm\n",
            "12 fmuypcwmsecrrgleml\n",
            "13 eltxobvlrdbqqfkdlk\n",
            "14 dkswnaukqcappejckj\n",
            "15 cjrvmztjpbzoodibji\n",
            "16 biqulysioaynnchaih\n",
            "17 ahptkxrhnzxmmbgzhg\n",
            "18 zgosjwqgmywllafygf\n",
            "19 yfnrivpflxvkkzexfe\n",
            "20 xemqhuoekwujjydwed\n",
            "21 wdlpgtndjvtiixcvdc\n",
            "22 vckofsmciushhwbucb\n",
            "23 ubjnerlbhtrggvatba\n",
            "24 taimdqkagsqffuzsaz\n",
            "25 szhlcpjzfrpeetyrzy\n"
          ]
        }
      ]
    },
    {
      "cell_type": "code",
      "source": [],
      "metadata": {
        "id": "oRGqyJy_KeLz"
      },
      "execution_count": null,
      "outputs": []
    }
  ]
}