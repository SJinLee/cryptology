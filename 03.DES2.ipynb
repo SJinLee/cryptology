{
  "nbformat": 4,
  "nbformat_minor": 0,
  "metadata": {
    "colab": {
      "provenance": [],
      "authorship_tag": "ABX9TyOel90ElwBYamG9lsdywlwb",
      "include_colab_link": true
    },
    "kernelspec": {
      "name": "python3",
      "display_name": "Python 3"
    },
    "language_info": {
      "name": "python"
    }
  },
  "cells": [
    {
      "cell_type": "markdown",
      "metadata": {
        "id": "view-in-github",
        "colab_type": "text"
      },
      "source": [
        "<a href=\"https://colab.research.google.com/github/SJinLee/cryptology/blob/main/03.DES2.ipynb\" target=\"_parent\"><img src=\"https://colab.research.google.com/assets/colab-badge.svg\" alt=\"Open In Colab\"/></a>"
      ]
    },
    {
      "cell_type": "code",
      "execution_count": 1,
      "metadata": {
        "id": "bd3RZyop_jkT"
      },
      "outputs": [],
      "source": [
        "IP = [58, 50, 42, 34, 26, 18, 10, 2,\n",
        "      60, 52, 44, 36, 28, 20, 12, 4,\n",
        "      62, 54, 46, 38, 30, 22, 14, 6,\n",
        "      64, 56, 48, 40, 32, 24, 16, 8,\n",
        "      57, 49, 41, 33, 25, 17, 9, 1,\n",
        "      59, 51, 43, 35, 27, 19, 11, 3,\n",
        "      61, 53, 45, 37, 29, 21, 13, 5,\n",
        "      63, 55, 47, 39, 31, 23, 15, 7]\n",
        "PC1 = [57,49,41,33,25,17,9,\n",
        "       1,58,50,42,34,26,18,\n",
        "       10,2,59,51,43,35,27,\n",
        "       19,11,3,60,52,44,36,\n",
        "       63,55,47,39,31,23,15,\n",
        "       7,62,54,46,38,30,22,\n",
        "       14,6,61,53,45,37,29,\n",
        "       21,13,5,28,20,12,4]\n",
        "PC2 = [14,17,11,24,1,5,\n",
        "       3,28,15,6,21,10,\n",
        "       23,19,12,4,26,8,\n",
        "       16,7,27,20,13,2,\n",
        "       41,52,31,37,47,55,\n",
        "       30,40,51,45,33,48,\n",
        "       44,49,39,56,34,53,\n",
        "       46,42,50,36,29,32]"
      ]
    },
    {
      "cell_type": "code",
      "source": [
        "E = [32,1,2,3,4,5,\n",
        "     4,5,6,7,8,9,\n",
        "     8,9,10,11,12,13,\n",
        "     12,13,14,15,16,17,\n",
        "     16,17,18,19,20,21,\n",
        "     20,21,22,23,24,25,\n",
        "     24,25,26,27,28,29,\n",
        "     28,29,30,31,32,1]\n",
        "S1 = [[14,4,13,1,2,15,11,8,3,10,6,12,5,9,0,7],\n",
        "      [0,15,7,5,14,2,13,1,10,6,12,11,9,5,3,8],\n",
        "       [4,1,14,8,13,6,2,11,15,12,9,7,3,10,5,0],\n",
        "       [15,12,8,2,4,9,1,7,5,11,3,14,10,0,6,13]]\n",
        "S2 = [[15, 1, 8, 14, 6, 11, 3, 4, 9, 7, 2, 13, 12, 0, 5, 10],\n",
        "      [3, 13, 4, 7, 15, 2, 8, 14, 12, 0, 1, 10, 6, 9, 11, 5,],\n",
        "      [0, 14, 7, 11, 10, 4, 13, 1, 5, 8 ,12, 6, 9, 3, 2, 15],\n",
        "      [13, 8, 10, 1, 3, 15, 4, 2, 11, 6, 7, 12, 0, 5, 14, 9]]\n",
        "S3 = [[10,0,9,14,6,3,15,5,1,13,12,7,11,4,2,8],\n",
        "      [13,7,0,9,3,4,6,10,2,8,5,14,12,11,15,1],\n",
        "       [13,6,4,9,8,15,3,0,11,1,2,12,5,10,14,7],\n",
        "      [1,10,13,0,6,9,8,7,4,15,41,3,11,5,2,12]]\n",
        "S4 = [[7,13,14,3,0,6,9,10,1,2,8,5,11,12,4,15],\n",
        "      [13,8,11,5,6,15,0,3,4,7,2,12,1,10,14,9],\n",
        "      [10,6,9,0,12,11,7,13,15,1,3,14,5,2,8,4],\n",
        "      [3,15,0,6,10,1,13,8,9,4,5,11,12,7,2,14]]\n",
        "S5 = [[2,12,4,1,7,10,11,6,8,5,3,15,13,0,14,9],\n",
        "      [14,11,2,12,4,7,13,1,5,0,15,10,3,9,8,6],\n",
        "      [4,2,1,11,10,13,7,8,15,9,12,5,6,3,0,14],\n",
        "      [11,8,12,7,1,14,2,13,6,15,0,9,10,4,5,3]]\n",
        "S6 = [[12,1,10,15,9,2,6,8,0,13,3,4,14,7,5,11],\n",
        "      [10,15,4,2,7,12,9,5,6,1,13,14,0,11,3,8],\n",
        "      [9,14,18,5,2,8,12,3,7,0,4,10,1,13,11,6],\n",
        "      [4,3,2,12,9,5,15,10,11,14,1,7,6,0,8,13]]\n",
        "S7 = [[4,11,2,14,15,0,8,13,3,12,9,7,5,10,6,1],\n",
        "      [13,0,11,7,4,9,1,10,14,3,5,12,2,15,8,6],\n",
        "      [1,4,11,13,12,3,7,14,10,15,6,8,0,5,9,2],\n",
        "      [6,11,13,8,1,4,10,7,9,5,0,15,14,2,3,12]]\n",
        "S8 = [[13,2,8,4,6,15,11,1,10,9,3,14,5,0,12,7],\n",
        "      [1,15,13,8,10,3,7,4,12,5,6,11,0,14,9,2],\n",
        "      [7,11,4,1,9,12,14,2,0,6,10,13,15,3,5,8],\n",
        "      [2,1,14,7,4,10,8,13,15,12,9,0,3,5,6,11]]"
      ],
      "metadata": {
        "id": "Pnb9duv2AHFu"
      },
      "execution_count": 2,
      "outputs": []
    },
    {
      "cell_type": "code",
      "source": [
        "d2b = [[0,0,0,0],\n",
        "       [0,0,0,1],\n",
        "       [0,0,1,0],\n",
        "       [0,0,1,1],\n",
        "       [0,1,0,0],\n",
        "       [0,1,0,1],\n",
        "       [0,1,1,0],\n",
        "       [0,1,1,1],\n",
        "       [1,0,0,0],\n",
        "       [1,0,0,1],\n",
        "       [1,0,1,0],\n",
        "       [1,0,1,1],\n",
        "       [1,1,0,0],\n",
        "       [1,1,0,1],\n",
        "       [1,1,1,0],\n",
        "       [1,1,1,1]]\n",
        "SS = [S1,S2,S3,S4,S5,S6,S7,S8]\n",
        "P = [16,7,20,21,\n",
        "     29,12,28,17,\n",
        "     1,15,23,26,\n",
        "     5,18,31,10,\n",
        "     2,8,24,14,\n",
        "     32,27,3,9,\n",
        "     19,13,30,6,\n",
        "     22,11,4,25]\n",
        "IPI = [40,8,48,16,56,24,64,32,\n",
        "       39,7,47,15,55,23,63,31,\n",
        "       38,6,46,14,54,22,62,30,\n",
        "       37,5,45,13,53,21,61,29,\n",
        "       36,4,44,12,52,20,60,28,\n",
        "       35,3,43,11,51,19,59,27,\n",
        "       34,2,42,10,50,18,58,26,\n",
        "       33,1,41,9,49,17,57,25]"
      ],
      "metadata": {
        "id": "-u6o22KNAtBh"
      },
      "execution_count": 3,
      "outputs": []
    },
    {
      "cell_type": "code",
      "source": [
        "SHIFT = [1,1,2,2,2,2,2,2,1,2,2,2,2,2,2,1]"
      ],
      "metadata": {
        "id": "cSqMA1xmBCgh"
      },
      "execution_count": 4,
      "outputs": []
    },
    {
      "cell_type": "code",
      "source": [
        "k = [0,0,0,0,0,0,0,1,\n",
        "     0,0,1,0,0,0,1,1,\n",
        "     0,1,0,0,0,1,0,1,\n",
        "     0,1,1,0,0,1,1,1,\n",
        "     1,0,0,0,1,0,0,1,\n",
        "     1,0,1,0,1,0,1,1,\n",
        "     1,1,0,0,1,1,0,1,\n",
        "     1,1,1,0,1,1,1,1]\n",
        "M = [0,1,1,0,1,0,1,1,\n",
        "     0,1,0,1,0,0,1,1,\n",
        "     1,0,0,0,0,0,0,0,\n",
        "     1,1,1,1,1,1,0,1,\n",
        "     1,0,1,1,0,0,1,0,\n",
        "     1,0,1,0,0,1,1,0,\n",
        "     0,0,1,1,1,1,0,0,\n",
        "     1,0,1,1,0,1,1,1]"
      ],
      "metadata": {
        "id": "HzSyRaYhBm7H"
      },
      "execution_count": 5,
      "outputs": []
    },
    {
      "cell_type": "code",
      "source": [
        "CD = [k[x-1] for x in PC1]\n",
        "C0 = CD[:28]\n",
        "D0 = CD[28:]\n",
        "subk = []\n",
        "for i in range(16):\n",
        "    sft = SHIFT[i]\n",
        "    C1 = C0[sft:] + C0[:sft]\n",
        "    D1 = D0[sft:] + D0[:sft]\n",
        "    CD1 = C1+D1\n",
        "    k1 = [CD1[x-1] for x in PC2]\n",
        "    C0,D0 = C1,D1\n",
        "    subk.append(k1)"
      ],
      "metadata": {
        "id": "BTtl7uasB7so"
      },
      "execution_count": 6,
      "outputs": []
    },
    {
      "cell_type": "code",
      "source": [
        "def DES(LE0,RE0,k1):\n",
        "    e48 = [RE0[x-1] for x in E]\n",
        "    e48k1 = [(x+y)%2 for x,y in zip(e48,k1)]\n",
        "    s = []\n",
        "    for i in range(8):\n",
        "        b6 = e48k1[i*6:i*6+6]\n",
        "        r = sum([x*y for x, y in zip([2,1],b6[::5])])\n",
        "        c = sum([x*y for x,y in zip([8,4,2,1],b6[1:5])])\n",
        "        dec = SS[i][r][c]\n",
        "        s += d2b[dec]\n",
        "    f = [s[x-1] for x in P]\n",
        "    RE1 = [(x+y)%2 for x,y in zip(LE0,f)]\n",
        "    LE1 = RE0\n",
        "    return LE1,RE1"
      ],
      "metadata": {
        "id": "NARDUAJdDEeT"
      },
      "execution_count": 7,
      "outputs": []
    },
    {
      "cell_type": "code",
      "source": [
        "LR = [M[x-1] for x in IP]\n",
        "LE0 = LR[:32]\n",
        "RE0 = LR[32:]\n",
        "\n",
        "LE1,RE1 = DES(LE0,RE0,subk[0])\n",
        "\n",
        "RL1 = RE1+LE1\n",
        "C = [RL1[x-1] for x in IPI]"
      ],
      "metadata": {
        "id": "ceL9HHBjDhAT"
      },
      "execution_count": 8,
      "outputs": []
    },
    {
      "cell_type": "code",
      "source": [
        "def print_matrix(m,n_per_line):\n",
        "    n = len(m)\n",
        "    for i in range(0,n,n_per_line):\n",
        "        a = ' '.join([str(x) for x in m[i:i+n_per_line]])\n",
        "        print(a)"
      ],
      "metadata": {
        "id": "sXRfNBAyEaPJ"
      },
      "execution_count": 10,
      "outputs": []
    },
    {
      "cell_type": "code",
      "source": [
        "print_matrix(C,8)"
      ],
      "metadata": {
        "colab": {
          "base_uri": "https://localhost:8080/"
        },
        "id": "yZplVo6jEbR3",
        "outputId": "bdc6a1b8-fb8e-4e9b-9650-4f1072cd7ac0"
      },
      "execution_count": 11,
      "outputs": [
        {
          "output_type": "stream",
          "name": "stdout",
          "text": [
            "0 1 1 1 1 0 1 1\n",
            "0 0 0 0 0 1 1 0\n",
            "1 1 0 0 0 1 0 1\n",
            "1 1 1 0 1 1 0 0\n",
            "1 1 1 1 0 0 1 1\n",
            "1 1 1 0 0 1 1 0\n",
            "0 1 1 0 1 0 0 0\n",
            "1 0 1 1 0 1 1 1\n"
          ]
        }
      ]
    },
    {
      "cell_type": "markdown",
      "source": [
        "# 16라운드로 암호화"
      ],
      "metadata": {
        "id": "axeaTAVhFAam"
      }
    },
    {
      "cell_type": "code",
      "source": [
        "LR = [M[x-1] for x in IP]\n",
        "LE0 = LR[:32]\n",
        "RE0 = LR[32:]\n",
        "\n",
        "for i in range(16):\n",
        "    LE1,RE1 = DES(LE0,RE0,subk[i])\n",
        "    LE0,RE0 = LE1,RE1\n",
        "\n",
        "RL1 = RE1+LE1\n",
        "C = [RL1[x-1] for x in IPI]"
      ],
      "metadata": {
        "id": "xOqLhGWCElp4"
      },
      "execution_count": 12,
      "outputs": []
    },
    {
      "cell_type": "code",
      "source": [
        "print_matrix(C,8)"
      ],
      "metadata": {
        "colab": {
          "base_uri": "https://localhost:8080/"
        },
        "id": "d2Ru1ctYFD1A",
        "outputId": "c5896125-7070-4dee-fd13-ede12e4e0132"
      },
      "execution_count": 14,
      "outputs": [
        {
          "output_type": "stream",
          "name": "stdout",
          "text": [
            "0 1 0 1 1 0 0 1\n",
            "1 1 1 0 1 1 0 1\n",
            "0 0 1 0 0 1 1 0\n",
            "1 1 1 0 0 0 1 1\n",
            "0 1 0 1 0 1 0 0\n",
            "1 0 1 0 1 1 0 1\n",
            "1 1 1 1 1 0 1 0\n",
            "0 1 1 0 0 0 1 0\n"
          ]
        }
      ]
    },
    {
      "cell_type": "markdown",
      "source": [
        "# 16라운드로 복호화"
      ],
      "metadata": {
        "id": "7bfkaR5xFG8I"
      }
    },
    {
      "cell_type": "code",
      "source": [
        "LR = [C[x-1] for x in IP]\n",
        "LE0 = LR[:32]\n",
        "RE0 = LR[32:]\n",
        "\n",
        "for i in range(16):\n",
        "    LE1,RE1 = DES(LE0,RE0,subk[15-i])\n",
        "    LE0,RE0 = LE1,RE1\n",
        "\n",
        "RL1 = RE1+LE1\n",
        "M2 = [RL1[x-1] for x in IPI]"
      ],
      "metadata": {
        "id": "Rw8XymPIFPIy"
      },
      "execution_count": 15,
      "outputs": []
    },
    {
      "cell_type": "code",
      "source": [
        "print_matrix(M2,8)"
      ],
      "metadata": {
        "colab": {
          "base_uri": "https://localhost:8080/"
        },
        "id": "BLatuZz-FfYP",
        "outputId": "aa6d5ac6-01bb-4c03-dba8-25210109cdb4"
      },
      "execution_count": 16,
      "outputs": [
        {
          "output_type": "stream",
          "name": "stdout",
          "text": [
            "0 1 1 0 1 0 1 1\n",
            "0 1 0 1 0 0 1 1\n",
            "1 0 0 0 0 0 0 0\n",
            "1 1 1 1 1 1 0 1\n",
            "1 0 1 1 0 0 1 0\n",
            "1 0 1 0 0 1 1 0\n",
            "0 0 1 1 1 1 0 0\n",
            "1 0 1 1 0 1 1 1\n"
          ]
        }
      ]
    },
    {
      "cell_type": "code",
      "source": [
        "print_matrix(M,8)"
      ],
      "metadata": {
        "colab": {
          "base_uri": "https://localhost:8080/"
        },
        "id": "WqlpQy5gFjff",
        "outputId": "b375afe1-34a2-40ed-9e84-b18851bcce3e"
      },
      "execution_count": 17,
      "outputs": [
        {
          "output_type": "stream",
          "name": "stdout",
          "text": [
            "0 1 1 0 1 0 1 1\n",
            "0 1 0 1 0 0 1 1\n",
            "1 0 0 0 0 0 0 0\n",
            "1 1 1 1 1 1 0 1\n",
            "1 0 1 1 0 0 1 0\n",
            "1 0 1 0 0 1 1 0\n",
            "0 0 1 1 1 1 0 0\n",
            "1 0 1 1 0 1 1 1\n"
          ]
        }
      ]
    },
    {
      "cell_type": "code",
      "source": [],
      "metadata": {
        "id": "sKivYmKAFnR3"
      },
      "execution_count": null,
      "outputs": []
    }
  ]
}