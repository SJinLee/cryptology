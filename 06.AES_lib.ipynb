{
  "nbformat": 4,
  "nbformat_minor": 0,
  "metadata": {
    "colab": {
      "provenance": [],
      "authorship_tag": "ABX9TyNO98FrqgZ0nJ6DtEXHpfQP",
      "include_colab_link": true
    },
    "kernelspec": {
      "name": "python3",
      "display_name": "Python 3"
    },
    "language_info": {
      "name": "python"
    }
  },
  "cells": [
    {
      "cell_type": "markdown",
      "metadata": {
        "id": "view-in-github",
        "colab_type": "text"
      },
      "source": [
        "<a href=\"https://colab.research.google.com/github/SJinLee/cryptology/blob/main/06.AES_lib.ipynb\" target=\"_parent\"><img src=\"https://colab.research.google.com/assets/colab-badge.svg\" alt=\"Open In Colab\"/></a>"
      ]
    },
    {
      "cell_type": "code",
      "source": [
        "#!pip uninstall pycrypto\n",
        "!pip install pycryptodome"
      ],
      "metadata": {
        "colab": {
          "base_uri": "https://localhost:8080/"
        },
        "id": "oC1ll1mADQ9Z",
        "outputId": "bcc4de48-9070-457b-d566-b9af929f587b"
      },
      "execution_count": 1,
      "outputs": [
        {
          "output_type": "stream",
          "name": "stdout",
          "text": [
            "Requirement already satisfied: pycryptodome in /usr/local/lib/python3.10/dist-packages (3.20.0)\n"
          ]
        }
      ]
    },
    {
      "cell_type": "code",
      "execution_count": 2,
      "metadata": {
        "id": "wU8ajH3qDDAU"
      },
      "outputs": [],
      "source": [
        "import base64\n",
        "import hashlib\n",
        "from Crypto.Cipher import AES\n",
        "\n",
        "BS = 16\n",
        "pad = (lambda s: s + (BS - len(s) % BS) * chr(BS - len(s) % BS).encode())\n",
        "unpad = (lambda s: s[:-ord(s[len(s)-1:])])\n",
        "\n",
        "class AESCipher(object):\n",
        "    def __init__(self, key):\n",
        "        self.key = hashlib.sha256(key.encode()).digest()\n",
        "\n",
        "    def encrypt(self, message):\n",
        "        message = message.encode()\n",
        "        raw = pad(message)\n",
        "        cipher = AES.new(self.key, AES.MODE_CBC, self.__iv().encode('utf8'))\n",
        "        enc = cipher.encrypt(raw)\n",
        "        return base64.b64encode(enc).decode('utf-8')\n",
        "\n",
        "    def decrypt(self, enc):\n",
        "        enc = base64.b64decode(enc)\n",
        "        cipher = AES.new(self.key, AES.MODE_CBC, self.__iv().encode('utf8'))\n",
        "        dec = cipher.decrypt(enc)\n",
        "        return unpad(dec).decode('utf-8')\n",
        "\n",
        "    def __iv(self):\n",
        "        return chr(0) * 16"
      ]
    },
    {
      "cell_type": "code",
      "source": [
        "key = \"this is key\"\n",
        "data = \"암호화 대상문장 입니다\"\n",
        "\n",
        "aes = AESCipher(key)\n",
        "\n",
        "encrypt = aes.encrypt(data)\n",
        "print(\"암호화:\", encrypt)\n",
        "print(\"-\"*100)\n",
        "\n",
        "decrypt = aes.decrypt(encrypt)\n",
        "print(\"복호화:\", decrypt)\n",
        "print(\"-\"*100)"
      ],
      "metadata": {
        "colab": {
          "base_uri": "https://localhost:8080/"
        },
        "id": "bR4Jw84xDKRM",
        "outputId": "7b26f56a-48d0-40ad-cf3e-2204c96f2728"
      },
      "execution_count": 3,
      "outputs": [
        {
          "output_type": "stream",
          "name": "stdout",
          "text": [
            "암호화: SncxQS8wUhtnVzjD2gKD5Q451OpbYWEUxYdB1pWKD7NFqWUKHMBgeW7+WwahmOex\n",
            "----------------------------------------------------------------------------------------------------\n",
            "복호화: 암호화 대상문장 입니다\n",
            "----------------------------------------------------------------------------------------------------\n"
          ]
        }
      ]
    },
    {
      "cell_type": "code",
      "source": [
        "len(aes.key)*8"
      ],
      "metadata": {
        "colab": {
          "base_uri": "https://localhost:8080/"
        },
        "id": "u-IOl7e2D3pJ",
        "outputId": "6bbd85fd-7640-4912-c1a7-3ac8b6fcbc99"
      },
      "execution_count": 6,
      "outputs": [
        {
          "output_type": "execute_result",
          "data": {
            "text/plain": [
              "256"
            ]
          },
          "metadata": {},
          "execution_count": 6
        }
      ]
    },
    {
      "cell_type": "code",
      "source": [
        "message = data.encode()\n",
        "raw = pad(message)"
      ],
      "metadata": {
        "id": "aTMS0JYREtor"
      },
      "execution_count": 7,
      "outputs": []
    },
    {
      "cell_type": "code",
      "source": [
        "aes.key.hex()"
      ],
      "metadata": {
        "colab": {
          "base_uri": "https://localhost:8080/",
          "height": 35
        },
        "id": "hO9E5FvVGkqz",
        "outputId": "3427dfec-fa40-4e7d-ade3-adc5d4d273b5"
      },
      "execution_count": 30,
      "outputs": [
        {
          "output_type": "execute_result",
          "data": {
            "text/plain": [
              "'1c5763bc2fcfe20ebfc8df0c8c305a67b24a9bec1060b675f11be9c35984eb71'"
            ],
            "application/vnd.google.colaboratory.intrinsic+json": {
              "type": "string"
            }
          },
          "metadata": {},
          "execution_count": 30
        }
      ]
    },
    {
      "cell_type": "code",
      "source": [
        "raw[:16].hex()"
      ],
      "metadata": {
        "colab": {
          "base_uri": "https://localhost:8080/",
          "height": 35
        },
        "id": "oeQV75fOE7RJ",
        "outputId": "47f5d1bc-9581-4d7e-a8ca-02fc382c05ac"
      },
      "execution_count": 25,
      "outputs": [
        {
          "output_type": "execute_result",
          "data": {
            "text/plain": [
              "'ec9594ed98b8ed999420eb8c80ec8381'"
            ],
            "application/vnd.google.colaboratory.intrinsic+json": {
              "type": "string"
            }
          },
          "metadata": {},
          "execution_count": 25
        }
      ]
    },
    {
      "cell_type": "code",
      "source": [
        "cipher = AES.new(aes.key, AES.MODE_CBC, (chr(0) * 16).encode('utf8'))\n",
        "enc = cipher.encrypt(raw[:16])"
      ],
      "metadata": {
        "id": "04sFnT-8E8ZR"
      },
      "execution_count": 16,
      "outputs": []
    },
    {
      "cell_type": "code",
      "source": [
        "[enc[i:i+2].hex() for i in range(0,16,2)]"
      ],
      "metadata": {
        "colab": {
          "base_uri": "https://localhost:8080/"
        },
        "id": "kjc2bGRwFXHq",
        "outputId": "0edbab16-401f-44e6-f366-0c0cb4c0eebc"
      },
      "execution_count": 24,
      "outputs": [
        {
          "output_type": "execute_result",
          "data": {
            "text/plain": [
              "['4a77', '3141', '2f30', '521b', '6757', '38c3', 'da02', '83e5']"
            ]
          },
          "metadata": {},
          "execution_count": 24
        }
      ]
    },
    {
      "cell_type": "code",
      "source": [
        "len(enc)"
      ],
      "metadata": {
        "colab": {
          "base_uri": "https://localhost:8080/"
        },
        "id": "gMJVMyS4HEqE",
        "outputId": "c14e6ebd-e8b1-4a00-fbf2-7996fb247e59"
      },
      "execution_count": 33,
      "outputs": [
        {
          "output_type": "execute_result",
          "data": {
            "text/plain": [
              "16"
            ]
          },
          "metadata": {},
          "execution_count": 33
        }
      ]
    },
    {
      "cell_type": "code",
      "source": [
        "cipher = AES.new(aes.key, AES.MODE_CBC, (chr(0) * 16).encode('utf8'))\n",
        "cipher.decrypt(enc)"
      ],
      "metadata": {
        "colab": {
          "base_uri": "https://localhost:8080/"
        },
        "id": "ZpY-VdSyFQ-w",
        "outputId": "46d7efc7-5f34-4158-b8b0-acd6a23e0e3f"
      },
      "execution_count": 35,
      "outputs": [
        {
          "output_type": "execute_result",
          "data": {
            "text/plain": [
              "b'\\xec\\x95\\x94\\xed\\x98\\xb8\\xed\\x99\\x94 \\xeb\\x8c\\x80\\xec\\x83\\x81'"
            ]
          },
          "metadata": {},
          "execution_count": 35
        }
      ]
    },
    {
      "cell_type": "code",
      "source": [
        "raw[:16]"
      ],
      "metadata": {
        "colab": {
          "base_uri": "https://localhost:8080/"
        },
        "id": "LNjL89xsGzfu",
        "outputId": "b7dd6c98-9da3-4ce6-c573-04272d0cca2e"
      },
      "execution_count": 36,
      "outputs": [
        {
          "output_type": "execute_result",
          "data": {
            "text/plain": [
              "b'\\xec\\x95\\x94\\xed\\x98\\xb8\\xed\\x99\\x94 \\xeb\\x8c\\x80\\xec\\x83\\x81'"
            ]
          },
          "metadata": {},
          "execution_count": 36
        }
      ]
    },
    {
      "cell_type": "code",
      "source": [
        "bytes.fromhex(raw[:16].hex())"
      ],
      "metadata": {
        "colab": {
          "base_uri": "https://localhost:8080/"
        },
        "id": "oSxG01dpHYaN",
        "outputId": "244e1fa5-e5b5-43ab-9045-2791655d3dc4"
      },
      "execution_count": 38,
      "outputs": [
        {
          "output_type": "execute_result",
          "data": {
            "text/plain": [
              "b'\\xec\\x95\\x94\\xed\\x98\\xb8\\xed\\x99\\x94 \\xeb\\x8c\\x80\\xec\\x83\\x81'"
            ]
          },
          "metadata": {},
          "execution_count": 38
        }
      ]
    },
    {
      "cell_type": "code",
      "source": [],
      "metadata": {
        "id": "l-vh5gcqHz_t"
      },
      "execution_count": null,
      "outputs": []
    }
  ]
}