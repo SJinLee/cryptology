{
  "nbformat": 4,
  "nbformat_minor": 0,
  "metadata": {
    "colab": {
      "provenance": [],
      "authorship_tag": "ABX9TyMvzUAWEeG4D9GOnaoCtrAf",
      "include_colab_link": true
    },
    "kernelspec": {
      "name": "python3",
      "display_name": "Python 3"
    },
    "language_info": {
      "name": "python"
    }
  },
  "cells": [
    {
      "cell_type": "markdown",
      "metadata": {
        "id": "view-in-github",
        "colab_type": "text"
      },
      "source": [
        "<a href=\"https://colab.research.google.com/github/SJinLee/cryptology/blob/main/09.ElGamal.ipynb\" target=\"_parent\"><img src=\"https://colab.research.google.com/assets/colab-badge.svg\" alt=\"Open In Colab\"/></a>"
      ]
    },
    {
      "cell_type": "code",
      "execution_count": 1,
      "metadata": {
        "colab": {
          "base_uri": "https://localhost:8080/"
        },
        "id": "ASylfZICTaC-",
        "outputId": "fdec2bc2-40f3-4ba5-88e7-bf64513f9785"
      },
      "outputs": [
        {
          "output_type": "stream",
          "name": "stdout",
          "text": [
            "Collecting pycryptodome\n",
            "  Downloading pycryptodome-3.20.0-cp35-abi3-manylinux_2_17_x86_64.manylinux2014_x86_64.whl (2.1 MB)\n",
            "\u001b[2K     \u001b[90m━━━━━━━━━━━━━━━━━━━━━━━━━━━━━━━━━━━━━━━━\u001b[0m \u001b[32m2.1/2.1 MB\u001b[0m \u001b[31m9.0 MB/s\u001b[0m eta \u001b[36m0:00:00\u001b[0m\n",
            "\u001b[?25hInstalling collected packages: pycryptodome\n",
            "Successfully installed pycryptodome-3.20.0\n"
          ]
        }
      ],
      "source": [
        "!pip install pycryptodome"
      ]
    },
    {
      "cell_type": "code",
      "source": [
        "import os\n",
        "import inspect\n",
        "import Crypto\n",
        "\n",
        "package_path = os.path.dirname(inspect.getfile(Crypto))\n",
        "print(package_path)"
      ],
      "metadata": {
        "colab": {
          "base_uri": "https://localhost:8080/"
        },
        "id": "7sytyMKO-ev3",
        "outputId": "e16e104b-f45f-4e9a-cc27-aef2de5408aa"
      },
      "execution_count": 15,
      "outputs": [
        {
          "output_type": "stream",
          "name": "stdout",
          "text": [
            "/usr/local/lib/python3.10/dist-packages/Crypto\n"
          ]
        }
      ]
    },
    {
      "cell_type": "code",
      "source": [
        "import numpy as np"
      ],
      "metadata": {
        "id": "4xv-UWXzTmbU"
      },
      "execution_count": 2,
      "outputs": []
    },
    {
      "cell_type": "code",
      "source": [
        "p = 41"
      ],
      "metadata": {
        "id": "gzkLlueITzx4"
      },
      "execution_count": 3,
      "outputs": []
    },
    {
      "cell_type": "code",
      "source": [
        "for g in range(2,p):\n",
        "    span = set()\n",
        "    for i in range(1,p):\n",
        "        span.add(g**i % p)\n",
        "    if len(span)==p-1:\n",
        "        print(g)"
      ],
      "metadata": {
        "colab": {
          "base_uri": "https://localhost:8080/"
        },
        "id": "f2-_O9AgT4yj",
        "outputId": "583c84d8-ce88-4fcc-efa1-d6f9ced09bce"
      },
      "execution_count": 4,
      "outputs": [
        {
          "output_type": "stream",
          "name": "stdout",
          "text": [
            "6\n",
            "7\n",
            "11\n",
            "12\n",
            "13\n",
            "15\n",
            "17\n",
            "19\n",
            "22\n",
            "24\n",
            "26\n",
            "28\n",
            "29\n",
            "30\n",
            "34\n",
            "35\n"
          ]
        }
      ]
    },
    {
      "cell_type": "code",
      "source": [
        "g = 11\n",
        "for i in range(1,p):\n",
        "    print(f\"{g} ^ {i} = {g**i%p}\")"
      ],
      "metadata": {
        "colab": {
          "base_uri": "https://localhost:8080/"
        },
        "id": "7NeJBgacUWW_",
        "outputId": "20c63660-7016-40bf-a761-98fa3a56636d"
      },
      "execution_count": 5,
      "outputs": [
        {
          "output_type": "stream",
          "name": "stdout",
          "text": [
            "11 ^ 1 = 11\n",
            "11 ^ 2 = 39\n",
            "11 ^ 3 = 19\n",
            "11 ^ 4 = 4\n",
            "11 ^ 5 = 3\n",
            "11 ^ 6 = 33\n",
            "11 ^ 7 = 35\n",
            "11 ^ 8 = 16\n",
            "11 ^ 9 = 12\n",
            "11 ^ 10 = 9\n",
            "11 ^ 11 = 17\n",
            "11 ^ 12 = 23\n",
            "11 ^ 13 = 7\n",
            "11 ^ 14 = 36\n",
            "11 ^ 15 = 27\n",
            "11 ^ 16 = 10\n",
            "11 ^ 17 = 28\n",
            "11 ^ 18 = 21\n",
            "11 ^ 19 = 26\n",
            "11 ^ 20 = 40\n",
            "11 ^ 21 = 30\n",
            "11 ^ 22 = 2\n",
            "11 ^ 23 = 22\n",
            "11 ^ 24 = 37\n",
            "11 ^ 25 = 38\n",
            "11 ^ 26 = 8\n",
            "11 ^ 27 = 6\n",
            "11 ^ 28 = 25\n",
            "11 ^ 29 = 29\n",
            "11 ^ 30 = 32\n",
            "11 ^ 31 = 24\n",
            "11 ^ 32 = 18\n",
            "11 ^ 33 = 34\n",
            "11 ^ 34 = 5\n",
            "11 ^ 35 = 14\n",
            "11 ^ 36 = 31\n",
            "11 ^ 37 = 13\n",
            "11 ^ 38 = 20\n",
            "11 ^ 39 = 15\n",
            "11 ^ 40 = 1\n"
          ]
        }
      ]
    },
    {
      "cell_type": "code",
      "source": [
        "from Crypto.Math.Numbers import Integer\n",
        "g = 11\n",
        "for i in range(1,p):\n",
        "    if Integer(i).gcd(p-1)==1 and i != 1:\n",
        "        print(f\"{g} ^ {i} = {g**i%p}\")"
      ],
      "metadata": {
        "colab": {
          "base_uri": "https://localhost:8080/"
        },
        "id": "3MeOrew6UoQw",
        "outputId": "2bfbcfbe-45b8-432d-eb75-5b204e1d24c8"
      },
      "execution_count": 6,
      "outputs": [
        {
          "output_type": "stream",
          "name": "stdout",
          "text": [
            "11 ^ 3 = 19\n",
            "11 ^ 7 = 35\n",
            "11 ^ 9 = 12\n",
            "11 ^ 11 = 17\n",
            "11 ^ 13 = 7\n",
            "11 ^ 17 = 28\n",
            "11 ^ 19 = 26\n",
            "11 ^ 21 = 30\n",
            "11 ^ 23 = 22\n",
            "11 ^ 27 = 6\n",
            "11 ^ 29 = 29\n",
            "11 ^ 31 = 24\n",
            "11 ^ 33 = 34\n",
            "11 ^ 37 = 13\n",
            "11 ^ 39 = 15\n"
          ]
        }
      ]
    },
    {
      "cell_type": "markdown",
      "source": [
        "* $p=41$, $g=11$\n",
        "* 개인키($X$), 공개키($y$)\n",
        "\n",
        "|$g^X=y$|$g^X=y$|$g^X=y$|$g^X=y$|\n",
        "|:---:|:---:|:---:|:---:|\n",
        "|$11 ^ 3 = 19$|$11 ^ {13} = 7$|$11 ^ {23} = 22$|$11 ^ {33} = 34$|\n",
        "|$11 ^ 7 = 35$|$11 ^ {17} = 28$|$11 ^ {27} = 6$|$11 ^ {37} = 13$|\n",
        "|$11 ^ 9 = 12$|$11 ^ {19} = 26$|$11 ^ {29} = 29$|$11 ^ {39} = 15$|\n",
        "|$11 ^ {11} = 17$|$11 ^ {21} = 30$|$11 ^ {31} = 24$||"
      ],
      "metadata": {
        "id": "t9HMujQmVek1"
      }
    },
    {
      "cell_type": "markdown",
      "source": [
        "|송신자|공개키|수신자|$r$|$C_1$|$C_2$|$M$\n",
        "|:---:|:---:|:---:|:---:|:---:|:---:|:---:|\n",
        "|원식|$6$|신욱|3|19|8|21|\n",
        "|예린|$7$|시원|4|4|11|4|\n",
        "|시원|$12$|예린|4|4|10|3|\n",
        "|성현|$13$|희영|2|39|19|3|\n",
        "|미진|$15$|성현|4|4|11|7|\n",
        "|희영|$17$|미진|8|16|14|18|\n",
        "|원우|$19$|원식|4|4|22|17|\n",
        "|신욱|$22$|지원|11|17|5|4|\n",
        "|지승|$24$|우빈|6|33|39|16|\n",
        "|우빈|$26$|지승|8|16|1|18|\n",
        "|지원|$28$|원우|5|3|12|5|\n",
        "|경도|$29$||"
      ],
      "metadata": {
        "id": "ynaE4QbbWoll"
      }
    },
    {
      "cell_type": "code",
      "source": [
        "p,g"
      ],
      "metadata": {
        "colab": {
          "base_uri": "https://localhost:8080/"
        },
        "id": "_furvkjF9JNj",
        "outputId": "2c05531c-5531-4bd2-8f87-7726a8694567"
      },
      "execution_count": 16,
      "outputs": [
        {
          "output_type": "execute_result",
          "data": {
            "text/plain": [
              "(41, 11)"
            ]
          },
          "metadata": {},
          "execution_count": 16
        }
      ]
    },
    {
      "cell_type": "code",
      "source": [
        "y = 22\n",
        "r = 3\n",
        "M = 21\n",
        "K = pow(y,r,p)\n",
        "K"
      ],
      "metadata": {
        "colab": {
          "base_uri": "https://localhost:8080/"
        },
        "id": "_MPxy9S-_49t",
        "outputId": "3230ff55-adfa-4f37-9e28-c4808528ed6d"
      },
      "execution_count": 19,
      "outputs": [
        {
          "output_type": "execute_result",
          "data": {
            "text/plain": [
              "29"
            ]
          },
          "metadata": {},
          "execution_count": 19
        }
      ]
    },
    {
      "cell_type": "code",
      "source": [
        "C1 = pow(g,r,p)\n",
        "C2 = M * K % p\n",
        "C1,C2"
      ],
      "metadata": {
        "colab": {
          "base_uri": "https://localhost:8080/"
        },
        "id": "l5-aRNWvAOFY",
        "outputId": "057e3668-a9c1-450b-b80b-38cab0b95068"
      },
      "execution_count": 20,
      "outputs": [
        {
          "output_type": "execute_result",
          "data": {
            "text/plain": [
              "(19, 35)"
            ]
          },
          "metadata": {},
          "execution_count": 20
        }
      ]
    },
    {
      "cell_type": "code",
      "source": [
        "X = 23\n",
        "K = pow(C1,X,p)\n",
        "K"
      ],
      "metadata": {
        "colab": {
          "base_uri": "https://localhost:8080/"
        },
        "id": "5UD4MYnGAalm",
        "outputId": "b411ff85-8833-41e5-87ff-cb47a469518f"
      },
      "execution_count": 21,
      "outputs": [
        {
          "output_type": "execute_result",
          "data": {
            "text/plain": [
              "29"
            ]
          },
          "metadata": {},
          "execution_count": 21
        }
      ]
    },
    {
      "cell_type": "code",
      "source": [
        "KI = Integer(K).inverse(p)\n",
        "KI"
      ],
      "metadata": {
        "colab": {
          "base_uri": "https://localhost:8080/"
        },
        "id": "Cw7PuTTtBBOZ",
        "outputId": "d6b759ee-826f-4e0e-82e8-4523acab8625"
      },
      "execution_count": 23,
      "outputs": [
        {
          "output_type": "execute_result",
          "data": {
            "text/plain": [
              "Integer(17)"
            ]
          },
          "metadata": {},
          "execution_count": 23
        }
      ]
    },
    {
      "cell_type": "code",
      "source": [
        "M2 = Integer(C2) * KI % p\n",
        "M2"
      ],
      "metadata": {
        "colab": {
          "base_uri": "https://localhost:8080/"
        },
        "id": "9kB3vzCzA03I",
        "outputId": "372bb71f-fd0f-4722-f683-6a6b3cd9916d"
      },
      "execution_count": 26,
      "outputs": [
        {
          "output_type": "execute_result",
          "data": {
            "text/plain": [
              "Integer(21)"
            ]
          },
          "metadata": {},
          "execution_count": 26
        }
      ]
    },
    {
      "cell_type": "code",
      "source": [],
      "metadata": {
        "id": "HGJQHyccBLAE"
      },
      "execution_count": null,
      "outputs": []
    }
  ]
}