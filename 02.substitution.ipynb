{
  "nbformat": 4,
  "nbformat_minor": 0,
  "metadata": {
    "colab": {
      "provenance": [],
      "authorship_tag": "ABX9TyNQGhiXPUiCd4tdgPKNRc93",
      "include_colab_link": true
    },
    "kernelspec": {
      "name": "python3",
      "display_name": "Python 3"
    },
    "language_info": {
      "name": "python"
    }
  },
  "cells": [
    {
      "cell_type": "markdown",
      "metadata": {
        "id": "view-in-github",
        "colab_type": "text"
      },
      "source": [
        "<a href=\"https://colab.research.google.com/github/SJinLee/cryptology/blob/main/02.substitution.ipynb\" target=\"_parent\"><img src=\"https://colab.research.google.com/assets/colab-badge.svg\" alt=\"Open In Colab\"/></a>"
      ]
    },
    {
      "cell_type": "markdown",
      "source": [
        "# 단순 환자 암호"
      ],
      "metadata": {
        "id": "bgk_eyepQZ7Q"
      }
    },
    {
      "cell_type": "code",
      "execution_count": 10,
      "metadata": {
        "id": "hsXJU11QLiGF"
      },
      "outputs": [],
      "source": [
        "k=dict(zip('abcdefghijklmnopqrstuvwxyz','deqirculxavwfhmnojybzkstpg'))\n"
      ]
    },
    {
      "cell_type": "code",
      "source": [
        "k"
      ],
      "metadata": {
        "colab": {
          "base_uri": "https://localhost:8080/"
        },
        "id": "lN725kHvMjKY",
        "outputId": "e9873ba6-15da-4e18-c9ca-f9aa514a1682"
      },
      "execution_count": 11,
      "outputs": [
        {
          "output_type": "execute_result",
          "data": {
            "text/plain": [
              "{'a': 'd',\n",
              " 'b': 'e',\n",
              " 'c': 'q',\n",
              " 'd': 'i',\n",
              " 'e': 'r',\n",
              " 'f': 'c',\n",
              " 'g': 'u',\n",
              " 'h': 'l',\n",
              " 'i': 'x',\n",
              " 'j': 'a',\n",
              " 'k': 'v',\n",
              " 'l': 'w',\n",
              " 'm': 'f',\n",
              " 'n': 'h',\n",
              " 'o': 'm',\n",
              " 'p': 'n',\n",
              " 'q': 'o',\n",
              " 'r': 'j',\n",
              " 's': 'y',\n",
              " 't': 'b',\n",
              " 'u': 'z',\n",
              " 'v': 'k',\n",
              " 'w': 's',\n",
              " 'x': 't',\n",
              " 'y': 'p',\n",
              " 'z': 'g'}"
            ]
          },
          "metadata": {},
          "execution_count": 11
        }
      ]
    },
    {
      "cell_type": "code",
      "source": [
        "M='substitutioncipher'"
      ],
      "metadata": {
        "id": "BZ-w5nkdMlnM"
      },
      "execution_count": 12,
      "outputs": []
    },
    {
      "cell_type": "code",
      "source": [
        "Clist=[k[x] for x in M]\n",
        "C=''.join(Clist)"
      ],
      "metadata": {
        "id": "VcQHYYr_NAnE"
      },
      "execution_count": 13,
      "outputs": []
    },
    {
      "cell_type": "code",
      "source": [
        "c"
      ],
      "metadata": {
        "colab": {
          "base_uri": "https://localhost:8080/",
          "height": 146
        },
        "id": "xjF7ZkJuNVgF",
        "outputId": "fe8c6839-bc4c-4da0-eb29-ca2cde6d5c5e"
      },
      "execution_count": 5,
      "outputs": [
        {
          "output_type": "error",
          "ename": "NameError",
          "evalue": "name 'c' is not defined",
          "traceback": [
            "\u001b[0;31m---------------------------------------------------------------------------\u001b[0m",
            "\u001b[0;31mNameError\u001b[0m                                 Traceback (most recent call last)",
            "\u001b[0;32m<ipython-input-5-2b66fd261ee5>\u001b[0m in \u001b[0;36m<cell line: 1>\u001b[0;34m()\u001b[0m\n\u001b[0;32m----> 1\u001b[0;31m \u001b[0mc\u001b[0m\u001b[0;34m\u001b[0m\u001b[0;34m\u001b[0m\u001b[0m\n\u001b[0m",
            "\u001b[0;31mNameError\u001b[0m: name 'c' is not defined"
          ]
        }
      ]
    },
    {
      "cell_type": "code",
      "source": [
        "C"
      ],
      "metadata": {
        "colab": {
          "base_uri": "https://localhost:8080/",
          "height": 35
        },
        "id": "Zdo8zbVvNW8d",
        "outputId": "c41eae92-f48f-4c2f-8e91-36d5e67bcd2d"
      },
      "execution_count": 14,
      "outputs": [
        {
          "output_type": "execute_result",
          "data": {
            "text/plain": [
              "'yzeybxbzbxmhqxnlrj'"
            ],
            "application/vnd.google.colaboratory.intrinsic+json": {
              "type": "string"
            }
          },
          "metadata": {},
          "execution_count": 14
        }
      ]
    },
    {
      "cell_type": "code",
      "source": [
        "k=dict(zip('deqirculxavwfhmnojybzkstpg','abcdefghijklmnopqrstuvwxyz'))\n",
        "Mlist=[k[x] for x in C]\n",
        "M=''.join(Mlist)"
      ],
      "metadata": {
        "id": "xiKf4EGdNX7F"
      },
      "execution_count": 15,
      "outputs": []
    },
    {
      "cell_type": "code",
      "source": [
        "M"
      ],
      "metadata": {
        "colab": {
          "base_uri": "https://localhost:8080/",
          "height": 35
        },
        "id": "izf-xVbROQKf",
        "outputId": "145dc7fb-433a-4083-9450-ebf7a9eebcc8"
      },
      "execution_count": 16,
      "outputs": [
        {
          "output_type": "execute_result",
          "data": {
            "text/plain": [
              "'substitutioncipher'"
            ],
            "application/vnd.google.colaboratory.intrinsic+json": {
              "type": "string"
            }
          },
          "metadata": {},
          "execution_count": 16
        }
      ]
    },
    {
      "cell_type": "markdown",
      "source": [
        "# Affine 암호"
      ],
      "metadata": {
        "id": "CehJzFR_OR4t"
      }
    },
    {
      "cell_type": "code",
      "source": [
        "n2a=dict(zip(range(26),'abcdefghijklmnopqrstuvwxyz'))\n",
        "a2n=dict(zip('abcdefghijklmnopqrstuvwxyz',range(26)))\n",
        "m='informationsecurity'\n",
        "k1=3\n",
        "k2=15\n",
        "cn=[(a2n[x]*k1+k2) %26 for x in m]\n",
        "c=''.join([n2a[x] for  x in cn])\n",
        "c"
      ],
      "metadata": {
        "colab": {
          "base_uri": "https://localhost:8080/",
          "height": 35
        },
        "id": "i1vmT8PjQYt4",
        "outputId": "2f4947de-cc8d-4f03-fc0b-0eb793341cd4"
      },
      "execution_count": 17,
      "outputs": [
        {
          "output_type": "execute_result",
          "data": {
            "text/plain": [
              "'ncefozpunfcrbvxonuj'"
            ],
            "application/vnd.google.colaboratory.intrinsic+json": {
              "type": "string"
            }
          },
          "metadata": {},
          "execution_count": 17
        }
      ]
    },
    {
      "cell_type": "code",
      "source": [
        "KlI=9\n",
        "Mn=[((a2n[x]-k2)*KlI) %26 for x in c]\n",
        "M=''.join([n2a[x] for x in Mn])\n",
        "M"
      ],
      "metadata": {
        "colab": {
          "base_uri": "https://localhost:8080/",
          "height": 35
        },
        "id": "pSuGWXE1TkaI",
        "outputId": "75eca417-2b93-4178-8bae-4ed26197dc82"
      },
      "execution_count": 22,
      "outputs": [
        {
          "output_type": "execute_result",
          "data": {
            "text/plain": [
              "'informationsecurity'"
            ],
            "application/vnd.google.colaboratory.intrinsic+json": {
              "type": "string"
            }
          },
          "metadata": {},
          "execution_count": 22
        }
      ]
    },
    {
      "cell_type": "code",
      "source": [
        "C"
      ],
      "metadata": {
        "colab": {
          "base_uri": "https://localhost:8080/",
          "height": 35
        },
        "id": "hcbpgOgCVoqi",
        "outputId": "4ad828e0-3a0c-48d8-f2d4-ec242408c526"
      },
      "execution_count": 19,
      "outputs": [
        {
          "output_type": "execute_result",
          "data": {
            "text/plain": [
              "'yzeybxbzbxmhqxnlrj'"
            ],
            "application/vnd.google.colaboratory.intrinsic+json": {
              "type": "string"
            }
          },
          "metadata": {},
          "execution_count": 19
        }
      ]
    },
    {
      "cell_type": "code",
      "source": [
        "c"
      ],
      "metadata": {
        "colab": {
          "base_uri": "https://localhost:8080/",
          "height": 35
        },
        "id": "ZVadsUg5WIDf",
        "outputId": "4ef0f0ed-9835-44d3-dca8-47a333751631"
      },
      "execution_count": 20,
      "outputs": [
        {
          "output_type": "execute_result",
          "data": {
            "text/plain": [
              "'ncefozpunfcrbvxonuj'"
            ],
            "application/vnd.google.colaboratory.intrinsic+json": {
              "type": "string"
            }
          },
          "metadata": {},
          "execution_count": 20
        }
      ]
    },
    {
      "cell_type": "code",
      "source": [
        "M"
      ],
      "metadata": {
        "colab": {
          "base_uri": "https://localhost:8080/",
          "height": 35
        },
        "id": "WAnl33h5WKLf",
        "outputId": "bdd93c35-dc58-41a7-e9c0-297a49106de9"
      },
      "execution_count": 21,
      "outputs": [
        {
          "output_type": "execute_result",
          "data": {
            "text/plain": [
              "'dmfdeuemeuzgjuiqsy'"
            ],
            "application/vnd.google.colaboratory.intrinsic+json": {
              "type": "string"
            }
          },
          "metadata": {},
          "execution_count": 21
        }
      ]
    },
    {
      "cell_type": "markdown",
      "source": [
        "# 동음이의 환자 암호"
      ],
      "metadata": {
        "id": "mp9l_fAOWQao"
      }
    },
    {
      "cell_type": "markdown",
      "source": [],
      "metadata": {
        "id": "O52jNFnNZ3Z5"
      }
    },
    {
      "cell_type": "code",
      "source": [
        "K = {'a': ['44','35', '12','38','01','29','56','20'],\n",
        "     'b':['04'],\n",
        "     'c':['11'],\n",
        "     'd':['64','71','47','39'],\n",
        "     'e':['48','25','19','72','80','91','93','02','92','82','79','58','97'],\n",
        "     'f':['21','30'],\n",
        "     'g':['81','18'],\n",
        "     'h':['03','59','49','70','31','17'],\n",
        "     'i':['27','42','07','83','90','60','32'],\n",
        "     'j':['52'],\n",
        "     'k':['96'],\n",
        "     'l':['61','69','51','53'],\n",
        "     'm':['50','34'],\n",
        "     'n':['89','84','73','78','68','98'],\n",
        "     'o':['67','41','62','46','43','33','16'],\n",
        "     'p':['06','43'],\n",
        "     'q':['10'],\n",
        "     'r':['13','66','86','88','63','36'],\n",
        "     's':['77','94','09','87','45','22'],\n",
        "     't':['65','55','76','23','85','74','54','57','14'],\n",
        "     'u':['08','15','99'],\n",
        "     'v':['24'],\n",
        "     'w':['75','40'],\n",
        "     'x':['37'],\n",
        "     'y':['26','05'],\n",
        "     'z':['28']}"
      ],
      "metadata": {
        "id": "qxpBzULaYyMg"
      },
      "execution_count": 42,
      "outputs": []
    },
    {
      "cell_type": "code",
      "source": [
        "P = {'a':0, 'b':0, 'c':0, 'd':0, 'e':0, 'f':0, 'g':0, 'h':0, 'i':0, 'j':0, 'k':0, 'l':0, 'm':0, 'n':0, 'o':0, 'p':0, 'q':0, 'r':0, 's':0, 't':0, 'u':0, 'v':0, 'w':0, 'x':0, 'y':0, 'z':0}"
      ],
      "metadata": {
        "id": "eRKh3Q5dZSkN"
      },
      "execution_count": 43,
      "outputs": []
    },
    {
      "cell_type": "code",
      "source": [
        "M = 'homophonicsubstitutioncipher'"
      ],
      "metadata": {
        "id": "0wQ3oda9cFeE"
      },
      "execution_count": 44,
      "outputs": []
    },
    {
      "cell_type": "code",
      "source": [
        "C = []"
      ],
      "metadata": {
        "id": "3ay5tVZUcL6p"
      },
      "execution_count": 45,
      "outputs": []
    },
    {
      "cell_type": "code",
      "source": [
        "for x in M:\n",
        "    kx = K[x]\n",
        "    C += [kx[P[x]]]\n",
        "    P[x] = (P[x] + 1) % len(kx)"
      ],
      "metadata": {
        "id": "moXw2vYFcNAS"
      },
      "execution_count": 46,
      "outputs": []
    },
    {
      "cell_type": "code",
      "source": [
        "C"
      ],
      "metadata": {
        "colab": {
          "base_uri": "https://localhost:8080/"
        },
        "id": "SDnUuLyvcgBa",
        "outputId": "ed72030f-f720-4954-c3e8-6438f8d0d46f"
      },
      "execution_count": 47,
      "outputs": [
        {
          "output_type": "execute_result",
          "data": {
            "text/plain": [
              "['03',\n",
              " '67',\n",
              " '50',\n",
              " '41',\n",
              " '06',\n",
              " '59',\n",
              " '62',\n",
              " '89',\n",
              " '27',\n",
              " '11',\n",
              " '77',\n",
              " '08',\n",
              " '04',\n",
              " '94',\n",
              " '65',\n",
              " '42',\n",
              " '55',\n",
              " '15',\n",
              " '76',\n",
              " '07',\n",
              " '46',\n",
              " '84',\n",
              " '11',\n",
              " '83',\n",
              " '43',\n",
              " '49',\n",
              " '48',\n",
              " '13']"
            ]
          },
          "metadata": {},
          "execution_count": 47
        }
      ]
    },
    {
      "cell_type": "markdown",
      "source": [
        "# Hill 암호"
      ],
      "metadata": {
        "id": "E7C4Wi9scpQP"
      }
    },
    {
      "cell_type": "code",
      "source": [
        "M = [14,15]"
      ],
      "metadata": {
        "id": "iP8vt7wteECE"
      },
      "execution_count": 48,
      "outputs": []
    },
    {
      "cell_type": "code",
      "source": [
        "K = [[11,8],[3,7]]"
      ],
      "metadata": {
        "id": "hqQgMtngeSwR"
      },
      "execution_count": 49,
      "outputs": []
    },
    {
      "cell_type": "code",
      "source": [
        "c1 = K[0][0]*M[0] + K[0][1]*M[1]\n",
        "c2 = K[1][0]*M[0] + K[1][1]*M[1]\n",
        "C = [c1 % 26,c2 % 26]\n",
        "C"
      ],
      "metadata": {
        "colab": {
          "base_uri": "https://localhost:8080/"
        },
        "id": "U8O5RtZqecxx",
        "outputId": "aba90f31-25d2-451e-87d7-b01542b094fa"
      },
      "execution_count": 52,
      "outputs": [
        {
          "output_type": "execute_result",
          "data": {
            "text/plain": [
              "[14, 17]"
            ]
          },
          "metadata": {},
          "execution_count": 52
        }
      ]
    },
    {
      "cell_type": "code",
      "source": [
        "KI = [[7,18],[23,11]]"
      ],
      "metadata": {
        "id": "Dv-WYCRce5Yb"
      },
      "execution_count": 53,
      "outputs": []
    },
    {
      "cell_type": "code",
      "source": [
        "m1 = KI[0][0]*C[0] + KI[0][1]*C[1]\n",
        "m2 = KI[1][0]*C[0] + KI[1][1]*C[1]\n",
        "M = [m1 % 26,m2 % 26]\n",
        "M"
      ],
      "metadata": {
        "colab": {
          "base_uri": "https://localhost:8080/"
        },
        "id": "nt3DyGEffLS7",
        "outputId": "0666fc47-dd58-40af-c961-a697389c5321"
      },
      "execution_count": 54,
      "outputs": [
        {
          "output_type": "execute_result",
          "data": {
            "text/plain": [
              "[14, 15]"
            ]
          },
          "metadata": {},
          "execution_count": 54
        }
      ]
    },
    {
      "cell_type": "code",
      "source": [],
      "metadata": {
        "id": "jKZjCHPffeuj"
      },
      "execution_count": null,
      "outputs": []
    }
  ]
}