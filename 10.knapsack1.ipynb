{
  "nbformat": 4,
  "nbformat_minor": 0,
  "metadata": {
    "colab": {
      "provenance": [],
      "authorship_tag": "ABX9TyPM/leyp3OM7/Adu+UVEa2v",
      "include_colab_link": true
    },
    "kernelspec": {
      "name": "python3",
      "display_name": "Python 3"
    },
    "language_info": {
      "name": "python"
    }
  },
  "cells": [
    {
      "cell_type": "markdown",
      "metadata": {
        "id": "view-in-github",
        "colab_type": "text"
      },
      "source": [
        "<a href=\"https://colab.research.google.com/github/SJinLee/cryptology/blob/main/10.knapsack1.ipynb\" target=\"_parent\"><img src=\"https://colab.research.google.com/assets/colab-badge.svg\" alt=\"Open In Colab\"/></a>"
      ]
    },
    {
      "cell_type": "code",
      "source": [
        "!pip install pycryptodome"
      ],
      "metadata": {
        "colab": {
          "base_uri": "https://localhost:8080/"
        },
        "id": "aZy2eB_TB56C",
        "outputId": "603b5067-b09a-4497-8957-8b36719ed0d6"
      },
      "execution_count": 1,
      "outputs": [
        {
          "output_type": "stream",
          "name": "stdout",
          "text": [
            "Collecting pycryptodome\n",
            "  Downloading pycryptodome-3.20.0-cp35-abi3-manylinux_2_17_x86_64.manylinux2014_x86_64.whl (2.1 MB)\n",
            "\u001b[2K     \u001b[90m━━━━━━━━━━━━━━━━━━━━━━━━━━━━━━━━━━━━━━━━\u001b[0m \u001b[32m2.1/2.1 MB\u001b[0m \u001b[31m11.4 MB/s\u001b[0m eta \u001b[36m0:00:00\u001b[0m\n",
            "\u001b[?25hInstalling collected packages: pycryptodome\n",
            "Successfully installed pycryptodome-3.20.0\n"
          ]
        }
      ]
    },
    {
      "cell_type": "code",
      "source": [
        "from Crypto.Math.Numbers import Integer"
      ],
      "metadata": {
        "id": "x-4afJMfB-8r"
      },
      "execution_count": 2,
      "outputs": []
    },
    {
      "cell_type": "code",
      "execution_count": 3,
      "metadata": {
        "colab": {
          "base_uri": "https://localhost:8080/"
        },
        "id": "LKaQYPmKBraE",
        "outputId": "f340d5ca-8576-4720-b211-324e4112f282"
      },
      "outputs": [
        {
          "output_type": "execute_result",
          "data": {
            "text/plain": [
              "Integer(1)"
            ]
          },
          "metadata": {},
          "execution_count": 3
        }
      ],
      "source": [
        "ap = [1,2,4,8,16,32]\n",
        "m = 58\n",
        "w = 41\n",
        "Integer(m).gcd(w)"
      ]
    },
    {
      "cell_type": "code",
      "source": [
        "wi = Integer(w).inverse(m)"
      ],
      "metadata": {
        "id": "-0j7G3zGCHfV"
      },
      "execution_count": 4,
      "outputs": []
    },
    {
      "cell_type": "code",
      "source": [
        "wi"
      ],
      "metadata": {
        "colab": {
          "base_uri": "https://localhost:8080/"
        },
        "id": "klBP4EXYCWC6",
        "outputId": "645cb4c1-d294-4fae-a13b-7bc37a5c38d7"
      },
      "execution_count": 5,
      "outputs": [
        {
          "output_type": "execute_result",
          "data": {
            "text/plain": [
              "Integer(17)"
            ]
          },
          "metadata": {},
          "execution_count": 5
        }
      ]
    },
    {
      "cell_type": "code",
      "source": [
        "a = [x*w % m for x in ap]\n",
        "a"
      ],
      "metadata": {
        "colab": {
          "base_uri": "https://localhost:8080/"
        },
        "id": "Q16QR0o0CXDh",
        "outputId": "4ce60998-f577-4d27-88ee-a3deab8f17df"
      },
      "execution_count": 6,
      "outputs": [
        {
          "output_type": "execute_result",
          "data": {
            "text/plain": [
              "[41, 24, 48, 38, 18, 36]"
            ]
          },
          "metadata": {},
          "execution_count": 6
        }
      ]
    },
    {
      "cell_type": "markdown",
      "source": [
        "* 공개키: 41, 24, 48, 38, 18, 36\n",
        "* 개인키: $m=58$, $w=41$, $w^{-1}=17$"
      ],
      "metadata": {
        "id": "PHoCi3CVCkht"
      }
    },
    {
      "cell_type": "code",
      "source": [
        "M = [0,1,0,1,1,0]\n",
        "C = sum([x*y for x,y in zip(M,a)])\n",
        "C"
      ],
      "metadata": {
        "id": "YtsgOmEwC0ER",
        "colab": {
          "base_uri": "https://localhost:8080/"
        },
        "outputId": "7abf3d59-b12b-4a74-fb03-210e94081be6"
      },
      "execution_count": 8,
      "outputs": [
        {
          "output_type": "execute_result",
          "data": {
            "text/plain": [
              "80"
            ]
          },
          "metadata": {},
          "execution_count": 8
        }
      ]
    },
    {
      "cell_type": "code",
      "source": [
        "Cp = C*int(wi) % m\n",
        "Cp"
      ],
      "metadata": {
        "colab": {
          "base_uri": "https://localhost:8080/"
        },
        "id": "yyt7mIXPDCFi",
        "outputId": "2b60e9ac-c8b3-4be8-9fe5-dab187faff8e"
      },
      "execution_count": 14,
      "outputs": [
        {
          "output_type": "execute_result",
          "data": {
            "text/plain": [
              "26"
            ]
          },
          "metadata": {},
          "execution_count": 14
        }
      ]
    },
    {
      "cell_type": "code",
      "source": [
        "M2 = []\n",
        "for x in ap[::-1]:\n",
        "    if x<=Cp:\n",
        "        M2 = [1] + M2\n",
        "        Cp -= x\n",
        "    else:\n",
        "        M2 = [0] + M2"
      ],
      "metadata": {
        "id": "LV0lCcuNDMqq"
      },
      "execution_count": 15,
      "outputs": []
    },
    {
      "cell_type": "code",
      "source": [
        "M2"
      ],
      "metadata": {
        "colab": {
          "base_uri": "https://localhost:8080/"
        },
        "id": "4Oaw8ViyEKRL",
        "outputId": "eccbcc84-cdc2-437e-b56e-98ac0fbfcfd9"
      },
      "execution_count": 16,
      "outputs": [
        {
          "output_type": "execute_result",
          "data": {
            "text/plain": [
              "[0, 1, 0, 1, 1, 0]"
            ]
          },
          "metadata": {},
          "execution_count": 16
        }
      ]
    },
    {
      "cell_type": "code",
      "source": [],
      "metadata": {
        "colab": {
          "base_uri": "https://localhost:8080/"
        },
        "id": "JXZKTzNQELJM",
        "outputId": "1ef1e4f2-bcbb-4bbf-fc09-ae60fdef7b36"
      },
      "execution_count": null,
      "outputs": [
        {
          "output_type": "execute_result",
          "data": {
            "text/plain": [
              "[1, 2, 4, 8, 16, 32]"
            ]
          },
          "metadata": {},
          "execution_count": 14
        }
      ]
    },
    {
      "cell_type": "markdown",
      "source": [
        "다른 예"
      ],
      "metadata": {
        "id": "g_QXysaSEOjf"
      }
    },
    {
      "cell_type": "code",
      "source": [
        "M = [1,1,0,0,1,0]\n",
        "C = sum([x*y for x,y in zip(M,a)])\n",
        "C"
      ],
      "metadata": {
        "colab": {
          "base_uri": "https://localhost:8080/"
        },
        "id": "PsNllxSoSpsI",
        "outputId": "f8093212-d68a-4137-e1b5-120f3ecbca40"
      },
      "execution_count": 17,
      "outputs": [
        {
          "output_type": "execute_result",
          "data": {
            "text/plain": [
              "83"
            ]
          },
          "metadata": {},
          "execution_count": 17
        }
      ]
    },
    {
      "cell_type": "markdown",
      "source": [
        "암호문: 83"
      ],
      "metadata": {
        "id": "JHAbTc3VSs0q"
      }
    },
    {
      "cell_type": "code",
      "source": [
        "Cp = C*int(wi) % m\n",
        "Cp"
      ],
      "metadata": {
        "colab": {
          "base_uri": "https://localhost:8080/"
        },
        "id": "5abh9YnFSxJQ",
        "outputId": "419f6163-d09a-4236-c5ef-4fb083344edb"
      },
      "execution_count": 18,
      "outputs": [
        {
          "output_type": "execute_result",
          "data": {
            "text/plain": [
              "19"
            ]
          },
          "metadata": {},
          "execution_count": 18
        }
      ]
    },
    {
      "cell_type": "code",
      "source": [
        "M2 = []\n",
        "for x in ap[::-1]:\n",
        "    if x<=Cp:\n",
        "        M2 = [1] + M2\n",
        "        Cp -= x\n",
        "    else:\n",
        "        M2 = [0] + M2"
      ],
      "metadata": {
        "id": "NSD_djfsS1d8"
      },
      "execution_count": 19,
      "outputs": []
    },
    {
      "cell_type": "code",
      "source": [
        "M2"
      ],
      "metadata": {
        "colab": {
          "base_uri": "https://localhost:8080/"
        },
        "id": "ncNqbRoOS4sz",
        "outputId": "5539e472-dfc6-4dd3-838d-d0b1f35a2ba1"
      },
      "execution_count": 20,
      "outputs": [
        {
          "output_type": "execute_result",
          "data": {
            "text/plain": [
              "[1, 1, 0, 0, 1, 0]"
            ]
          },
          "metadata": {},
          "execution_count": 20
        }
      ]
    },
    {
      "cell_type": "code",
      "source": [],
      "metadata": {
        "id": "Ebi9V9TMS7NE"
      },
      "execution_count": null,
      "outputs": []
    }
  ]
}