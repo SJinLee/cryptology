{
  "nbformat": 4,
  "nbformat_minor": 0,
  "metadata": {
    "colab": {
      "provenance": [],
      "authorship_tag": "ABX9TyMkOU0X6amhS1Gc9sYQKE1u",
      "include_colab_link": true
    },
    "kernelspec": {
      "name": "python3",
      "display_name": "Python 3"
    },
    "language_info": {
      "name": "python"
    }
  },
  "cells": [
    {
      "cell_type": "markdown",
      "metadata": {
        "id": "view-in-github",
        "colab_type": "text"
      },
      "source": [
        "<a href=\"https://colab.research.google.com/github/SJinLee/cryptology/blob/main/10.knapsack1.ipynb\" target=\"_parent\"><img src=\"https://colab.research.google.com/assets/colab-badge.svg\" alt=\"Open In Colab\"/></a>"
      ]
    },
    {
      "cell_type": "code",
      "source": [
        "!pip install pycryptodome"
      ],
      "metadata": {
        "colab": {
          "base_uri": "https://localhost:8080/"
        },
        "id": "aZy2eB_TB56C",
        "outputId": "552df531-b7f5-47dc-cb9d-eff4339f128d"
      },
      "execution_count": 2,
      "outputs": [
        {
          "output_type": "stream",
          "name": "stdout",
          "text": [
            "Collecting pycryptodome\n",
            "  Downloading pycryptodome-3.20.0-cp35-abi3-manylinux_2_17_x86_64.manylinux2014_x86_64.whl (2.1 MB)\n",
            "\u001b[2K     \u001b[90m━━━━━━━━━━━━━━━━━━━━━━━━━━━━━━━━━━━━━━━━\u001b[0m \u001b[32m2.1/2.1 MB\u001b[0m \u001b[31m5.7 MB/s\u001b[0m eta \u001b[36m0:00:00\u001b[0m\n",
            "\u001b[?25hInstalling collected packages: pycryptodome\n",
            "Successfully installed pycryptodome-3.20.0\n"
          ]
        }
      ]
    },
    {
      "cell_type": "code",
      "source": [
        "from Crypto.Math.Numbers import Integer"
      ],
      "metadata": {
        "id": "x-4afJMfB-8r"
      },
      "execution_count": 3,
      "outputs": []
    },
    {
      "cell_type": "code",
      "execution_count": 7,
      "metadata": {
        "colab": {
          "base_uri": "https://localhost:8080/"
        },
        "id": "LKaQYPmKBraE",
        "outputId": "418638e9-ef54-4f63-d731-7bf4a8cd6b60"
      },
      "outputs": [
        {
          "output_type": "execute_result",
          "data": {
            "text/plain": [
              "Integer(1)"
            ]
          },
          "metadata": {},
          "execution_count": 7
        }
      ],
      "source": [
        "ap = [1,2,4,8,16,32]\n",
        "m = 58\n",
        "w = 41\n",
        "Integer(m).gcd(w)"
      ]
    },
    {
      "cell_type": "code",
      "source": [
        "wi = Integer(w).inverse(m)"
      ],
      "metadata": {
        "id": "-0j7G3zGCHfV"
      },
      "execution_count": 5,
      "outputs": []
    },
    {
      "cell_type": "code",
      "source": [
        "wi"
      ],
      "metadata": {
        "colab": {
          "base_uri": "https://localhost:8080/"
        },
        "id": "klBP4EXYCWC6",
        "outputId": "f31e4822-58b3-4558-b1c4-01925d5f7c7b"
      },
      "execution_count": 6,
      "outputs": [
        {
          "output_type": "execute_result",
          "data": {
            "text/plain": [
              "Integer(17)"
            ]
          },
          "metadata": {},
          "execution_count": 6
        }
      ]
    },
    {
      "cell_type": "code",
      "source": [
        "a = [x*w % m for x in ap]\n",
        "a"
      ],
      "metadata": {
        "colab": {
          "base_uri": "https://localhost:8080/"
        },
        "id": "Q16QR0o0CXDh",
        "outputId": "61ec52a8-8264-45cd-e816-ad80aad41f96"
      },
      "execution_count": 8,
      "outputs": [
        {
          "output_type": "execute_result",
          "data": {
            "text/plain": [
              "[41, 24, 48, 38, 18, 36]"
            ]
          },
          "metadata": {},
          "execution_count": 8
        }
      ]
    },
    {
      "cell_type": "markdown",
      "source": [
        "* 공개키: 41, 24, 48, 38, 18, 36\n",
        "* 개인키: $m=58$, $w=41$, $w^{-1}=17$"
      ],
      "metadata": {
        "id": "PHoCi3CVCkht"
      }
    },
    {
      "cell_type": "code",
      "source": [
        "M = [0,1,0,1,1,0]\n",
        "C = sum([x*y for x,y in zip(M,a)]) % m"
      ],
      "metadata": {
        "id": "YtsgOmEwC0ER"
      },
      "execution_count": 15,
      "outputs": []
    },
    {
      "cell_type": "code",
      "source": [
        "Cp = C*int(wi) % m\n",
        "Cp"
      ],
      "metadata": {
        "colab": {
          "base_uri": "https://localhost:8080/"
        },
        "id": "yyt7mIXPDCFi",
        "outputId": "019afcae-f498-4da4-b828-d45451c43af8"
      },
      "execution_count": 16,
      "outputs": [
        {
          "output_type": "execute_result",
          "data": {
            "text/plain": [
              "26"
            ]
          },
          "metadata": {},
          "execution_count": 16
        }
      ]
    },
    {
      "cell_type": "code",
      "source": [
        "M2 = []\n",
        "for x in ap[::-1]:\n",
        "    if x<Cp:\n",
        "        M2 = [1] + M2\n",
        "        Cp -= x\n",
        "    else:\n",
        "        M2 = [0] + M2"
      ],
      "metadata": {
        "id": "LV0lCcuNDMqq"
      },
      "execution_count": 17,
      "outputs": []
    },
    {
      "cell_type": "code",
      "source": [
        "M2"
      ],
      "metadata": {
        "colab": {
          "base_uri": "https://localhost:8080/"
        },
        "id": "4Oaw8ViyEKRL",
        "outputId": "27552a92-073b-4e62-f0a9-f4662baf11dc"
      },
      "execution_count": 18,
      "outputs": [
        {
          "output_type": "execute_result",
          "data": {
            "text/plain": [
              "[1, 0, 0, 1, 1, 0]"
            ]
          },
          "metadata": {},
          "execution_count": 18
        }
      ]
    },
    {
      "cell_type": "code",
      "source": [],
      "metadata": {
        "colab": {
          "base_uri": "https://localhost:8080/"
        },
        "id": "JXZKTzNQELJM",
        "outputId": "1ef1e4f2-bcbb-4bbf-fc09-ae60fdef7b36"
      },
      "execution_count": 14,
      "outputs": [
        {
          "output_type": "execute_result",
          "data": {
            "text/plain": [
              "[1, 2, 4, 8, 16, 32]"
            ]
          },
          "metadata": {},
          "execution_count": 14
        }
      ]
    },
    {
      "cell_type": "code",
      "source": [],
      "metadata": {
        "id": "g_QXysaSEOjf"
      },
      "execution_count": null,
      "outputs": []
    }
  ]
}