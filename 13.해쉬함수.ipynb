{
  "nbformat": 4,
  "nbformat_minor": 0,
  "metadata": {
    "colab": {
      "provenance": [],
      "authorship_tag": "ABX9TyOkGR93IhecFjtyNgNT/2WX",
      "include_colab_link": true
    },
    "kernelspec": {
      "name": "python3",
      "display_name": "Python 3"
    },
    "language_info": {
      "name": "python"
    }
  },
  "cells": [
    {
      "cell_type": "markdown",
      "metadata": {
        "id": "view-in-github",
        "colab_type": "text"
      },
      "source": [
        "<a href=\"https://colab.research.google.com/github/SJinLee/cryptology/blob/main/13.%ED%95%B4%EC%89%AC%ED%95%A8%EC%88%98.ipynb\" target=\"_parent\"><img src=\"https://colab.research.google.com/assets/colab-badge.svg\" alt=\"Open In Colab\"/></a>"
      ]
    },
    {
      "cell_type": "markdown",
      "source": [
        "# MD5\n",
        "\n",
        "* [위키백과 MD5](https://ko.wikipedia.org/wiki/MD5)"
      ],
      "metadata": {
        "id": "Xami-bPMuvt9"
      }
    },
    {
      "cell_type": "code",
      "source": [
        "# r specifies the per-round shift amounts\n",
        "r = [7, 12, 17, 22,  7, 12, 17, 22,  7, 12, 17, 22,  7, 12, 17, 22]\n",
        "r += [5,  9, 14, 20,  5,  9, 14, 20,  5,  9, 14, 20,  5,  9, 14, 20]\n",
        "r += [4, 11, 16, 23,  4, 11, 16, 23,  4, 11, 16, 23,  4, 11, 16, 23]\n",
        "r += [6, 10, 15, 21,  6, 10, 15, 21,  6, 10, 15, 21,  6, 10, 15, 21]"
      ],
      "metadata": {
        "id": "tRBvt_lvlh9F"
      },
      "execution_count": 1,
      "outputs": []
    },
    {
      "cell_type": "markdown",
      "source": [
        "# SHA\n",
        "* [위키백과 SHA](https://ko.wikipedia.org/wiki/SHA)\n",
        "* [SHA1/SHA2 알고리즘](https://m.blog.naver.com/vjhh0712v/221453210356)"
      ],
      "metadata": {
        "id": "vpCZMmufyz2P"
      }
    },
    {
      "cell_type": "code",
      "source": [],
      "metadata": {
        "id": "Uezg0UKJdfcn"
      },
      "execution_count": null,
      "outputs": []
    }
  ]
}