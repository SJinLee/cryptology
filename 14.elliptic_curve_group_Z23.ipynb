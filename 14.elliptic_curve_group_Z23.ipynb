{
  "cells": [
    {
      "cell_type": "markdown",
      "metadata": {
        "id": "view-in-github",
        "colab_type": "text"
      },
      "source": [
        "<a href=\"https://colab.research.google.com/github/SJinLee/cryptology/blob/main/14.elliptic_curve_group_Z23.ipynb\" target=\"_parent\"><img src=\"https://colab.research.google.com/assets/colab-badge.svg\" alt=\"Open In Colab\"/></a>"
      ]
    },
    {
      "cell_type": "code",
      "execution_count": 1,
      "id": "06748244-bfee-4e6a-a433-73e9dfd2591b",
      "metadata": {
        "id": "06748244-bfee-4e6a-a433-73e9dfd2591b"
      },
      "outputs": [],
      "source": [
        "p=23"
      ]
    },
    {
      "cell_type": "code",
      "execution_count": 2,
      "id": "9cc9ecd2-755e-4370-8194-3e36c1c25e06",
      "metadata": {
        "id": "9cc9ecd2-755e-4370-8194-3e36c1c25e06"
      },
      "outputs": [],
      "source": [
        "def ysquare(x):\n",
        "    return x**3+x+1"
      ]
    },
    {
      "cell_type": "code",
      "execution_count": 3,
      "id": "454fffd9-6479-46c2-aecc-33e9caceb7c2",
      "metadata": {
        "colab": {
          "base_uri": "https://localhost:8080/"
        },
        "id": "454fffd9-6479-46c2-aecc-33e9caceb7c2",
        "outputId": "9377a82f-02d9-4aa4-879f-69f09ae3e85b"
      },
      "outputs": [
        {
          "output_type": "stream",
          "name": "stdout",
          "text": [
            "1,1\n",
            "2,4\n",
            "3,9\n",
            "4,16\n",
            "5,2\n",
            "6,13\n",
            "7,3\n",
            "8,18\n",
            "9,12\n",
            "10,8\n",
            "11,6\n",
            "12,6\n",
            "13,8\n",
            "14,12\n",
            "15,18\n",
            "16,3\n",
            "17,13\n",
            "18,2\n",
            "19,16\n",
            "20,9\n",
            "21,4\n",
            "22,1\n"
          ]
        }
      ],
      "source": [
        "for i in range(1,p):\n",
        "    print(f'{i},{(i**2)%p}')"
      ]
    },
    {
      "cell_type": "code",
      "execution_count": 4,
      "id": "abf7f1c7-649f-42e5-a745-b9166d55b326",
      "metadata": {
        "colab": {
          "base_uri": "https://localhost:8080/"
        },
        "id": "abf7f1c7-649f-42e5-a745-b9166d55b326",
        "outputId": "e071ffcd-ef31-41cf-f131-a87fad342910"
      },
      "outputs": [
        {
          "output_type": "execute_result",
          "data": {
            "text/plain": [
              "({0: 0,\n",
              "  1: 1,\n",
              "  4: 2,\n",
              "  9: 3,\n",
              "  16: 4,\n",
              "  2: 5,\n",
              "  13: 6,\n",
              "  3: 7,\n",
              "  18: 8,\n",
              "  12: 9,\n",
              "  8: 10,\n",
              "  6: 11},\n",
              " {0, 1, 2, 3, 4, 6, 8, 9, 12, 13, 16, 18})"
            ]
          },
          "metadata": {},
          "execution_count": 4
        }
      ],
      "source": [
        "squaredict = {(i**2)%p:i for i in range(0,p) if i<=p//2}\n",
        "quad_res = set(squaredict.keys())\n",
        "squaredict ,quad_res"
      ]
    },
    {
      "cell_type": "code",
      "execution_count": 5,
      "id": "e8e70e62-9d30-433c-87ab-b8d79334c7b7",
      "metadata": {
        "colab": {
          "base_uri": "https://localhost:8080/"
        },
        "id": "e8e70e62-9d30-433c-87ab-b8d79334c7b7",
        "outputId": "7edb4dc8-cbb7-43eb-d870-3d5dc64fdbbc"
      },
      "outputs": [
        {
          "output_type": "stream",
          "name": "stdout",
          "text": [
            "x|x^3+x+1|이차잉여|y|\n",
            "---|---|---|---\n",
            "0|1|True|±1\n",
            "1|3|True|±7\n",
            "2|11|False|X\n",
            "3|8|True|±10\n",
            "4|0|True|0\n",
            "5|16|True|±4\n",
            "6|16|True|±4\n",
            "7|6|True|±11\n",
            "8|15|False|X\n",
            "9|3|True|±7\n",
            "10|22|False|X\n",
            "11|9|True|±3\n",
            "12|16|True|±4\n",
            "13|3|True|±7\n",
            "14|22|False|X\n",
            "15|10|False|X\n",
            "16|19|False|X\n",
            "17|9|True|±3\n",
            "18|9|True|±3\n",
            "19|2|True|±5\n",
            "20|17|False|X\n",
            "21|14|False|X\n",
            "22|22|False|X\n"
          ]
        }
      ],
      "source": [
        "print('x|x^3+x+1|이차잉여|y|')\n",
        "print('---|---|---|---')\n",
        "eg = []\n",
        "for i in range(0,p):\n",
        "    val = (i**3+i+1)%p\n",
        "    isquadres = val in quad_res\n",
        "    y = squaredict[val] if isquadres else None\n",
        "    if y is not None:\n",
        "        if y==0:\n",
        "            eg += [(i,y)]\n",
        "        else:\n",
        "            eg += [(i,y),(i,p-y)]\n",
        "    print(f\"{i}|{val}|{isquadres}|{('±' if y!=0 else '') if isquadres else 'X'}{y if isquadres else ''}\")"
      ]
    },
    {
      "cell_type": "markdown",
      "id": "c67d3649-5dc5-4b9e-85cd-085e70c5e9c5",
      "metadata": {
        "id": "c67d3649-5dc5-4b9e-85cd-085e70c5e9c5"
      },
      "source": [
        "x|x^3+x+1|이차잉여|y|\n",
        "---|---|---|---\n",
        "0|1|True|±1\n",
        "1|3|True|±7\n",
        "2|11|False|X\n",
        "3|8|True|±10\n",
        "4|0|True|0\n",
        "5|16|True|±4\n",
        "6|16|True|±4\n",
        "7|6|True|±11\n",
        "8|15|False|X\n",
        "9|3|True|±7\n",
        "10|22|False|X\n",
        "11|9|True|±3\n",
        "12|16|True|±4\n",
        "13|3|True|±7\n",
        "14|22|False|X\n",
        "15|10|False|X\n",
        "16|19|False|X\n",
        "17|9|True|±3\n",
        "18|9|True|±3\n",
        "19|2|True|±5\n",
        "20|17|False|X\n",
        "21|14|False|X\n",
        "22|22|False|X"
      ]
    },
    {
      "cell_type": "code",
      "execution_count": 6,
      "id": "18e2048c-217d-4570-a888-2e5362f6da05",
      "metadata": {
        "id": "18e2048c-217d-4570-a888-2e5362f6da05"
      },
      "outputs": [],
      "source": [
        "gfinv = {}\n",
        "for i in range(1,p):\n",
        "    for j in range(1,p):\n",
        "        if i*j % p == 1:\n",
        "            gfinv[i] = j"
      ]
    },
    {
      "cell_type": "code",
      "execution_count": 7,
      "id": "14fbb9dd-2534-4c7f-8c9b-50a54b56cb8a",
      "metadata": {
        "colab": {
          "base_uri": "https://localhost:8080/"
        },
        "id": "14fbb9dd-2534-4c7f-8c9b-50a54b56cb8a",
        "outputId": "d2f006cf-fcb4-442e-ef53-82dba812e12a"
      },
      "outputs": [
        {
          "output_type": "execute_result",
          "data": {
            "text/plain": [
              "{1: 1,\n",
              " 2: 12,\n",
              " 3: 8,\n",
              " 4: 6,\n",
              " 5: 14,\n",
              " 6: 4,\n",
              " 7: 10,\n",
              " 8: 3,\n",
              " 9: 18,\n",
              " 10: 7,\n",
              " 11: 21,\n",
              " 12: 2,\n",
              " 13: 16,\n",
              " 14: 5,\n",
              " 15: 20,\n",
              " 16: 13,\n",
              " 17: 19,\n",
              " 18: 9,\n",
              " 19: 17,\n",
              " 20: 15,\n",
              " 21: 11,\n",
              " 22: 22}"
            ]
          },
          "metadata": {},
          "execution_count": 7
        }
      ],
      "source": [
        "gfinv"
      ]
    },
    {
      "cell_type": "code",
      "execution_count": 8,
      "id": "551fd0b9-095a-4e99-867a-58be9378f3f8",
      "metadata": {
        "id": "551fd0b9-095a-4e99-867a-58be9378f3f8"
      },
      "outputs": [],
      "source": [
        "# print('A|B|A+B')\n",
        "# print('---|---|---')\n",
        "mtable = {}\n",
        "for A in eg:\n",
        "    row = {}\n",
        "    for B in eg:\n",
        "        if A==B:\n",
        "            x,y=A\n",
        "            if y != 0:\n",
        "                alpha = (3*x*x+1)*gfinv[(2*y)%p]\n",
        "                beta = y - alpha*x\n",
        "                x3 = (alpha * alpha - 2*x) % p\n",
        "                y3 = (-y - alpha*(x3-x)) % p\n",
        "            else:\n",
        "                x3 = y3 = None\n",
        "        elif A[0] != B[0]:\n",
        "            x1,y1=A\n",
        "            x2,y2=B\n",
        "            alpha = (y1-y2)*gfinv[(x1-x2)%p]\n",
        "            beta = y1 - alpha*x1\n",
        "            x3 = (alpha * alpha - x1 - x2) % p\n",
        "            y3 = (-y1 - alpha*(x3-x1)) % p\n",
        "        else:\n",
        "            x3 = y3 = None\n",
        "        row[B] = (x3,y3)\n",
        "        # if x3 is not None:\n",
        "        #     print(f\"{A}|{B}|{(x3,y3)}\")\n",
        "    row[(None,None)] = A\n",
        "    mtable[A] = row\n",
        "mtable[(None,None)] = {}\n",
        "mtable[(None,None)][(None,None)] = (None,None)\n",
        "for A in eg:\n",
        "    mtable[(None,None)][A] = A"
      ]
    },
    {
      "cell_type": "code",
      "execution_count": 9,
      "id": "ba9b18a8-3203-45ea-a8fc-77d316e55002",
      "metadata": {
        "colab": {
          "base_uri": "https://localhost:8080/"
        },
        "id": "ba9b18a8-3203-45ea-a8fc-77d316e55002",
        "outputId": "251b9a34-22ac-4293-f57a-c810c81a7569"
      },
      "outputs": [
        {
          "output_type": "stream",
          "name": "stdout",
          "text": [
            "P=(3, 10)\n",
            "2P=(7, 12)\n",
            "3P=(19, 5)\n",
            "4P=(17, 3)\n",
            "5P=(9, 16)\n",
            "6P=(12, 4)\n",
            "7P=(11, 3)\n",
            "8P=(13, 16)\n",
            "9P=(0, 1)\n",
            "10P=(6, 4)\n",
            "11P=(18, 20)\n",
            "12P=(5, 4)\n",
            "13P=(1, 7)\n",
            "14P=(4, 0)\n",
            "15P=(1, 16)\n",
            "16P=(5, 19)\n",
            "17P=(18, 3)\n",
            "18P=(6, 19)\n",
            "19P=(0, 22)\n",
            "20P=(13, 7)\n",
            "21P=(11, 20)\n",
            "22P=(12, 19)\n",
            "23P=(9, 7)\n",
            "24P=(17, 20)\n",
            "25P=(19, 18)\n",
            "26P=(7, 11)\n",
            "27P=(3, 13)\n",
            "28P=(None, None)\n"
          ]
        }
      ],
      "source": [
        "P = (3,10)\n",
        "Q = (3,10)\n",
        "nP = {1:P}\n",
        "print(f'P={P}')\n",
        "for i in range(2,29):\n",
        "    Q = mtable[P][Q]\n",
        "    nP[i] = Q\n",
        "    print(f'{i}P={Q}')"
      ]
    },
    {
      "cell_type": "code",
      "execution_count": 10,
      "id": "cc2c7693-2356-412c-b995-7064dfcbf1cf",
      "metadata": {
        "colab": {
          "base_uri": "https://localhost:8080/"
        },
        "id": "cc2c7693-2356-412c-b995-7064dfcbf1cf",
        "outputId": "a3819fc1-9774-4212-987b-b62d03ec9a20"
      },
      "outputs": [
        {
          "output_type": "execute_result",
          "data": {
            "text/plain": [
              "((17, 3), (9, 16))"
            ]
          },
          "metadata": {},
          "execution_count": 10
        }
      ],
      "source": [
        "nP[4],nP[5]"
      ]
    },
    {
      "cell_type": "code",
      "execution_count": 11,
      "id": "3b6518b3-e74f-4044-ad1b-864b6981194d",
      "metadata": {
        "colab": {
          "base_uri": "https://localhost:8080/"
        },
        "id": "3b6518b3-e74f-4044-ad1b-864b6981194d",
        "outputId": "ef7b557c-1dc4-4ee3-f41c-3bd28031d1c1"
      },
      "outputs": [
        {
          "output_type": "execute_result",
          "data": {
            "text/plain": [
              "(0, 1)"
            ]
          },
          "metadata": {},
          "execution_count": 11
        }
      ],
      "source": [
        "mtable[nP[4]][nP[5]]"
      ]
    },
    {
      "cell_type": "code",
      "execution_count": 12,
      "id": "1dfc7b38-fd43-4794-baed-5b759cfd1c42",
      "metadata": {
        "colab": {
          "base_uri": "https://localhost:8080/"
        },
        "id": "1dfc7b38-fd43-4794-baed-5b759cfd1c42",
        "outputId": "6f295993-314f-4db4-8cc9-bc059baa2933"
      },
      "outputs": [
        {
          "output_type": "execute_result",
          "data": {
            "text/plain": [
              "27"
            ]
          },
          "metadata": {},
          "execution_count": 12
        }
      ],
      "source": [
        "len(eg)"
      ]
    },
    {
      "cell_type": "code",
      "execution_count": null,
      "id": "758023b9-007f-4547-a596-5281770dfb6d",
      "metadata": {
        "id": "758023b9-007f-4547-a596-5281770dfb6d"
      },
      "outputs": [],
      "source": []
    }
  ],
  "metadata": {
    "kernelspec": {
      "display_name": "python3.9-base",
      "language": "python",
      "name": "python3.9-base"
    },
    "language_info": {
      "codemirror_mode": {
        "name": "ipython",
        "version": 3
      },
      "file_extension": ".py",
      "mimetype": "text/x-python",
      "name": "python",
      "nbconvert_exporter": "python",
      "pygments_lexer": "ipython3",
      "version": "3.9.21"
    },
    "colab": {
      "provenance": [],
      "include_colab_link": true
    }
  },
  "nbformat": 4,
  "nbformat_minor": 5
}