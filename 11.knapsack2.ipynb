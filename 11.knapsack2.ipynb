{
  "nbformat": 4,
  "nbformat_minor": 0,
  "metadata": {
    "colab": {
      "provenance": [],
      "authorship_tag": "ABX9TyP4lJFBzBGoePQAhCP5YzNh",
      "include_colab_link": true
    },
    "kernelspec": {
      "name": "python3",
      "display_name": "Python 3"
    },
    "language_info": {
      "name": "python"
    }
  },
  "cells": [
    {
      "cell_type": "markdown",
      "metadata": {
        "id": "view-in-github",
        "colab_type": "text"
      },
      "source": [
        "<a href=\"https://colab.research.google.com/github/SJinLee/cryptology/blob/main/11.knapsack2.ipynb\" target=\"_parent\"><img src=\"https://colab.research.google.com/assets/colab-badge.svg\" alt=\"Open In Colab\"/></a>"
      ]
    },
    {
      "cell_type": "code",
      "execution_count": 1,
      "metadata": {
        "colab": {
          "base_uri": "https://localhost:8080/"
        },
        "id": "EC5itNTLFylc",
        "outputId": "424aa3a8-737e-45b7-eae9-7ecc076df424"
      },
      "outputs": [
        {
          "output_type": "stream",
          "name": "stdout",
          "text": [
            "Collecting pycryptodome\n",
            "  Downloading pycryptodome-3.20.0-cp35-abi3-manylinux_2_17_x86_64.manylinux2014_x86_64.whl (2.1 MB)\n",
            "\u001b[?25l     \u001b[90m━━━━━━━━━━━━━━━━━━━━━━━━━━━━━━━━━━━━━━━━\u001b[0m \u001b[32m0.0/2.1 MB\u001b[0m \u001b[31m?\u001b[0m eta \u001b[36m-:--:--\u001b[0m\r\u001b[2K     \u001b[91m━\u001b[0m\u001b[91m╸\u001b[0m\u001b[90m━━━━━━━━━━━━━━━━━━━━━━━━━━━━━━━━━━━━━━\u001b[0m \u001b[32m0.1/2.1 MB\u001b[0m \u001b[31m2.2 MB/s\u001b[0m eta \u001b[36m0:00:01\u001b[0m\r\u001b[2K     \u001b[91m━━━━━━━━━━━━━━━━━━━━━━━━━━\u001b[0m\u001b[90m╺\u001b[0m\u001b[90m━━━━━━━━━━━━━\u001b[0m \u001b[32m1.4/2.1 MB\u001b[0m \u001b[31m19.8 MB/s\u001b[0m eta \u001b[36m0:00:01\u001b[0m\r\u001b[2K     \u001b[91m━━━━━━━━━━━━━━━━━━━━━━━━━━━━━━━━━━━━━━━\u001b[0m\u001b[91m╸\u001b[0m \u001b[32m2.1/2.1 MB\u001b[0m \u001b[31m26.1 MB/s\u001b[0m eta \u001b[36m0:00:01\u001b[0m\r\u001b[2K     \u001b[90m━━━━━━━━━━━━━━━━━━━━━━━━━━━━━━━━━━━━━━━━\u001b[0m \u001b[32m2.1/2.1 MB\u001b[0m \u001b[31m17.6 MB/s\u001b[0m eta \u001b[36m0:00:00\u001b[0m\n",
            "\u001b[?25hInstalling collected packages: pycryptodome\n",
            "Successfully installed pycryptodome-3.20.0\n"
          ]
        }
      ],
      "source": [
        "!pip install pycryptodome"
      ]
    },
    {
      "cell_type": "code",
      "source": [
        "from Crypto.Math.Numbers import Integer\n",
        "import numpy as np"
      ],
      "metadata": {
        "id": "3_mMgUaOF3kN"
      },
      "execution_count": 4,
      "outputs": []
    },
    {
      "cell_type": "code",
      "source": [
        "ap = [3,5,7,11,13,17]\n",
        "m = int(np.prod(ap))\n",
        "phym = int(np.prod([x-1 for x in ap]))\n",
        "w = phym-343\n",
        "Integer(w).gcd(phym)"
      ],
      "metadata": {
        "colab": {
          "base_uri": "https://localhost:8080/"
        },
        "id": "F42EYD7dF58u",
        "outputId": "9ea2c2af-2cd0-4a9f-85fe-19a0cb99cc52"
      },
      "execution_count": 77,
      "outputs": [
        {
          "output_type": "execute_result",
          "data": {
            "text/plain": [
              "Integer(1)"
            ]
          },
          "metadata": {},
          "execution_count": 77
        }
      ]
    },
    {
      "cell_type": "code",
      "source": [
        "m,w,phym"
      ],
      "metadata": {
        "colab": {
          "base_uri": "https://localhost:8080/"
        },
        "id": "qwRJLKDKJBdP",
        "outputId": "4624cb6d-6f68-410f-b63e-3989e87803ca"
      },
      "execution_count": 96,
      "outputs": [
        {
          "output_type": "execute_result",
          "data": {
            "text/plain": [
              "(255255, 91817, 92160)"
            ]
          },
          "metadata": {},
          "execution_count": 96
        }
      ]
    },
    {
      "cell_type": "code",
      "source": [
        "wi = int(Integer(w).inverse(phym))\n",
        "wi"
      ],
      "metadata": {
        "colab": {
          "base_uri": "https://localhost:8080/"
        },
        "id": "jR9mSU_4GGmr",
        "outputId": "93c05fb5-407d-48f3-d8fc-3f6c3bab010b"
      },
      "execution_count": 80,
      "outputs": [
        {
          "output_type": "execute_result",
          "data": {
            "text/plain": [
              "62873"
            ]
          },
          "metadata": {},
          "execution_count": 80
        }
      ]
    },
    {
      "cell_type": "code",
      "source": [
        "w*wi % phym"
      ],
      "metadata": {
        "colab": {
          "base_uri": "https://localhost:8080/"
        },
        "id": "H4J9eIH1OKkq",
        "outputId": "5777c4d9-15ef-4b66-db62-e4b6627341f6"
      },
      "execution_count": 82,
      "outputs": [
        {
          "output_type": "execute_result",
          "data": {
            "text/plain": [
              "1"
            ]
          },
          "metadata": {},
          "execution_count": 82
        }
      ]
    },
    {
      "cell_type": "code",
      "source": [
        "a = [x**w % m for x in ap]\n",
        "a"
      ],
      "metadata": {
        "colab": {
          "base_uri": "https://localhost:8080/"
        },
        "id": "xssxNkPpHOjS",
        "outputId": "48ab1e4c-7126-4ea0-88f7-4e2f84712217"
      },
      "execution_count": 83,
      "outputs": [
        {
          "output_type": "execute_result",
          "data": {
            "text/plain": [
              "[86238, 216065, 146482, 146036, 232063, 50762]"
            ]
          },
          "metadata": {},
          "execution_count": 83
        }
      ]
    },
    {
      "cell_type": "code",
      "source": [
        "for i in range(len(a)-1):\n",
        "    for j in range(i+1,len(a)):\n",
        "        gcd = Integer(a[i]).gcd(a[j])\n",
        "        print(f'gcd({a[i]},{a[j]})={gcd}')"
      ],
      "metadata": {
        "colab": {
          "base_uri": "https://localhost:8080/"
        },
        "id": "ALqDMv5VJtFm",
        "outputId": "9ad3bfb7-5cfe-4b5c-ad01-fbe072ae9d89"
      },
      "execution_count": 84,
      "outputs": [
        {
          "output_type": "stream",
          "name": "stdout",
          "text": [
            "gcd(86238,216065)=1\n",
            "gcd(86238,146482)=2\n",
            "gcd(86238,146036)=2\n",
            "gcd(86238,232063)=1\n",
            "gcd(86238,50762)=2\n",
            "gcd(216065,146482)=1\n",
            "gcd(216065,146036)=1\n",
            "gcd(216065,232063)=1\n",
            "gcd(216065,50762)=1\n",
            "gcd(146482,146036)=2\n",
            "gcd(146482,232063)=1\n",
            "gcd(146482,50762)=2\n",
            "gcd(146036,232063)=1\n",
            "gcd(146036,50762)=2\n",
            "gcd(232063,50762)=1\n"
          ]
        }
      ]
    },
    {
      "cell_type": "markdown",
      "source": [
        "* 공개키: 86238, 216065, 146482, 146036, 232063, 50762\n",
        "* 개인키: $m=255255$, $\\varphi(m)=92160$, $w=91817$, $w^{-1}=62873$ mod $\\varphi(m)$"
      ],
      "metadata": {
        "id": "8tmTV-rFIPl-"
      }
    },
    {
      "cell_type": "code",
      "source": [
        "M = [1,0,0,1,1,0]\n",
        "C = int(np.prod([x**y for x,y in zip(a,M)]))\n",
        "C"
      ],
      "metadata": {
        "colab": {
          "base_uri": "https://localhost:8080/"
        },
        "id": "x7kDzgk-HZbx",
        "outputId": "a06984d0-23bc-4f35-8007-db5fcefe2b0e"
      },
      "execution_count": 93,
      "outputs": [
        {
          "output_type": "execute_result",
          "data": {
            "text/plain": [
              "2922567208487784"
            ]
          },
          "metadata": {},
          "execution_count": 93
        }
      ]
    },
    {
      "cell_type": "code",
      "source": [
        "int(np.prod([x**y for x,y in zip(ap,M)])) % m"
      ],
      "metadata": {
        "colab": {
          "base_uri": "https://localhost:8080/"
        },
        "id": "TADdws9LK-E7",
        "outputId": "63ead0ea-2fc9-4617-feea-a961ac805303"
      },
      "execution_count": 94,
      "outputs": [
        {
          "output_type": "execute_result",
          "data": {
            "text/plain": [
              "429"
            ]
          },
          "metadata": {},
          "execution_count": 94
        }
      ]
    },
    {
      "cell_type": "code",
      "source": [
        "Cp = pow(C,wi,m)\n",
        "Cp"
      ],
      "metadata": {
        "colab": {
          "base_uri": "https://localhost:8080/"
        },
        "id": "wSVoUQyhHsxz",
        "outputId": "692f4d28-90fc-4c17-a447-b5c4c9799ec8"
      },
      "execution_count": 95,
      "outputs": [
        {
          "output_type": "execute_result",
          "data": {
            "text/plain": [
              "429"
            ]
          },
          "metadata": {},
          "execution_count": 95
        }
      ]
    },
    {
      "cell_type": "code",
      "source": [
        "M2 = []\n",
        "for x in ap:\n",
        "    if Cp % x == 0:\n",
        "        M2.append(1)\n",
        "    else:\n",
        "        M2.append(0)"
      ],
      "metadata": {
        "id": "7_8VoabPHyUl"
      },
      "execution_count": 91,
      "outputs": []
    },
    {
      "cell_type": "code",
      "source": [
        "M2"
      ],
      "metadata": {
        "colab": {
          "base_uri": "https://localhost:8080/"
        },
        "id": "GiGucsU6IAI-",
        "outputId": "9debc4fa-3d09-4cd7-8aca-e5d7f5efcd3c"
      },
      "execution_count": 92,
      "outputs": [
        {
          "output_type": "execute_result",
          "data": {
            "text/plain": [
              "[1, 0, 0, 1, 1, 0]"
            ]
          },
          "metadata": {},
          "execution_count": 92
        }
      ]
    },
    {
      "cell_type": "code",
      "source": [],
      "metadata": {
        "id": "nrgxwWfCIAzG"
      },
      "execution_count": null,
      "outputs": []
    }
  ]
}