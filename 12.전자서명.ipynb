{
  "nbformat": 4,
  "nbformat_minor": 0,
  "metadata": {
    "colab": {
      "provenance": [],
      "authorship_tag": "ABX9TyN8HLdQVOeRzfKarFL0CqZp",
      "include_colab_link": true
    },
    "kernelspec": {
      "name": "python3",
      "display_name": "Python 3"
    },
    "language_info": {
      "name": "python"
    }
  },
  "cells": [
    {
      "cell_type": "markdown",
      "metadata": {
        "id": "view-in-github",
        "colab_type": "text"
      },
      "source": [
        "<a href=\"https://colab.research.google.com/github/SJinLee/cryptology/blob/main/12.%EC%A0%84%EC%9E%90%EC%84%9C%EB%AA%85.ipynb\" target=\"_parent\"><img src=\"https://colab.research.google.com/assets/colab-badge.svg\" alt=\"Open In Colab\"/></a>"
      ]
    },
    {
      "cell_type": "code",
      "source": [
        "!pip install pycryptodome"
      ],
      "metadata": {
        "colab": {
          "base_uri": "https://localhost:8080/"
        },
        "id": "Xami-bPMuvt9",
        "outputId": "78cbfb4c-8264-48ea-ba44-e56ebe2f053b"
      },
      "execution_count": 1,
      "outputs": [
        {
          "output_type": "stream",
          "name": "stdout",
          "text": [
            "Collecting pycryptodome\n",
            "  Downloading pycryptodome-3.20.0-cp35-abi3-manylinux_2_17_x86_64.manylinux2014_x86_64.whl (2.1 MB)\n",
            "\u001b[?25l     \u001b[90m━━━━━━━━━━━━━━━━━━━━━━━━━━━━━━━━━━━━━━━━\u001b[0m \u001b[32m0.0/2.1 MB\u001b[0m \u001b[31m?\u001b[0m eta \u001b[36m-:--:--\u001b[0m\r\u001b[2K     \u001b[91m━\u001b[0m\u001b[91m╸\u001b[0m\u001b[90m━━━━━━━━━━━━━━━━━━━━━━━━━━━━━━━━━━━━━━\u001b[0m \u001b[32m0.1/2.1 MB\u001b[0m \u001b[31m2.6 MB/s\u001b[0m eta \u001b[36m0:00:01\u001b[0m\r\u001b[2K     \u001b[91m━━━━━━━━━━━━━━━━━━━━━━━━━━━━━━━━━━━━━━━\u001b[0m\u001b[91m╸\u001b[0m \u001b[32m2.1/2.1 MB\u001b[0m \u001b[31m30.5 MB/s\u001b[0m eta \u001b[36m0:00:01\u001b[0m\r\u001b[2K     \u001b[90m━━━━━━━━━━━━━━━━━━━━━━━━━━━━━━━━━━━━━━━━\u001b[0m \u001b[32m2.1/2.1 MB\u001b[0m \u001b[31m20.9 MB/s\u001b[0m eta \u001b[36m0:00:00\u001b[0m\n",
            "\u001b[?25hInstalling collected packages: pycryptodome\n",
            "Successfully installed pycryptodome-3.20.0\n"
          ]
        }
      ]
    },
    {
      "cell_type": "code",
      "source": [
        "!pip list -v |grep pycryptodome"
      ],
      "metadata": {
        "colab": {
          "base_uri": "https://localhost:8080/"
        },
        "id": "tRBvt_lvlh9F",
        "outputId": "195cc102-498b-44ce-bb9e-70477bac7cc1"
      },
      "execution_count": 3,
      "outputs": [
        {
          "output_type": "stream",
          "name": "stdout",
          "text": [
            "pycryptodome                     3.20.0                /usr/local/lib/python3.10/dist-packages pip\n"
          ]
        }
      ]
    },
    {
      "cell_type": "code",
      "source": [
        "from Crypto import Random\n",
        "from Crypto.Math.Numbers import Integer\n",
        "from Crypto.Math.Primality import generate_probable_prime\n",
        "randfunc = Random.get_random_bytes\n",
        "bits = 3072\n",
        "e = Integer(65537)\n",
        "\n",
        "size_q = bits // 2\n",
        "size_p = bits - size_q\n",
        "min_p = min_q = (Integer(1) << (2 * size_q - 1)).sqrt()\n",
        "def filter_p(candidate):\n",
        "    return candidate > min_p and (candidate - 1).gcd(e) == 1\n",
        "if size_q != size_p:\n",
        "    min_p = (Integer(1) << (2 * size_p - 1)).sqrt()\n",
        "p = generate_probable_prime(exact_bits=size_p,\n",
        "                            randfunc=randfunc,\n",
        "                            prime_filter=filter_p)\n",
        "\n",
        "min_distance = Integer(1) << (bits // 2 - 100)\n",
        "\n",
        "def filter_q(candidate):\n",
        "    return (candidate > min_q and\n",
        "            (candidate - 1).gcd(e) == 1 and\n",
        "            abs(candidate - p) > min_distance)\n",
        "\n",
        "q = generate_probable_prime(exact_bits=size_q,\n",
        "                            randfunc=randfunc,\n",
        "                            prime_filter=filter_q)\n",
        "\n",
        "n = p * q\n",
        "lcm = (p - 1).lcm(q - 1)\n",
        "d = e.inverse(lcm)\n",
        "\n",
        "if p > q:\n",
        "    p, q = q, p\n",
        "\n",
        "u = p.inverse(q)\n",
        "{'n':n, 'e':e, 'd':d, 'p':p, 'q':q, 'u':u}"
      ],
      "metadata": {
        "colab": {
          "base_uri": "https://localhost:8080/"
        },
        "id": "IdVhageEnNIG",
        "outputId": "5d231c34-6515-40f7-d75f-748f62bdc5a1"
      },
      "execution_count": 8,
      "outputs": [
        {
          "output_type": "execute_result",
          "data": {
            "text/plain": [
              "{'n': Integer(4383821717853748175865606638081124592782274595729185967809010355105900573602418913889458628895251505190834490398102491856097195019917465646986686231710675523751800649916029643407817531333231792922512554988290964941564307583956490968174858828215763928604776052516641415859010782391053098142143332887633551373161177209011197907480928100766648994147002778983148383152572019846786175130098129416712189634140004926086722675711868437589184706316611994939645742319314404944115859518686455692897965753061014018184209613465520622651540008575203105195731421306677773699977437852732933090107572051951832948165876602837305496535416591179585466813064421991334373956314228269429627607871129589115186074977207140723392588324019443431040641042790613173242160053158628765505384671865070001479528673702578230992226829326614073560577227722977069853441958454590907437796096272795599373878840688149251821933418776502086193739728839193316578496283),\n",
              " 'e': Integer(65537),\n",
              " 'd': Integer(1694912287682335141281576419412218677910396643787234366012002515874252127564961649901399933903937169297922696109866487478763427926395451474681052673790392476899842848587779683529746319143187722736272401461324299482305067484262043523461535627488977742419581579973036887799922863567384819678573917640009502135722484836207489481952263556178582106873885437466843238270159545369604826258968086000661638723845408163627392503753989020032249823473815906034426562731860596963666584698319212332823431833809634226292793094284638352239673874763624230944151403974558267941834617390365628749409603995449543474744860240168437258217113778963591878455871492931170626648394234833782172560923772646139463806961894138020318360551864701743425836639613129392709340812891103432001258596337836064440533943860210558157001409971530961186427095753392916030818279707140973621428754307611697350516066712896101467524134126928052501485429789786635412088617),\n",
              " 'p': Integer(1927515890071971363469849458298139541809001206911787667837008113503582652636157627729414790411096036960026547272248790108530772282058782820838707991264035048157324602724148670924789639641827922204486763684633212140841171188783369198402055569831447124786341614749703843363295969103393509745817216522626834305094700015077656685254681511540206481932255979467519473392378600521549948340579929673936520145130657163130437458091050241818780472484246710278867100013262729),\n",
              " 'q': Integer(2274337524496392609887620236164498519063237079264215795296418274789998227947050343936488819887966372534975883069474422926865506297511939485483334520831479195683615745181705281867380271626630599614275331955440856226630611004434222541717200979636901854423525525145207553297551366153375932631172411581044648233890529961606829221928303319373604050897218528238551073125630346395873527939384749376297324931944712631475146850980636351838772829180422607441544649976759427),\n",
              " 'u': Integer(1120966905918783038091478265403598648360870990921952772616952274735122983984553255569731009093810251058579273842477496519862941080215898116297292997154568751428540963125256905973329025702264705029181031998588157613809816580581881427243020748585263415839858878508371271996876677680227016703710292876499865726342476086924203334081899059859354399576775578832440481706099143688444585010076512289077591885073278535476450812282396965324546973451089436946492004908364921)}"
            ]
          },
          "metadata": {},
          "execution_count": 8
        }
      ]
    },
    {
      "cell_type": "code",
      "source": [
        "M = Integer(32)\n",
        "S = pow(m,d,n)\n",
        "M,S"
      ],
      "metadata": {
        "colab": {
          "base_uri": "https://localhost:8080/"
        },
        "id": "l5DD1Nz2u_6G",
        "outputId": "35d7f417-349a-411d-fc58-dd72f9ba8ba9"
      },
      "execution_count": 14,
      "outputs": [
        {
          "output_type": "execute_result",
          "data": {
            "text/plain": [
              "(Integer(32),\n",
              " Integer(2907339436700559914558167920371940191575456548470107628421936036638357679464365826656381408952970749352233677734194809771758427655829845963566044297716576480649559728633934807142454047877995163765581757268902240007267048457651541630180853076889298095421110812827003172148745702963013316181004305133776323694889148323888900919261988765886102663376488947555855917587279666930238244520015549522106750667736555879146570423840940265336906859380901898355564288726213743935870171463147413338608052552484045595273065777766054446171663956615916006390955531373616376823698264849316282807848387719203798801049584356756081421297475396100481527847382155367519910392226727428388997003207305745658847310899956451286775276299051147312219638627013682996631179297950158443424461107527489335755903796317991349640038158249697504403338643104755355763778287163116545644009421003542499048424801854655175650120057934882042484849938078278709088623498))"
            ]
          },
          "metadata": {},
          "execution_count": 14
        }
      ]
    },
    {
      "cell_type": "code",
      "source": [
        "pow(S,e,n) == M"
      ],
      "metadata": {
        "colab": {
          "base_uri": "https://localhost:8080/"
        },
        "id": "jq7wSO5YvLJu",
        "outputId": "88f4a7ae-c8b7-49dd-ea6c-8a60f35298dc"
      },
      "execution_count": 17,
      "outputs": [
        {
          "output_type": "execute_result",
          "data": {
            "text/plain": [
              "True"
            ]
          },
          "metadata": {},
          "execution_count": 17
        }
      ]
    },
    {
      "cell_type": "markdown",
      "source": [
        "# ElGamal"
      ],
      "metadata": {
        "id": "A0G2SC5Zw00s"
      }
    },
    {
      "cell_type": "code",
      "source": [
        "from Crypto.Math.Primality import generate_probable_safe_prime\n",
        "bits = 180\n",
        "p = generate_probable_safe_prime(exact_bits=bits, randfunc=randfunc)\n",
        "q = (p - 1) >> 1\n",
        "\n",
        "# Generate generator g\n",
        "while 1:\n",
        "    # Choose a square residue; it will generate a cyclic group of order q.\n",
        "    g = pow(Integer.random_range(min_inclusive=2,\n",
        "                                 max_exclusive=p,\n",
        "                                 randfunc=randfunc), 2, p)\n",
        "\n",
        "    # We must avoid g=2 because of Bleichenbacher's attack described\n",
        "    # in \"Generating ElGamal signatures without knowning the secret key\",\n",
        "    # 1996\n",
        "    if g in (1, 2):\n",
        "        continue\n",
        "\n",
        "    # Discard g if it divides p-1 because of the attack described\n",
        "    # in Note 11.67 (iii) in HAC\n",
        "    if (p - 1) % g == 0:\n",
        "        continue\n",
        "\n",
        "    # g^{-1} must not divide p-1 because of Khadir's attack\n",
        "    # described in \"Conditions of the generator for forging ElGamal\n",
        "    # signature\", 2011\n",
        "    ginv = g.inverse(p)\n",
        "    if (p - 1) % ginv == 0:\n",
        "        continue\n",
        "\n",
        "    # Found\n",
        "    break\n",
        "\n",
        "# Generate private key x\n",
        "x = Integer.random_range(min_inclusive=2,\n",
        "                         max_exclusive=p-1,\n",
        "                         randfunc=randfunc)\n",
        "# Generate public key y\n",
        "y = pow(g, x, p)\n",
        "{'p':p,'g':g,'x':x,'y':y}\n"
      ],
      "metadata": {
        "colab": {
          "base_uri": "https://localhost:8080/"
        },
        "id": "8aRR8PyqshCa",
        "outputId": "3e41cd14-cd90-4da9-c931-89749b681f51"
      },
      "execution_count": 21,
      "outputs": [
        {
          "output_type": "execute_result",
          "data": {
            "text/plain": [
              "{'p': Integer(1112047258403358830383294653721914062049334603349413523),\n",
              " 'g': Integer(85487169024922786654141015205878214126164586991912853),\n",
              " 'x': Integer(20042234720261476519441772771653959824671447735279069),\n",
              " 'y': Integer(490912430650429247988779818688483169830424961562077488)}"
            ]
          },
          "metadata": {},
          "execution_count": 21
        }
      ]
    },
    {
      "cell_type": "markdown",
      "source": [
        "### encrypt, decrypt"
      ],
      "metadata": {
        "id": "On3fCnQRxb99"
      }
    },
    {
      "cell_type": "code",
      "source": [
        "r = Integer.random_range(min_inclusive=2,\n",
        "                         max_exclusive=p-1,\n",
        "                         randfunc=randfunc)\n",
        "r"
      ],
      "metadata": {
        "colab": {
          "base_uri": "https://localhost:8080/"
        },
        "id": "1TC0kYJitYP-",
        "outputId": "3aaf5fbd-9142-42db-de71-a69b1e75eae1"
      },
      "execution_count": 22,
      "outputs": [
        {
          "output_type": "execute_result",
          "data": {
            "text/plain": [
              "Integer(984509262666120594843065726317023088019949236134698029)"
            ]
          },
          "metadata": {},
          "execution_count": 22
        }
      ]
    },
    {
      "cell_type": "code",
      "source": [
        "K = pow(y,r,p)\n",
        "K"
      ],
      "metadata": {
        "colab": {
          "base_uri": "https://localhost:8080/"
        },
        "id": "Fxqf0GKfvdUo",
        "outputId": "f8535c0c-9d2b-4001-af05-22c4054fb23e"
      },
      "execution_count": 32,
      "outputs": [
        {
          "output_type": "execute_result",
          "data": {
            "text/plain": [
              "Integer(114199666640834114829681771050406370962308170128211597)"
            ]
          },
          "metadata": {},
          "execution_count": 32
        }
      ]
    },
    {
      "cell_type": "code",
      "source": [
        "M=Integer(32)\n",
        "C1 = pow(g,r,p)\n",
        "C2 = pow(M*K,1,p)\n",
        "C1,C2"
      ],
      "metadata": {
        "colab": {
          "base_uri": "https://localhost:8080/"
        },
        "id": "ElOvxQ7Gvk_W",
        "outputId": "a8c374db-6789-4651-9c5b-1ca65c275fb8"
      },
      "execution_count": 33,
      "outputs": [
        {
          "output_type": "execute_result",
          "data": {
            "text/plain": [
              "(Integer(674769118023024794799287687476106197490892185058436294),\n",
              " Integer(318247557296615183399932712447261684645857634054530535))"
            ]
          },
          "metadata": {},
          "execution_count": 33
        }
      ]
    },
    {
      "cell_type": "code",
      "source": [
        "pow(C1,x,p)"
      ],
      "metadata": {
        "colab": {
          "base_uri": "https://localhost:8080/"
        },
        "id": "C-X5GU6UvpVk",
        "outputId": "12dd0083-041f-4c60-af61-0abc3d12437d"
      },
      "execution_count": 34,
      "outputs": [
        {
          "output_type": "execute_result",
          "data": {
            "text/plain": [
              "Integer(114199666640834114829681771050406370962308170128211597)"
            ]
          },
          "metadata": {},
          "execution_count": 34
        }
      ]
    },
    {
      "cell_type": "code",
      "source": [
        "KI = K.inverse(p)\n",
        "KI"
      ],
      "metadata": {
        "colab": {
          "base_uri": "https://localhost:8080/"
        },
        "id": "jDu9QBF2v9WH",
        "outputId": "4fe00b0e-12df-4bef-c60e-411b04ff1991"
      },
      "execution_count": 37,
      "outputs": [
        {
          "output_type": "execute_result",
          "data": {
            "text/plain": [
              "Integer(807288064492619542347581940051148204401868213580412136)"
            ]
          },
          "metadata": {},
          "execution_count": 37
        }
      ]
    },
    {
      "cell_type": "code",
      "source": [
        "pow(C2*KI,1,p)"
      ],
      "metadata": {
        "colab": {
          "base_uri": "https://localhost:8080/"
        },
        "id": "44FgapbCv3eh",
        "outputId": "4fb2421b-e149-40e9-b38e-4dc500fc1999"
      },
      "execution_count": 38,
      "outputs": [
        {
          "output_type": "execute_result",
          "data": {
            "text/plain": [
              "Integer(32)"
            ]
          },
          "metadata": {},
          "execution_count": 38
        }
      ]
    },
    {
      "cell_type": "markdown",
      "source": [
        "### 전자서명"
      ],
      "metadata": {
        "id": "JXXNoVVwxRM0"
      }
    },
    {
      "cell_type": "code",
      "source": [
        "while True:\n",
        "    k = Integer.random_range(min_inclusive=2,\n",
        "                            max_exclusive=p-1,\n",
        "                            randfunc=randfunc)\n",
        "    if k.gcd(p-1)==1:\n",
        "        break"
      ],
      "metadata": {
        "id": "LTDys465xh9g"
      },
      "execution_count": 48,
      "outputs": []
    },
    {
      "cell_type": "code",
      "source": [
        "R = pow(g,k,p)"
      ],
      "metadata": {
        "id": "m87b61oYx_vY"
      },
      "execution_count": 50,
      "outputs": []
    },
    {
      "cell_type": "code",
      "source": [
        "ki = k.inverse(p-1)"
      ],
      "metadata": {
        "id": "tVknX_RMytKm"
      },
      "execution_count": 53,
      "outputs": []
    },
    {
      "cell_type": "code",
      "source": [
        "S = (M-x*R)*ki % (p-1)"
      ],
      "metadata": {
        "id": "tCwhJ2s6yL-7"
      },
      "execution_count": 54,
      "outputs": []
    },
    {
      "cell_type": "code",
      "source": [
        "pow(y,R,p)*pow(R,S,p) % p"
      ],
      "metadata": {
        "colab": {
          "base_uri": "https://localhost:8080/"
        },
        "id": "exfT_be1yeg9",
        "outputId": "8441b345-9cda-4fea-f4ca-cc6bc7cd7da2"
      },
      "execution_count": 55,
      "outputs": [
        {
          "output_type": "execute_result",
          "data": {
            "text/plain": [
              "Integer(471889376215868916105394608512200489615456936614001070)"
            ]
          },
          "metadata": {},
          "execution_count": 55
        }
      ]
    },
    {
      "cell_type": "code",
      "source": [
        "pow(g,M,p)"
      ],
      "metadata": {
        "colab": {
          "base_uri": "https://localhost:8080/"
        },
        "id": "u2tAEGOHylPR",
        "outputId": "ae46358f-0b23-4f57-ea28-c438c1b2dc5b"
      },
      "execution_count": 56,
      "outputs": [
        {
          "output_type": "execute_result",
          "data": {
            "text/plain": [
              "Integer(471889376215868916105394608512200489615456936614001070)"
            ]
          },
          "metadata": {},
          "execution_count": 56
        }
      ]
    },
    {
      "cell_type": "code",
      "source": [],
      "metadata": {
        "id": "vpCZMmufyz2P"
      },
      "execution_count": null,
      "outputs": []
    }
  ]
}