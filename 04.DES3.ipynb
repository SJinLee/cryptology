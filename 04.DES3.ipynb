{
  "nbformat": 4,
  "nbformat_minor": 0,
  "metadata": {
    "colab": {
      "provenance": [],
      "authorship_tag": "ABX9TyMYPcf/46V14qGbf9X5KC4B",
      "include_colab_link": true
    },
    "kernelspec": {
      "name": "python3",
      "display_name": "Python 3"
    },
    "language_info": {
      "name": "python"
    }
  },
  "cells": [
    {
      "cell_type": "markdown",
      "metadata": {
        "id": "view-in-github",
        "colab_type": "text"
      },
      "source": [
        "<a href=\"https://colab.research.google.com/github/SJinLee/cryptology/blob/main/04.DES3.ipynb\" target=\"_parent\"><img src=\"https://colab.research.google.com/assets/colab-badge.svg\" alt=\"Open In Colab\"/></a>"
      ]
    },
    {
      "cell_type": "code",
      "execution_count": 1,
      "metadata": {
        "id": "FpzX35zBEbrX"
      },
      "outputs": [],
      "source": [
        "IP = [58, 50, 42, 34, 26, 18, 10, 2,\n",
        "      60, 52, 44, 36, 28, 20, 12, 4,\n",
        "      62, 54, 46, 38, 30, 22, 14, 6,\n",
        "      64, 56, 48, 40, 32, 24, 16, 8,\n",
        "      57, 49, 41, 33, 25, 17, 9, 1,\n",
        "      59, 51, 43, 35, 27, 19, 11, 3,\n",
        "      61, 53, 45, 37, 29, 21, 13, 5,\n",
        "      63, 55, 47, 39, 31, 23, 15, 7]\n",
        "PC1 = [57,49,41,33,25,17,9,\n",
        "       1,58,50,42,34,26,18,\n",
        "       10,2,59,51,43,35,27,\n",
        "       19,11,3,60,52,44,36,\n",
        "       63,55,47,39,31,23,15,\n",
        "       7,62,54,46,38,30,22,\n",
        "       14,6,61,53,45,37,29,\n",
        "       21,13,5,28,20,12,4]\n",
        "PC2 = [14,17,11,24,1,5,\n",
        "       3,28,15,6,21,10,\n",
        "       23,19,12,4,26,8,\n",
        "       16,7,27,20,13,2,\n",
        "       41,52,31,37,47,55,\n",
        "       30,40,51,45,33,48,\n",
        "       44,49,39,56,34,53,\n",
        "       46,42,50,36,29,32]\n",
        "E = [32,1,2,3,4,5,\n",
        "     4,5,6,7,8,9,\n",
        "     8,9,10,11,12,13,\n",
        "     12,13,14,15,16,17,\n",
        "     16,17,18,19,20,21,\n",
        "     20,21,22,23,24,25,\n",
        "     24,25,26,27,28,29,\n",
        "     28,29,30,31,32,1]\n",
        "S1 = [[14,4,13,1,2,15,11,8,3,10,6,12,5,9,0,7],\n",
        "      [0,15,7,4,14,2,13,1,10,6,12,11,9,5,3,8],\n",
        "       [4,1,14,8,13,6,2,11,15,12,9,7,3,10,5,0],\n",
        "       [15,12,8,2,4,9,1,7,5,11,3,14,10,0,6,13]]\n",
        "S2 = [[15, 1, 8, 14, 6, 11, 3, 4, 9, 7, 2, 13, 12, 0, 5, 10],\n",
        "      [3, 13, 4, 7, 15, 2, 8, 14, 12, 0, 1, 10, 6, 9, 11, 5,],\n",
        "      [0, 14, 7, 11, 10, 4, 13, 1, 5, 8 ,12, 6, 9, 3, 2, 15],\n",
        "      [13, 8, 10, 1, 3, 15, 4, 2, 11, 6, 7, 12, 0, 5, 14, 9]]\n",
        "S3 = [[10,0,9,14,6,3,15,5,1,13,12,7,11,4,2,8],\n",
        "      [13,7,0,9,3,4,6,10,2,8,5,14,12,11,15,1],\n",
        "       [13,6,4,9,8,15,3,0,11,1,2,12,5,10,14,7],\n",
        "      [1,10,13,0,6,9,8,7,4,15,14,3,11,5,2,12]]\n",
        "S4 = [[7,13,14,3,0,6,9,10,1,2,8,5,11,12,4,15],\n",
        "      [13,8,11,5,6,15,0,3,4,7,2,12,1,10,14,9],\n",
        "      [10,6,9,0,12,11,7,13,15,1,3,14,5,2,8,4],\n",
        "      [3,15,0,6,10,1,13,8,9,4,5,11,12,7,2,14]]\n",
        "S5 = [[2,12,4,1,7,10,11,6,8,5,3,15,13,0,14,9],\n",
        "      [14,11,2,12,4,7,13,1,5,0,15,10,3,9,8,6],\n",
        "      [4,2,1,11,10,13,7,8,15,9,12,5,6,3,0,14],\n",
        "      [11,8,12,7,1,14,2,13,6,15,0,9,10,4,5,3]]\n",
        "S6 = [[12,1,10,15,9,2,6,8,0,13,3,4,14,7,5,11],\n",
        "      [10,15,4,2,7,12,9,5,6,1,13,14,0,11,3,8],\n",
        "      [9,14,15,5,2,8,12,3,7,0,4,10,1,13,11,6],\n",
        "      [4,3,2,12,9,5,15,10,11,14,1,7,6,0,8,13]]\n",
        "S7 = [[4,11,2,14,15,0,8,13,3,12,9,7,5,10,6,1],\n",
        "      [13,0,11,7,4,9,1,10,14,3,5,12,2,15,8,6],\n",
        "      [1,4,11,13,12,3,7,14,10,15,6,8,0,5,9,2],\n",
        "      [6,11,13,8,1,4,10,7,9,5,0,15,14,2,3,12]]\n",
        "S8 = [[13,2,8,4,6,15,11,1,10,9,3,14,5,0,12,7],\n",
        "      [1,15,13,8,10,3,7,4,12,5,6,11,0,14,9,2],\n",
        "      [7,11,4,1,9,12,14,2,0,6,10,13,15,3,5,8],\n",
        "      [2,1,14,7,4,10,8,13,15,12,9,0,3,5,6,11]]\n",
        "d2b = [[0,0,0,0],\n",
        "       [0,0,0,1],\n",
        "       [0,0,1,0],\n",
        "       [0,0,1,1],\n",
        "       [0,1,0,0],\n",
        "       [0,1,0,1],\n",
        "       [0,1,1,0],\n",
        "       [0,1,1,1],\n",
        "       [1,0,0,0],\n",
        "       [1,0,0,1],\n",
        "       [1,0,1,0],\n",
        "       [1,0,1,1],\n",
        "       [1,1,0,0],\n",
        "       [1,1,0,1],\n",
        "       [1,1,1,0],\n",
        "       [1,1,1,1]]\n",
        "SS = [S1,S2,S3,S4,S5,S6,S7,S8]\n",
        "P = [16,7,20,21,\n",
        "     29,12,28,17,\n",
        "     1,15,23,26,\n",
        "     5,18,31,10,\n",
        "     2,8,24,14,\n",
        "     32,27,3,9,\n",
        "     19,13,30,6,\n",
        "     22,11,4,25]\n",
        "IPI = [40,8,48,16,56,24,64,32,\n",
        "       39,7,47,15,55,23,63,31,\n",
        "       38,6,46,14,54,22,62,30,\n",
        "       37,5,45,13,53,21,61,29,\n",
        "       36,4,44,12,52,20,60,28,\n",
        "       35,3,43,11,51,19,59,27,\n",
        "       34,2,42,10,50,18,58,26,\n",
        "       33,1,41,9,49,17,57,25]\n",
        "SHIFT = [1,1,2,2,2,2,2,2,1,2,2,2,2,2,2,1]"
      ]
    },
    {
      "cell_type": "code",
      "source": [
        "def create_subkeys(K):\n",
        "    Ki = []\n",
        "    CD = [K[x-1] for x in PC1]\n",
        "    C = CD[:28]\n",
        "    D = CD[28:]\n",
        "    for i in range(16):\n",
        "        sft = SHIFT[i]\n",
        "        C = C[sft:] + C[:sft]\n",
        "        D = D[sft:] + D[:sft]\n",
        "        CD = C+D\n",
        "        k1 = [CD[x-1] for x in PC2]\n",
        "        Ki.append(k1)\n",
        "    return Ki"
      ],
      "metadata": {
        "id": "-fvwOQ80HWHg"
      },
      "execution_count": 2,
      "outputs": []
    },
    {
      "cell_type": "code",
      "source": [
        "def print_matrix(m,n_per_line):\n",
        "    n = len(m)\n",
        "    for i in range(0,n,n_per_line):\n",
        "        a = ' '.join([str(x) for x in m[i:i+n_per_line]])\n",
        "        print(a)"
      ],
      "metadata": {
        "id": "A1ANBpaAHaWy"
      },
      "execution_count": 3,
      "outputs": []
    },
    {
      "cell_type": "code",
      "source": [
        "def single_round(LE0,RE0,Ki):\n",
        "    e48 = [RE0[x-1] for x in E]\n",
        "    e48k1 = [(x+y)%2 for x,y in zip(e48,Ki)]\n",
        "    s = []\n",
        "    for i in range(8):\n",
        "        b6 = e48k1[i*6:i*6+6]\n",
        "        r = sum([x*y for x, y in zip([2,1],b6[::5])])\n",
        "        c = sum([x*y for x,y in zip([8,4,2,1],b6[1:5])])\n",
        "        dec = SS[i][r][c]\n",
        "        s += d2b[dec]\n",
        "    f = [s[x-1] for x in P]\n",
        "    RE1 = [(x+y)%2 for x,y in zip(LE0,f)]\n",
        "    LE1 = RE0\n",
        "    return LE1,RE1"
      ],
      "metadata": {
        "id": "9J4M6YF5E9H3"
      },
      "execution_count": 4,
      "outputs": []
    },
    {
      "cell_type": "code",
      "source": [
        "M = [0,1,1,0,1,0,1,1,\n",
        "     0,1,0,1,0,0,1,1,\n",
        "     1,0,0,0,0,0,0,0,\n",
        "     1,1,1,1,1,1,0,1,\n",
        "     1,0,1,1,0,0,1,0,\n",
        "     1,0,1,0,0,1,1,0,\n",
        "     0,0,1,1,1,1,0,0,\n",
        "     1,0,1,1,0,1,1,1]"
      ],
      "metadata": {
        "id": "YiyDJivDHziQ"
      },
      "execution_count": 5,
      "outputs": []
    },
    {
      "cell_type": "code",
      "source": [
        "k = [0,0,0,0,0,0,0,1,\n",
        "     0,0,1,0,0,0,1,1,\n",
        "     0,1,0,0,0,1,0,1,\n",
        "     0,1,1,0,0,1,1,1,\n",
        "     1,0,0,0,1,0,0,1,\n",
        "     1,0,1,0,1,0,1,1,\n",
        "     1,1,0,0,1,1,0,1,\n",
        "     1,1,1,0,1,1,1,1]"
      ],
      "metadata": {
        "id": "pOmnUJx5HnQU"
      },
      "execution_count": 6,
      "outputs": []
    },
    {
      "cell_type": "code",
      "source": [
        "subk = create_subkeys(k)"
      ],
      "metadata": {
        "id": "GpB5hiMgH0ME"
      },
      "execution_count": 7,
      "outputs": []
    },
    {
      "cell_type": "code",
      "source": [
        "LR = [M[x-1] for x in IP]\n",
        "LE = LR[:32]\n",
        "RE = LR[32:]\n",
        "for i in range(16):\n",
        "    LE,RE = single_round(LE,RE,subk[i])\n",
        "RL = RE + LE\n",
        "C = [RL[x-1] for x in IPI]"
      ],
      "metadata": {
        "id": "P1mIEtJRH7Vk"
      },
      "execution_count": 8,
      "outputs": []
    },
    {
      "cell_type": "code",
      "source": [
        "print_matrix(C,8)"
      ],
      "metadata": {
        "colab": {
          "base_uri": "https://localhost:8080/"
        },
        "id": "5kWACM7eII4Z",
        "outputId": "21f9d6e0-1b45-466d-82e9-6e956fe97ad2"
      },
      "execution_count": 9,
      "outputs": [
        {
          "output_type": "stream",
          "name": "stdout",
          "text": [
            "1 0 0 1 0 0 0 1\n",
            "1 1 0 0 1 0 1 1\n",
            "0 1 1 0 1 1 0 0\n",
            "0 0 1 0 1 0 0 0\n",
            "1 0 0 1 0 0 0 1\n",
            "1 1 0 0 1 1 1 1\n",
            "1 0 1 0 1 0 1 0\n",
            "0 0 1 1 1 1 1 1\n"
          ]
        }
      ]
    },
    {
      "cell_type": "code",
      "source": [
        "LR = [C[x-1] for x in IP]\n",
        "LE = LR[:32]\n",
        "RE = LR[32:]\n",
        "for i in range(16):\n",
        "    LE,RE = single_round(LE,RE,subk[15-i])\n",
        "RL = RE + LE\n",
        "M2 = [RL[x-1] for x in IPI]"
      ],
      "metadata": {
        "id": "5uyLSXV7JTmH"
      },
      "execution_count": 10,
      "outputs": []
    },
    {
      "cell_type": "code",
      "source": [
        "print_matrix(M,8)"
      ],
      "metadata": {
        "colab": {
          "base_uri": "https://localhost:8080/"
        },
        "id": "qJZAyDp8IPbE",
        "outputId": "4dff587f-c1d6-4b7f-f2bd-7ce4734a2e0f"
      },
      "execution_count": 11,
      "outputs": [
        {
          "output_type": "stream",
          "name": "stdout",
          "text": [
            "0 1 1 0 1 0 1 1\n",
            "0 1 0 1 0 0 1 1\n",
            "1 0 0 0 0 0 0 0\n",
            "1 1 1 1 1 1 0 1\n",
            "1 0 1 1 0 0 1 0\n",
            "1 0 1 0 0 1 1 0\n",
            "0 0 1 1 1 1 0 0\n",
            "1 0 1 1 0 1 1 1\n"
          ]
        }
      ]
    },
    {
      "cell_type": "code",
      "source": [
        "print_matrix(M2,8)"
      ],
      "metadata": {
        "colab": {
          "base_uri": "https://localhost:8080/"
        },
        "id": "XOAhKBWJIUdt",
        "outputId": "e4bfd696-aff0-497d-9823-3cb84f748e26"
      },
      "execution_count": 12,
      "outputs": [
        {
          "output_type": "stream",
          "name": "stdout",
          "text": [
            "0 1 1 0 1 0 1 1\n",
            "0 1 0 1 0 0 1 1\n",
            "1 0 0 0 0 0 0 0\n",
            "1 1 1 1 1 1 0 1\n",
            "1 0 1 1 0 0 1 0\n",
            "1 0 1 0 0 1 1 0\n",
            "0 0 1 1 1 1 0 0\n",
            "1 0 1 1 0 1 1 1\n"
          ]
        }
      ]
    },
    {
      "cell_type": "code",
      "source": [],
      "metadata": {
        "id": "ydMOu4SWJdrQ"
      },
      "execution_count": 12,
      "outputs": []
    },
    {
      "cell_type": "code",
      "source": [
        "def to_binary_list(m,ndigits=64):\n",
        "    b = []\n",
        "    for i in range(64):\n",
        "        b = [m%2] + b\n",
        "        m = m//2\n",
        "    return b\n",
        "def to_num(b):\n",
        "    m = 0\n",
        "    for n in b:\n",
        "        m = m*2+n\n",
        "    return m"
      ],
      "metadata": {
        "id": "En7G_PNSXFZn"
      },
      "execution_count": 13,
      "outputs": []
    },
    {
      "cell_type": "code",
      "source": [
        "m=0x0101010101010101\n",
        "b = to_binary_list(m)\n",
        "print_matrix(b,8)"
      ],
      "metadata": {
        "colab": {
          "base_uri": "https://localhost:8080/"
        },
        "id": "Sf8ge2saXUE7",
        "outputId": "ec314b4b-d994-4397-e826-7070fa19a626"
      },
      "execution_count": 14,
      "outputs": [
        {
          "output_type": "stream",
          "name": "stdout",
          "text": [
            "0 0 0 0 0 0 0 1\n",
            "0 0 0 0 0 0 0 1\n",
            "0 0 0 0 0 0 0 1\n",
            "0 0 0 0 0 0 0 1\n",
            "0 0 0 0 0 0 0 1\n",
            "0 0 0 0 0 0 0 1\n",
            "0 0 0 0 0 0 0 1\n",
            "0 0 0 0 0 0 0 1\n"
          ]
        }
      ]
    },
    {
      "cell_type": "code",
      "source": [
        "m = to_num(b)\n",
        "print(hex(m))"
      ],
      "metadata": {
        "colab": {
          "base_uri": "https://localhost:8080/"
        },
        "id": "JOODixUSXUkP",
        "outputId": "42c3ef43-5ea9-4262-e017-fad7f9840f44"
      },
      "execution_count": 15,
      "outputs": [
        {
          "output_type": "stream",
          "name": "stdout",
          "text": [
            "0x101010101010101\n"
          ]
        }
      ]
    },
    {
      "cell_type": "code",
      "source": [
        "def DES_encode(M,subk):\n",
        "    LR = [M[x-1] for x in IP]\n",
        "    LE = LR[:32]\n",
        "    RE = LR[32:]\n",
        "    for i in range(16):\n",
        "        LE,RE = single_round(LE,RE,subk[i])\n",
        "    RL = RE + LE\n",
        "    C = [RL[x-1] for x in IPI]\n",
        "    return C\n",
        "def DES_decode(C,subk):\n",
        "    LR = [C[x-1] for x in IP]\n",
        "    LE = LR[:32]\n",
        "    RE = LR[32:]\n",
        "    for i in range(16):\n",
        "        LE,RE = single_round(LE,RE,subk[15-i])\n",
        "    RL = RE + LE\n",
        "    M2 = [RL[x-1] for x in IPI]\n",
        "    return M2"
      ],
      "metadata": {
        "id": "OI87dHxAYD8M"
      },
      "execution_count": 16,
      "outputs": []
    },
    {
      "cell_type": "markdown",
      "source": [
        "# 취약키"
      ],
      "metadata": {
        "id": "Og836QWpaRht"
      }
    },
    {
      "cell_type": "markdown",
      "source": [
        "* 0x0101010101010101"
      ],
      "metadata": {
        "id": "gP95pBcTaWCe"
      }
    },
    {
      "cell_type": "code",
      "source": [
        "k = 0x0101010101010101\n",
        "K = to_binary_list(k)\n",
        "subk = create_subkeys(K)\n",
        "C = DES_encode(M,subk)\n",
        "M2 = DES_encode(C,subk)\n",
        "print_matrix(M2,8)"
      ],
      "metadata": {
        "colab": {
          "base_uri": "https://localhost:8080/"
        },
        "id": "GT02swLMYabJ",
        "outputId": "b2f2e4c1-865b-4292-967b-f2b9d17ce3a3"
      },
      "execution_count": 17,
      "outputs": [
        {
          "output_type": "stream",
          "name": "stdout",
          "text": [
            "0 1 1 0 1 0 1 1\n",
            "0 1 0 1 0 0 1 1\n",
            "1 0 0 0 0 0 0 0\n",
            "1 1 1 1 1 1 0 1\n",
            "1 0 1 1 0 0 1 0\n",
            "1 0 1 0 0 1 1 0\n",
            "0 0 1 1 1 1 0 0\n",
            "1 0 1 1 0 1 1 1\n"
          ]
        }
      ]
    },
    {
      "cell_type": "code",
      "source": [
        "k = 0xfefefefefefefefe\n",
        "K = to_binary_list(k)\n",
        "subk = create_subkeys(K)\n",
        "C = DES_encode(M,subk)\n",
        "M2 = DES_encode(C,subk)\n",
        "print_matrix(M2,8)"
      ],
      "metadata": {
        "colab": {
          "base_uri": "https://localhost:8080/"
        },
        "id": "Gboo7S6NZCH6",
        "outputId": "34e01421-fa07-43f2-9775-faff5a63fa52"
      },
      "execution_count": 18,
      "outputs": [
        {
          "output_type": "stream",
          "name": "stdout",
          "text": [
            "0 1 1 0 1 0 1 1\n",
            "0 1 0 1 0 0 1 1\n",
            "1 0 0 0 0 0 0 0\n",
            "1 1 1 1 1 1 0 1\n",
            "1 0 1 1 0 0 1 0\n",
            "1 0 1 0 0 1 1 0\n",
            "0 0 1 1 1 1 0 0\n",
            "1 0 1 1 0 1 1 1\n"
          ]
        }
      ]
    },
    {
      "cell_type": "code",
      "source": [
        "k = 0x1f1f1f1f0e0e0e0e\n",
        "K = to_binary_list(k)\n",
        "subk = create_subkeys(K)\n",
        "C = DES_encode(M,subk)\n",
        "M2 = DES_encode(C,subk)\n",
        "print_matrix(M2,8)"
      ],
      "metadata": {
        "colab": {
          "base_uri": "https://localhost:8080/"
        },
        "id": "k5J5BT_lZD9n",
        "outputId": "f7640cbd-0d16-4e75-f697-30482fcd940b"
      },
      "execution_count": 19,
      "outputs": [
        {
          "output_type": "stream",
          "name": "stdout",
          "text": [
            "0 1 1 0 1 0 1 1\n",
            "0 1 0 1 0 0 1 1\n",
            "1 0 0 0 0 0 0 0\n",
            "1 1 1 1 1 1 0 1\n",
            "1 0 1 1 0 0 1 0\n",
            "1 0 1 0 0 1 1 0\n",
            "0 0 1 1 1 1 0 0\n",
            "1 0 1 1 0 1 1 1\n"
          ]
        }
      ]
    },
    {
      "cell_type": "code",
      "source": [
        "k = 0xe0e0e0e0f1f1f1f1\n",
        "K = to_binary_list(k)\n",
        "subk = create_subkeys(K)\n",
        "C = DES_encode(M,subk)\n",
        "M2 = DES_encode(C,subk)\n",
        "print_matrix(M2,8)"
      ],
      "metadata": {
        "colab": {
          "base_uri": "https://localhost:8080/"
        },
        "id": "XAw5aptVZHJg",
        "outputId": "d71e4c5e-f913-453b-b29c-59360a0dc73a"
      },
      "execution_count": 20,
      "outputs": [
        {
          "output_type": "stream",
          "name": "stdout",
          "text": [
            "0 1 1 0 1 0 1 1\n",
            "0 1 0 1 0 0 1 1\n",
            "1 0 0 0 0 0 0 0\n",
            "1 1 1 1 1 1 0 1\n",
            "1 0 1 1 0 0 1 0\n",
            "1 0 1 0 0 1 1 0\n",
            "0 0 1 1 1 1 0 0\n",
            "1 0 1 1 0 1 1 1\n"
          ]
        }
      ]
    },
    {
      "cell_type": "markdown",
      "source": [
        "# 준취약키"
      ],
      "metadata": {
        "id": "iQHG5kNwa4gC"
      }
    },
    {
      "cell_type": "code",
      "source": [
        "k1 = 0x01fe01fe01fe01fe\n",
        "k2 = 0xfe01fe01fe01fe01\n",
        "K1 = to_binary_list(k1)\n",
        "K2 = to_binary_list(k2)\n",
        "subk1 = create_subkeys(K1)\n",
        "subk2 = create_subkeys(K2)\n",
        "C = DES_encode(M,subk1)\n",
        "M2 = DES_encode(C,subk2)\n",
        "print_matrix(M2,8)"
      ],
      "metadata": {
        "colab": {
          "base_uri": "https://localhost:8080/"
        },
        "id": "nHqM2sC6a7G9",
        "outputId": "2f190d6d-e865-4b57-bc4e-75d7d096779e"
      },
      "execution_count": 21,
      "outputs": [
        {
          "output_type": "stream",
          "name": "stdout",
          "text": [
            "0 1 1 0 1 0 1 1\n",
            "0 1 0 1 0 0 1 1\n",
            "1 0 0 0 0 0 0 0\n",
            "1 1 1 1 1 1 0 1\n",
            "1 0 1 1 0 0 1 0\n",
            "1 0 1 0 0 1 1 0\n",
            "0 0 1 1 1 1 0 0\n",
            "1 0 1 1 0 1 1 1\n"
          ]
        }
      ]
    },
    {
      "cell_type": "code",
      "source": [
        "k1 = 0x1fe01fe00ef10ef1\n",
        "k2 = 0xe01fe01ff10ef10e\n",
        "K1 = to_binary_list(k1)\n",
        "K2 = to_binary_list(k2)\n",
        "subk1 = create_subkeys(K1)\n",
        "subk2 = create_subkeys(K2)\n",
        "C = DES_encode(M,subk1)\n",
        "M2 = DES_encode(C,subk2)\n",
        "print_matrix(M2,8)"
      ],
      "metadata": {
        "colab": {
          "base_uri": "https://localhost:8080/"
        },
        "id": "HS5AI93qbLPr",
        "outputId": "8074d4b9-1d74-4df6-f6db-f5f526a945c7"
      },
      "execution_count": 22,
      "outputs": [
        {
          "output_type": "stream",
          "name": "stdout",
          "text": [
            "0 1 1 0 1 0 1 1\n",
            "0 1 0 1 0 0 1 1\n",
            "1 0 0 0 0 0 0 0\n",
            "1 1 1 1 1 1 0 1\n",
            "1 0 1 1 0 0 1 0\n",
            "1 0 1 0 0 1 1 0\n",
            "0 0 1 1 1 1 0 0\n",
            "1 0 1 1 0 1 1 1\n"
          ]
        }
      ]
    },
    {
      "cell_type": "code",
      "source": [
        "k1 = 0x01e001e001f101f1\n",
        "k2 = 0xe001e001f101f101\n",
        "K1 = to_binary_list(k1)\n",
        "K2 = to_binary_list(k2)\n",
        "subk1 = create_subkeys(K1)\n",
        "subk2 = create_subkeys(K2)\n",
        "C = DES_encode(M,subk1)\n",
        "M2 = DES_encode(C,subk2)\n",
        "print_matrix(M2,8)"
      ],
      "metadata": {
        "colab": {
          "base_uri": "https://localhost:8080/"
        },
        "id": "5MzhXDtidMuH",
        "outputId": "1a5a7ff2-ff2e-4e9f-a374-42ec3f4cd5a4"
      },
      "execution_count": 23,
      "outputs": [
        {
          "output_type": "stream",
          "name": "stdout",
          "text": [
            "0 1 1 0 1 0 1 1\n",
            "0 1 0 1 0 0 1 1\n",
            "1 0 0 0 0 0 0 0\n",
            "1 1 1 1 1 1 0 1\n",
            "1 0 1 1 0 0 1 0\n",
            "1 0 1 0 0 1 1 0\n",
            "0 0 1 1 1 1 0 0\n",
            "1 0 1 1 0 1 1 1\n"
          ]
        }
      ]
    },
    {
      "cell_type": "code",
      "source": [
        "k1 = 0x1ffe1ffe0efe0efe\n",
        "k2 = 0xfe1ffe1ffe0efe0e\n",
        "K1 = to_binary_list(k1)\n",
        "K2 = to_binary_list(k2)\n",
        "subk1 = create_subkeys(K1)\n",
        "subk2 = create_subkeys(K2)\n",
        "C = DES_encode(M,subk1)\n",
        "M2 = DES_encode(C,subk2)\n",
        "print_matrix(M2,8)"
      ],
      "metadata": {
        "colab": {
          "base_uri": "https://localhost:8080/"
        },
        "id": "7D7xY2S8g0JX",
        "outputId": "891d23c6-dccb-4879-b799-65b7b1b9af94"
      },
      "execution_count": 24,
      "outputs": [
        {
          "output_type": "stream",
          "name": "stdout",
          "text": [
            "0 1 1 0 1 0 1 1\n",
            "0 1 0 1 0 0 1 1\n",
            "1 0 0 0 0 0 0 0\n",
            "1 1 1 1 1 1 0 1\n",
            "1 0 1 1 0 0 1 0\n",
            "1 0 1 0 0 1 1 0\n",
            "0 0 1 1 1 1 0 0\n",
            "1 0 1 1 0 1 1 1\n"
          ]
        }
      ]
    },
    {
      "cell_type": "code",
      "source": [
        "k1 = 0x011f011f010e010e\n",
        "k2 = 0x1f011f010e010e01\n",
        "K1 = to_binary_list(k1)\n",
        "K2 = to_binary_list(k2)\n",
        "subk1 = create_subkeys(K1)\n",
        "subk2 = create_subkeys(K2)\n",
        "C = DES_encode(M,subk1)\n",
        "M2 = DES_encode(C,subk2)\n",
        "print_matrix(M2,8)"
      ],
      "metadata": {
        "colab": {
          "base_uri": "https://localhost:8080/"
        },
        "id": "PED5vy1ChLfO",
        "outputId": "6dcb4899-07a5-40d0-eba7-7f7d6abe7c75"
      },
      "execution_count": 25,
      "outputs": [
        {
          "output_type": "stream",
          "name": "stdout",
          "text": [
            "0 1 1 0 1 0 1 1\n",
            "0 1 0 1 0 0 1 1\n",
            "1 0 0 0 0 0 0 0\n",
            "1 1 1 1 1 1 0 1\n",
            "1 0 1 1 0 0 1 0\n",
            "1 0 1 0 0 1 1 0\n",
            "0 0 1 1 1 1 0 0\n",
            "1 0 1 1 0 1 1 1\n"
          ]
        }
      ]
    },
    {
      "cell_type": "code",
      "source": [
        "k1 = 0xe0fee0fef1fef1fe\n",
        "k2 = 0xfee0fee0fef1fef1\n",
        "K1 = to_binary_list(k1)\n",
        "K2 = to_binary_list(k2)\n",
        "subk1 = create_subkeys(K1)\n",
        "subk2 = create_subkeys(K2)\n",
        "C = DES_encode(M,subk1)\n",
        "M2 = DES_encode(C,subk2)\n",
        "print_matrix(M2,8)"
      ],
      "metadata": {
        "colab": {
          "base_uri": "https://localhost:8080/"
        },
        "id": "IeoUbY3ZhYXP",
        "outputId": "180abb25-eb64-4dbe-a940-da7bcd015048"
      },
      "execution_count": 26,
      "outputs": [
        {
          "output_type": "stream",
          "name": "stdout",
          "text": [
            "0 1 1 0 1 0 1 1\n",
            "0 1 0 1 0 0 1 1\n",
            "1 0 0 0 0 0 0 0\n",
            "1 1 1 1 1 1 0 1\n",
            "1 0 1 1 0 0 1 0\n",
            "1 0 1 0 0 1 1 0\n",
            "0 0 1 1 1 1 0 0\n",
            "1 0 1 1 0 1 1 1\n"
          ]
        }
      ]
    },
    {
      "cell_type": "markdown",
      "source": [
        "# 보수"
      ],
      "metadata": {
        "id": "jYMDW6xXiKzy"
      }
    },
    {
      "cell_type": "code",
      "source": [
        "def to_complement(M):\n",
        "    return [(x+1)%2 for x in M]"
      ],
      "metadata": {
        "id": "xy3peblIhhfY"
      },
      "execution_count": 27,
      "outputs": []
    },
    {
      "cell_type": "code",
      "source": [
        "Mb = to_complement(M)\n",
        "Kb = to_complement(K)\n",
        "subk = create_subkeys(K)\n",
        "subkb = create_subkeys(Kb)\n",
        "C = DES_encode(M,subk)\n",
        "Cb = DES_encode(Mb,subkb)"
      ],
      "metadata": {
        "id": "i8X4yUrthseV"
      },
      "execution_count": 28,
      "outputs": []
    },
    {
      "cell_type": "code",
      "source": [
        "print_matrix(C,8)"
      ],
      "metadata": {
        "colab": {
          "base_uri": "https://localhost:8080/"
        },
        "id": "tZ6XV5FiiEA0",
        "outputId": "039b18aa-d742-4123-a405-0bf017fc3c9c"
      },
      "execution_count": 29,
      "outputs": [
        {
          "output_type": "stream",
          "name": "stdout",
          "text": [
            "0 0 1 1 0 0 1 1\n",
            "0 0 1 1 1 0 1 0\n",
            "1 0 1 1 1 1 1 0\n",
            "0 0 1 0 1 1 1 1\n",
            "1 1 1 0 0 1 0 1\n",
            "1 0 1 0 0 1 1 1\n",
            "0 0 0 1 0 1 0 0\n",
            "1 0 1 1 0 0 1 1\n"
          ]
        }
      ]
    },
    {
      "cell_type": "code",
      "source": [
        "print_matrix(Cb,8)"
      ],
      "metadata": {
        "colab": {
          "base_uri": "https://localhost:8080/"
        },
        "id": "undeMOapiFjY",
        "outputId": "3aea6f11-0732-4423-85e9-a1f260fdc03c"
      },
      "execution_count": 30,
      "outputs": [
        {
          "output_type": "stream",
          "name": "stdout",
          "text": [
            "1 1 0 0 1 1 0 0\n",
            "1 1 0 0 0 1 0 1\n",
            "0 1 0 0 0 0 0 1\n",
            "1 1 0 1 0 0 0 0\n",
            "0 0 0 1 1 0 1 0\n",
            "0 1 0 1 1 0 0 0\n",
            "1 1 1 0 1 0 1 1\n",
            "0 1 0 0 1 1 0 0\n"
          ]
        }
      ]
    },
    {
      "cell_type": "code",
      "source": [
        "%%time\n",
        "for i in range(10000):\n",
        "    C = DES_encode(M,subk)"
      ],
      "metadata": {
        "colab": {
          "base_uri": "https://localhost:8080/"
        },
        "id": "TdiK6I1QiH_j",
        "outputId": "9c555585-ab00-43e4-a921-d078b6bce55e"
      },
      "execution_count": 31,
      "outputs": [
        {
          "output_type": "stream",
          "name": "stdout",
          "text": [
            "CPU times: user 8.86 s, sys: 142 ms, total: 9 s\n",
            "Wall time: 15.4 s\n"
          ]
        }
      ]
    },
    {
      "cell_type": "markdown",
      "source": [
        "# 쇄도효과\n",
        "* 평문의 작은 변화가 암호문에 큰 변화를 일으킴"
      ],
      "metadata": {
        "id": "X80hi4AKprGX"
      }
    },
    {
      "cell_type": "code",
      "source": [
        "Mp = M[:]\n",
        "Mp[0] = 1\n",
        "print_matrix(M,8)\n",
        "print_matrix(Mp,8)"
      ],
      "metadata": {
        "id": "9oBniV_SiZCq",
        "outputId": "592917b4-80de-45e9-c835-679713101e55",
        "colab": {
          "base_uri": "https://localhost:8080/"
        }
      },
      "execution_count": 39,
      "outputs": [
        {
          "output_type": "stream",
          "name": "stdout",
          "text": [
            "0 1 1 0 1 0 1 1\n",
            "0 1 0 1 0 0 1 1\n",
            "1 0 0 0 0 0 0 0\n",
            "1 1 1 1 1 1 0 1\n",
            "1 0 1 1 0 0 1 0\n",
            "1 0 1 0 0 1 1 0\n",
            "0 0 1 1 1 1 0 0\n",
            "1 0 1 1 0 1 1 1\n",
            "1 1 1 0 1 0 1 1\n",
            "0 1 0 1 0 0 1 1\n",
            "1 0 0 0 0 0 0 0\n",
            "1 1 1 1 1 1 0 1\n",
            "1 0 1 1 0 0 1 0\n",
            "1 0 1 0 0 1 1 0\n",
            "0 0 1 1 1 1 0 0\n",
            "1 0 1 1 0 1 1 1\n"
          ]
        }
      ]
    },
    {
      "cell_type": "code",
      "source": [
        "C = DES_encode(M,subk)\n",
        "Cp = DES_encode(Mp,subk)"
      ],
      "metadata": {
        "id": "BImfC5Cpo3hu"
      },
      "execution_count": 40,
      "outputs": []
    },
    {
      "cell_type": "code",
      "source": [
        "print_matrix(C,8)\n",
        "print()\n",
        "print_matrix(Cp,8)"
      ],
      "metadata": {
        "id": "2xOGJ-TapCnY",
        "outputId": "ccb032ea-85c4-49ad-f8a1-9d51c61af493",
        "colab": {
          "base_uri": "https://localhost:8080/"
        }
      },
      "execution_count": 41,
      "outputs": [
        {
          "output_type": "stream",
          "name": "stdout",
          "text": [
            "0 0 1 1 0 0 1 1\n",
            "0 0 1 1 1 0 1 0\n",
            "1 0 1 1 1 1 1 0\n",
            "0 0 1 0 1 1 1 1\n",
            "1 1 1 0 0 1 0 1\n",
            "1 0 1 0 0 1 1 1\n",
            "0 0 0 1 0 1 0 0\n",
            "1 0 1 1 0 0 1 1\n",
            "\n",
            "0 1 1 0 1 0 0 0\n",
            "1 0 1 1 1 1 1 0\n",
            "0 0 0 1 1 1 1 0\n",
            "1 0 0 0 1 0 0 0\n",
            "0 1 1 1 0 0 1 0\n",
            "1 0 1 0 0 1 0 0\n",
            "1 1 0 1 0 1 0 0\n",
            "1 0 0 0 0 1 1 0\n"
          ]
        }
      ]
    },
    {
      "cell_type": "code",
      "source": [
        "# 해밍거리\n",
        "sum([x!=y for x,y in zip(C,Cp)])"
      ],
      "metadata": {
        "id": "_cwa7mHIpYNn",
        "outputId": "fbcbef7c-5e2a-42bc-f653-ffd49d8963a8",
        "colab": {
          "base_uri": "https://localhost:8080/"
        }
      },
      "execution_count": 42,
      "outputs": [
        {
          "output_type": "execute_result",
          "data": {
            "text/plain": [
              "27"
            ]
          },
          "metadata": {},
          "execution_count": 42
        }
      ]
    },
    {
      "cell_type": "code",
      "source": [],
      "metadata": {
        "id": "d5-37DpSqDjz"
      },
      "execution_count": null,
      "outputs": []
    }
  ]
}