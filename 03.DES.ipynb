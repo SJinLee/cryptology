{
  "nbformat": 4,
  "nbformat_minor": 0,
  "metadata": {
    "colab": {
      "provenance": [],
      "authorship_tag": "ABX9TyOEKacGRTVDNG9uK9cWRofN",
      "include_colab_link": true
    },
    "kernelspec": {
      "name": "python3",
      "display_name": "Python 3"
    },
    "language_info": {
      "name": "python"
    }
  },
  "cells": [
    {
      "cell_type": "markdown",
      "metadata": {
        "id": "view-in-github",
        "colab_type": "text"
      },
      "source": [
        "<a href=\"https://colab.research.google.com/github/SJinLee/cryptology/blob/main/03.DES.ipynb\" target=\"_parent\"><img src=\"https://colab.research.google.com/assets/colab-badge.svg\" alt=\"Open In Colab\"/></a>"
      ]
    },
    {
      "cell_type": "code",
      "execution_count": 1,
      "metadata": {
        "id": "i4F388nWVkgA"
      },
      "outputs": [],
      "source": [
        "M = [0,1,1,0,1,0,1,1,\n",
        "     0,1,0,1,0,0,1,1,\n",
        "     1,0,0,0,0,0,0,0,\n",
        "     1,1,1,1,1,1,0,1,\n",
        "     1,0,1,1,0,0,1,0,\n",
        "     1,0,1,0,0,1,1,0,\n",
        "     0,0,1,1,1,1,0,0,\n",
        "     1,0,1,1,0,1,1,1]"
      ]
    },
    {
      "cell_type": "code",
      "source": [
        "k = [0,0,0,0,0,0,0,1,\n",
        "     0,0,1,0,0,0,1,1,\n",
        "     0,1,0,0,0,1,0,1,\n",
        "     0,1,1,0,0,1,1,1,\n",
        "     1,0,0,0,1,0,0,1,\n",
        "     1,0,1,0,1,0,1,1,\n",
        "     1,1,0,0,1,1,0,1,\n",
        "     1,1,1,0,1,1,1,1]"
      ],
      "metadata": {
        "id": "rE1gntH5Wfpa"
      },
      "execution_count": 2,
      "outputs": []
    },
    {
      "cell_type": "code",
      "source": [
        "IP = [58, 50, 42, 34, 26, 18, 10, 2,\n",
        "      60, 52, 44, 36, 28, 20, 12, 4,\n",
        "      62, 54, 46, 38, 30, 22, 14, 6,\n",
        "      64, 56, 48, 40, 32, 24, 16, 8,\n",
        "      57, 49, 41, 33, 25, 17, 9, 1,\n",
        "      59, 51, 43, 35, 27, 19, 11, 3,\n",
        "      61, 53, 45, 37, 29, 21, 13, 5,\n",
        "      63, 55, 47, 39, 31, 23, 15, 7]"
      ],
      "metadata": {
        "id": "LHQXI_KhW9iI"
      },
      "execution_count": 10,
      "outputs": []
    },
    {
      "cell_type": "code",
      "source": [
        "PC1 = [57,49,41,33,25,17,9,\n",
        "       1,58,50,42,34,26,18,\n",
        "       10,2,59,51,43,35,27,\n",
        "       19,11,3,60,52,44,36,\n",
        "       63,55,47,39,31,23,15,\n",
        "       7,62,54,46,38,30,22,\n",
        "       14,6,61,53,45,37,29,\n",
        "       21,13,5,28,20,12,4]"
      ],
      "metadata": {
        "id": "5p9FTc_qaLfO"
      },
      "execution_count": 28,
      "outputs": []
    },
    {
      "cell_type": "code",
      "source": [
        "k[42-1]"
      ],
      "metadata": {
        "colab": {
          "base_uri": "https://localhost:8080/"
        },
        "id": "aqBWTwb5YQIT",
        "outputId": "79f4542f-636b-4f6b-9599-fab8b8445759"
      },
      "execution_count": 29,
      "outputs": [
        {
          "output_type": "execute_result",
          "data": {
            "text/plain": [
              "0"
            ]
          },
          "metadata": {},
          "execution_count": 29
        }
      ]
    },
    {
      "cell_type": "code",
      "source": [
        "CD = [k[x-1] for x in PC1]"
      ],
      "metadata": {
        "id": "vCKEris3YjUq"
      },
      "execution_count": 30,
      "outputs": []
    },
    {
      "cell_type": "code",
      "source": [
        "def print_matrix(m,n_per_line):\n",
        "    n = len(m)\n",
        "    for i in range(0,n,n_per_line):\n",
        "        a = ' '.join([str(x) for x in m[i:i+n_per_line]])\n",
        "        print(a)"
      ],
      "metadata": {
        "id": "DqtlgaPEY2g5"
      },
      "execution_count": 31,
      "outputs": []
    },
    {
      "cell_type": "code",
      "source": [
        "print_matrix(CD,7)"
      ],
      "metadata": {
        "colab": {
          "base_uri": "https://localhost:8080/"
        },
        "id": "eDZ72i15Zsmi",
        "outputId": "d20a1d3e-f8c8-4e50-9b07-79b81bdd8d88"
      },
      "execution_count": 32,
      "outputs": [
        {
          "output_type": "stream",
          "name": "stdout",
          "text": [
            "1 1 1 1 0 0 0\n",
            "0 1 1 0 0 1 1\n",
            "0 0 1 0 1 0 1\n",
            "0 1 0 0 0 0 0\n",
            "1 0 1 0 1 0 1\n",
            "0 1 1 0 0 1 1\n",
            "0 0 1 1 1 1 0\n",
            "0 0 0 0 0 0 0\n"
          ]
        }
      ]
    },
    {
      "cell_type": "code",
      "source": [
        "C0 = CD[:28]\n",
        "D0 = CD[28:]"
      ],
      "metadata": {
        "id": "QM-_FzZ1Zu45"
      },
      "execution_count": 33,
      "outputs": []
    },
    {
      "cell_type": "code",
      "source": [
        "print_matrix(C0,7)"
      ],
      "metadata": {
        "colab": {
          "base_uri": "https://localhost:8080/"
        },
        "id": "u2LYg_G0bY2p",
        "outputId": "e5be0c2a-57ac-4d72-c3b3-7bd74fafa1b6"
      },
      "execution_count": 34,
      "outputs": [
        {
          "output_type": "stream",
          "name": "stdout",
          "text": [
            "1 1 1 1 0 0 0\n",
            "0 1 1 0 0 1 1\n",
            "0 0 1 0 1 0 1\n",
            "0 1 0 0 0 0 0\n"
          ]
        }
      ]
    },
    {
      "cell_type": "code",
      "source": [
        "print_matrix(D0,7)"
      ],
      "metadata": {
        "colab": {
          "base_uri": "https://localhost:8080/"
        },
        "id": "u8ClWIYybdu-",
        "outputId": "138191a1-1efa-49ed-fffa-66ec29e6e8ca"
      },
      "execution_count": 35,
      "outputs": [
        {
          "output_type": "stream",
          "name": "stdout",
          "text": [
            "1 0 1 0 1 0 1\n",
            "0 1 1 0 0 1 1\n",
            "0 0 1 1 1 1 0\n",
            "0 0 0 0 0 0 0\n"
          ]
        }
      ]
    },
    {
      "cell_type": "code",
      "source": [
        "C1 = C0[1:] + C0[:1]\n",
        "D1 = D0[1:] + D0[:1]"
      ],
      "metadata": {
        "id": "iYclGZ2wb8Iy"
      },
      "execution_count": 36,
      "outputs": []
    },
    {
      "cell_type": "code",
      "source": [
        "print_matrix(D1,7)"
      ],
      "metadata": {
        "colab": {
          "base_uri": "https://localhost:8080/"
        },
        "id": "leHFBYPHcNcp",
        "outputId": "8fabd9ce-2814-4939-ce80-8ea01a3501fc"
      },
      "execution_count": 37,
      "outputs": [
        {
          "output_type": "stream",
          "name": "stdout",
          "text": [
            "0 1 0 1 0 1 0\n",
            "1 1 0 0 1 1 0\n",
            "0 1 1 1 1 0 0\n",
            "0 0 0 0 0 0 1\n"
          ]
        }
      ]
    },
    {
      "cell_type": "code",
      "source": [
        "PC2 = [14,17,11,24,1,5,\n",
        "       3,28,15,6,21,10,\n",
        "       23,19,12,4,26,8,\n",
        "       16,7,27,20,13,2,\n",
        "       41,52,31,37,47,55,\n",
        "       30,40,51,45,33,48,\n",
        "       44,49,39,56,34,53,\n",
        "       46,42,50,36,29,32]"
      ],
      "metadata": {
        "id": "TAJrhDe5cR-K"
      },
      "execution_count": 38,
      "outputs": []
    },
    {
      "cell_type": "code",
      "source": [
        "CD1 = C1+D1\n",
        "k1 = [CD1[x-1] for x in PC2]"
      ],
      "metadata": {
        "id": "HHC4BqEcdW1j"
      },
      "execution_count": 39,
      "outputs": []
    },
    {
      "cell_type": "code",
      "source": [
        "print_matrix(k1,6)"
      ],
      "metadata": {
        "colab": {
          "base_uri": "https://localhost:8080/"
        },
        "id": "iO3CMExQdsTC",
        "outputId": "08e8b3a8-ae0f-4828-9693-53c35e5cd85a"
      },
      "execution_count": 40,
      "outputs": [
        {
          "output_type": "stream",
          "name": "stdout",
          "text": [
            "0 0 0 0 1 0\n",
            "1 1 0 0 0 0\n",
            "0 0 1 0 0 1\n",
            "1 0 0 1 1 1\n",
            "1 0 0 1 1 0\n",
            "1 1 0 1 0 0\n",
            "1 0 0 1 1 0\n",
            "1 0 0 1 0 1\n"
          ]
        }
      ]
    },
    {
      "cell_type": "code",
      "source": [
        "LR = [M[x-1] for x in IP]"
      ],
      "metadata": {
        "id": "EUl3nFphduXj"
      },
      "execution_count": 41,
      "outputs": []
    },
    {
      "cell_type": "code",
      "source": [
        "print_matrix(LR,8)"
      ],
      "metadata": {
        "colab": {
          "base_uri": "https://localhost:8080/"
        },
        "id": "DeK7dcT0eEEr",
        "outputId": "96b546fd-9049-4e02-ab01-70c7ee0e896c"
      },
      "execution_count": 42,
      "outputs": [
        {
          "output_type": "stream",
          "name": "stdout",
          "text": [
            "0 0 0 0 1 0 1 1\n",
            "1 1 0 1 1 0 1 0\n",
            "1 1 1 0 1 0 0 0\n",
            "1 0 0 0 1 0 1 1\n",
            "1 0 1 1 1 1 0 0\n",
            "1 1 1 1 1 0 0 1\n",
            "0 1 0 0 1 0 0 1\n",
            "1 0 1 1 0 0 1 1\n"
          ]
        }
      ]
    },
    {
      "cell_type": "code",
      "source": [
        "LE0 = LR[:32]\n",
        "RE0 = LR[32:]"
      ],
      "metadata": {
        "id": "VR4yXkfneGp7"
      },
      "execution_count": 43,
      "outputs": []
    },
    {
      "cell_type": "code",
      "source": [
        "E = [32,1,2,3,4,5,\n",
        "     4,5,6,7,8,9,\n",
        "     8,9,10,11,12,13,\n",
        "     12,13,14,15,16,17,\n",
        "     16,17,18,19,20,21,\n",
        "     20,21,22,23,24,25,\n",
        "     24,25,26,27,28,29,\n",
        "     28,29,30,31,32,1]"
      ],
      "metadata": {
        "id": "aiqRw42NeVDB"
      },
      "execution_count": 44,
      "outputs": []
    },
    {
      "cell_type": "code",
      "source": [
        "e48 = [RE0[x-1] for x in E]"
      ],
      "metadata": {
        "id": "DyY___qQfA2L"
      },
      "execution_count": 45,
      "outputs": []
    },
    {
      "cell_type": "code",
      "source": [
        "print_matrix(e48,6)"
      ],
      "metadata": {
        "colab": {
          "base_uri": "https://localhost:8080/"
        },
        "id": "HVDg4eL-fMsL",
        "outputId": "68a40f20-2b78-4446-ce62-ab5f945c26cd"
      },
      "execution_count": 46,
      "outputs": [
        {
          "output_type": "stream",
          "name": "stdout",
          "text": [
            "1 1 0 1 1 1\n",
            "1 1 1 0 0 1\n",
            "0 1 1 1 1 1\n",
            "1 1 0 0 1 0\n",
            "1 0 1 0 0 1\n",
            "0 1 0 0 1 1\n",
            "1 1 0 1 1 0\n",
            "1 0 0 1 1 1\n"
          ]
        }
      ]
    },
    {
      "cell_type": "code",
      "source": [
        "print_matrix(k1,6)"
      ],
      "metadata": {
        "colab": {
          "base_uri": "https://localhost:8080/"
        },
        "id": "rOm9bPbPf-5H",
        "outputId": "34f5bc71-435c-4147-da12-8c8d3d6d8082"
      },
      "execution_count": 50,
      "outputs": [
        {
          "output_type": "stream",
          "name": "stdout",
          "text": [
            "0 0 0 0 1 0\n",
            "1 1 0 0 0 0\n",
            "0 0 1 0 0 1\n",
            "1 0 0 1 1 1\n",
            "1 0 0 1 1 0\n",
            "1 1 0 1 0 0\n",
            "1 0 0 1 1 0\n",
            "1 0 0 1 0 1\n"
          ]
        }
      ]
    },
    {
      "cell_type": "code",
      "source": [
        "e48k1 = [(x+y)%2 for x,y in zip(e48,k1)]"
      ],
      "metadata": {
        "id": "w3wo45WjfP3b"
      },
      "execution_count": 47,
      "outputs": []
    },
    {
      "cell_type": "code",
      "source": [
        "print_matrix(e48k1,6)"
      ],
      "metadata": {
        "colab": {
          "base_uri": "https://localhost:8080/"
        },
        "id": "WNxkSi1ffqIO",
        "outputId": "56627d57-7cfb-4605-947d-0678108a5f65"
      },
      "execution_count": 49,
      "outputs": [
        {
          "output_type": "stream",
          "name": "stdout",
          "text": [
            "1 1 0 1 0 1\n",
            "0 0 1 0 0 1\n",
            "0 1 0 1 1 0\n",
            "0 1 0 1 0 1\n",
            "0 0 1 1 1 1\n",
            "1 0 0 1 1 1\n",
            "0 1 0 0 0 0\n",
            "0 0 0 0 1 0\n"
          ]
        }
      ]
    },
    {
      "cell_type": "code",
      "source": [
        "S1 = [[14,4,13,1,2,15,11,8,3,10,6,12,5,9,0,7],\n",
        "      [0,15,7,5,14,2,13,1,10,6,12,11,9,5,3,8],\n",
        "       [4,1,14,8,13,6,2,11,15,12,9,7,3,10,5,0],\n",
        "       [15,12,8,2,4,9,1,7,5,11,3,14,10,0,6,13]]"
      ],
      "metadata": {
        "id": "IRfd2MVCft_2"
      },
      "execution_count": 51,
      "outputs": []
    },
    {
      "cell_type": "code",
      "source": [
        "S2 = [[15, 1, 8, 14, 6, 11, 3, 4, 9, 7, 2, 13, 12, 0, 5, 10],\n",
        "      [3, 13, 4, 7, 15, 2, 8, 14, 12, 0, 1, 10, 6, 9, 11, 5,],\n",
        "      [0, 14, 7, 11, 10, 4, 13, 1, 5, 8 ,12, 6, 9, 3, 2, 15],\n",
        "      [13, 8, 10, 1, 3, 15, 4, 2, 11, 6, 7, 12, 0, 5, 14, 9]]"
      ],
      "metadata": {
        "id": "Jb4mIjnohRyj"
      },
      "execution_count": 52,
      "outputs": []
    },
    {
      "cell_type": "code",
      "source": [
        "S3 = [[10,0,9,14,6,3,15,5,1,13,12,7,11,4,2,8],\n",
        "      [13,7,0,9,3,4,6,10,2,8,5,14,12,11,15,1],\n",
        "       [13,6,4,9,8,15,3,0,11,1,2,12,5,10,14,7],\n",
        "      [1,10,13,0,6,9,8,7,4,15,41,3,11,5,2,12]]"
      ],
      "metadata": {
        "id": "O0_lFtrNhoJW"
      },
      "execution_count": 53,
      "outputs": []
    },
    {
      "cell_type": "code",
      "source": [
        "S4 = [[7,13,14,3,0,6,9,10,1,2,8,5,11,12,4,15],\n",
        "      [13,8,11,5,6,15,0,3,4,7,2,12,1,10,14,9],\n",
        "      [10,6,9,0,12,11,7,13,15,1,3,14,5,2,8,4],\n",
        "      [3,15,0,6,10,1,13,8,9,4,5,11,12,7,2,14]]\n",
        ""
      ],
      "metadata": {
        "id": "sqR5MK2biDEj"
      },
      "execution_count": 56,
      "outputs": []
    },
    {
      "cell_type": "code",
      "source": [
        "b6 = e48k1[:6]\n",
        "b6"
      ],
      "metadata": {
        "colab": {
          "base_uri": "https://localhost:8080/"
        },
        "id": "v0e3f5gXiTgk",
        "outputId": "7602247b-117b-4511-d9de-22e218ad74f5"
      },
      "execution_count": 57,
      "outputs": [
        {
          "output_type": "execute_result",
          "data": {
            "text/plain": [
              "[1, 1, 0, 1, 0, 1]"
            ]
          },
          "metadata": {},
          "execution_count": 57
        }
      ]
    },
    {
      "cell_type": "code",
      "source": [
        "r = sum([x*y for x, y in zip([2,1],b6[::5])])"
      ],
      "metadata": {
        "id": "Gn8mS0DgjGks"
      },
      "execution_count": 63,
      "outputs": []
    },
    {
      "cell_type": "code",
      "source": [
        "c = sum([x*y for x,y in zip([8,4,2,1],b6[1:5])])"
      ],
      "metadata": {
        "id": "Ri4Yyf7BjL9E"
      },
      "execution_count": 64,
      "outputs": []
    },
    {
      "cell_type": "code",
      "source": [
        "bin(S1[r][c])"
      ],
      "metadata": {
        "colab": {
          "base_uri": "https://localhost:8080/",
          "height": 35
        },
        "id": "-5zCrYvDjPdU",
        "outputId": "e5104c75-a952-405a-ac4c-df575b226b6f"
      },
      "execution_count": 67,
      "outputs": [
        {
          "output_type": "execute_result",
          "data": {
            "text/plain": [
              "'0b11'"
            ],
            "application/vnd.google.colaboratory.intrinsic+json": {
              "type": "string"
            }
          },
          "metadata": {},
          "execution_count": 67
        }
      ]
    },
    {
      "cell_type": "code",
      "source": [],
      "metadata": {
        "id": "iC1RgaEsj1OF"
      },
      "execution_count": null,
      "outputs": []
    }
  ]
}