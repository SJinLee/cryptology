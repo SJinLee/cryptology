{
  "nbformat": 4,
  "nbformat_minor": 0,
  "metadata": {
    "colab": {
      "provenance": [],
      "authorship_tag": "ABX9TyM5ikDJKZZfrNEzTH4SaHCy",
      "include_colab_link": true
    },
    "kernelspec": {
      "name": "python3",
      "display_name": "Python 3"
    },
    "language_info": {
      "name": "python"
    }
  },
  "cells": [
    {
      "cell_type": "markdown",
      "metadata": {
        "id": "view-in-github",
        "colab_type": "text"
      },
      "source": [
        "<a href=\"https://colab.research.google.com/github/SJinLee/cryptology/blob/main/03.DES.ipynb\" target=\"_parent\"><img src=\"https://colab.research.google.com/assets/colab-badge.svg\" alt=\"Open In Colab\"/></a>"
      ]
    },
    {
      "cell_type": "code",
      "execution_count": 1,
      "metadata": {
        "id": "i4F388nWVkgA"
      },
      "outputs": [],
      "source": [
        "M = [0,1,1,0,1,0,1,1,\n",
        "     0,1,0,1,0,0,1,1,\n",
        "     1,0,0,0,0,0,0,0,\n",
        "     1,1,1,1,1,1,0,1,\n",
        "     1,0,1,1,0,0,1,0,\n",
        "     1,0,1,0,0,1,1,0,\n",
        "     0,0,1,1,1,1,0,0,\n",
        "     1,0,1,1,0,1,1,1]"
      ]
    },
    {
      "cell_type": "code",
      "source": [
        "k = [0,0,0,0,0,0,0,1,\n",
        "     0,0,1,0,0,0,1,1,\n",
        "     0,1,0,0,0,1,0,1,\n",
        "     0,1,1,0,0,1,1,1,\n",
        "     1,0,0,0,1,0,0,1,\n",
        "     1,0,1,0,1,0,1,1,\n",
        "     1,1,0,0,1,1,0,1,\n",
        "     1,1,1,0,1,1,1,1]"
      ],
      "metadata": {
        "id": "rE1gntH5Wfpa"
      },
      "execution_count": 2,
      "outputs": []
    },
    {
      "cell_type": "code",
      "source": [
        "IP = [58, 50, 42, 34, 26, 18, 10, 2,\n",
        "      60, 52, 44, 36, 28, 20, 12, 4,\n",
        "      62, 54, 46, 38, 30, 22, 14, 6,\n",
        "      64, 56, 48, 40, 32, 24, 16, 8,\n",
        "      57, 49, 41, 33, 25, 17, 9, 1,\n",
        "      59, 51, 43, 35, 27, 19, 11, 3,\n",
        "      61, 53, 45, 37, 29, 21, 13, 5,\n",
        "      63, 55, 47, 39, 31, 23, 15, 7]"
      ],
      "metadata": {
        "id": "LHQXI_KhW9iI"
      },
      "execution_count": 3,
      "outputs": []
    },
    {
      "cell_type": "code",
      "source": [
        "PC1 = [57,49,41,33,25,17,9,\n",
        "       1,58,50,42,34,26,18,\n",
        "       10,2,59,51,43,35,27,\n",
        "       19,11,3,60,52,44,36,\n",
        "       63,55,47,39,31,23,15,\n",
        "       7,62,54,46,38,30,22,\n",
        "       14,6,61,53,45,37,29,\n",
        "       21,13,5,28,20,12,4]"
      ],
      "metadata": {
        "id": "5p9FTc_qaLfO"
      },
      "execution_count": 4,
      "outputs": []
    },
    {
      "cell_type": "code",
      "source": [
        "k[42-1]"
      ],
      "metadata": {
        "colab": {
          "base_uri": "https://localhost:8080/"
        },
        "id": "aqBWTwb5YQIT",
        "outputId": "b5b703be-ba4e-4e6e-b172-01f2f99242d3"
      },
      "execution_count": 5,
      "outputs": [
        {
          "output_type": "execute_result",
          "data": {
            "text/plain": [
              "0"
            ]
          },
          "metadata": {},
          "execution_count": 5
        }
      ]
    },
    {
      "cell_type": "code",
      "source": [
        "CD = [k[x-1] for x in PC1]"
      ],
      "metadata": {
        "id": "vCKEris3YjUq"
      },
      "execution_count": 6,
      "outputs": []
    },
    {
      "cell_type": "code",
      "source": [
        "def print_matrix(m,n_per_line):\n",
        "    n = len(m)\n",
        "    for i in range(0,n,n_per_line):\n",
        "        a = ' '.join([str(x) for x in m[i:i+n_per_line]])\n",
        "        print(a)"
      ],
      "metadata": {
        "id": "DqtlgaPEY2g5"
      },
      "execution_count": 7,
      "outputs": []
    },
    {
      "cell_type": "code",
      "source": [
        "print_matrix(CD,7)"
      ],
      "metadata": {
        "colab": {
          "base_uri": "https://localhost:8080/"
        },
        "id": "eDZ72i15Zsmi",
        "outputId": "833f8eca-2786-4642-c0a4-1b1232b3b37c"
      },
      "execution_count": 8,
      "outputs": [
        {
          "output_type": "stream",
          "name": "stdout",
          "text": [
            "1 1 1 1 0 0 0\n",
            "0 1 1 0 0 1 1\n",
            "0 0 1 0 1 0 1\n",
            "0 1 0 0 0 0 0\n",
            "1 0 1 0 1 0 1\n",
            "0 1 1 0 0 1 1\n",
            "0 0 1 1 1 1 0\n",
            "0 0 0 0 0 0 0\n"
          ]
        }
      ]
    },
    {
      "cell_type": "code",
      "source": [
        "C0 = CD[:28]\n",
        "D0 = CD[28:]"
      ],
      "metadata": {
        "id": "QM-_FzZ1Zu45"
      },
      "execution_count": 9,
      "outputs": []
    },
    {
      "cell_type": "code",
      "source": [
        "print_matrix(C0,7)"
      ],
      "metadata": {
        "colab": {
          "base_uri": "https://localhost:8080/"
        },
        "id": "u2LYg_G0bY2p",
        "outputId": "a330f57c-1f29-4a34-e97b-da71f7c6c93b"
      },
      "execution_count": 10,
      "outputs": [
        {
          "output_type": "stream",
          "name": "stdout",
          "text": [
            "1 1 1 1 0 0 0\n",
            "0 1 1 0 0 1 1\n",
            "0 0 1 0 1 0 1\n",
            "0 1 0 0 0 0 0\n"
          ]
        }
      ]
    },
    {
      "cell_type": "code",
      "source": [
        "print_matrix(D0,7)"
      ],
      "metadata": {
        "colab": {
          "base_uri": "https://localhost:8080/"
        },
        "id": "u8ClWIYybdu-",
        "outputId": "c7017b90-77d5-4dec-a300-d1c08f91f439"
      },
      "execution_count": 11,
      "outputs": [
        {
          "output_type": "stream",
          "name": "stdout",
          "text": [
            "1 0 1 0 1 0 1\n",
            "0 1 1 0 0 1 1\n",
            "0 0 1 1 1 1 0\n",
            "0 0 0 0 0 0 0\n"
          ]
        }
      ]
    },
    {
      "cell_type": "code",
      "source": [
        "C1 = C0[1:] + C0[:1]\n",
        "D1 = D0[1:] + D0[:1]"
      ],
      "metadata": {
        "id": "iYclGZ2wb8Iy"
      },
      "execution_count": 12,
      "outputs": []
    },
    {
      "cell_type": "code",
      "source": [
        "print_matrix(D1,7)"
      ],
      "metadata": {
        "colab": {
          "base_uri": "https://localhost:8080/"
        },
        "id": "leHFBYPHcNcp",
        "outputId": "28a834b8-1d99-4dc9-a5b5-47e03416165a"
      },
      "execution_count": 13,
      "outputs": [
        {
          "output_type": "stream",
          "name": "stdout",
          "text": [
            "0 1 0 1 0 1 0\n",
            "1 1 0 0 1 1 0\n",
            "0 1 1 1 1 0 0\n",
            "0 0 0 0 0 0 1\n"
          ]
        }
      ]
    },
    {
      "cell_type": "code",
      "source": [
        "PC2 = [14,17,11,24,1,5,\n",
        "       3,28,15,6,21,10,\n",
        "       23,19,12,4,26,8,\n",
        "       16,7,27,20,13,2,\n",
        "       41,52,31,37,47,55,\n",
        "       30,40,51,45,33,48,\n",
        "       44,49,39,56,34,53,\n",
        "       46,42,50,36,29,32]"
      ],
      "metadata": {
        "id": "TAJrhDe5cR-K"
      },
      "execution_count": 14,
      "outputs": []
    },
    {
      "cell_type": "code",
      "source": [
        "CD1 = C1+D1\n",
        "k1 = [CD1[x-1] for x in PC2]"
      ],
      "metadata": {
        "id": "HHC4BqEcdW1j"
      },
      "execution_count": 15,
      "outputs": []
    },
    {
      "cell_type": "code",
      "source": [
        "print_matrix(k1,6)"
      ],
      "metadata": {
        "colab": {
          "base_uri": "https://localhost:8080/"
        },
        "id": "iO3CMExQdsTC",
        "outputId": "cb4bfb0d-9042-478b-99d3-f48fb6849fbd"
      },
      "execution_count": 16,
      "outputs": [
        {
          "output_type": "stream",
          "name": "stdout",
          "text": [
            "0 0 0 0 1 0\n",
            "1 1 0 0 0 0\n",
            "0 0 1 0 0 1\n",
            "1 0 0 1 1 1\n",
            "1 0 0 1 1 0\n",
            "1 1 0 1 0 0\n",
            "1 0 0 1 1 0\n",
            "1 0 0 1 0 1\n"
          ]
        }
      ]
    },
    {
      "cell_type": "code",
      "source": [
        "LR = [M[x-1] for x in IP]"
      ],
      "metadata": {
        "id": "EUl3nFphduXj"
      },
      "execution_count": 17,
      "outputs": []
    },
    {
      "cell_type": "code",
      "source": [
        "print_matrix(LR,8)"
      ],
      "metadata": {
        "colab": {
          "base_uri": "https://localhost:8080/"
        },
        "id": "DeK7dcT0eEEr",
        "outputId": "99d0b4e9-e2ae-4014-caef-545abf96ea50"
      },
      "execution_count": 18,
      "outputs": [
        {
          "output_type": "stream",
          "name": "stdout",
          "text": [
            "0 0 0 0 1 0 1 1\n",
            "1 1 0 1 1 0 1 0\n",
            "1 1 1 0 1 0 0 0\n",
            "1 0 0 0 1 0 1 1\n",
            "1 0 1 1 1 1 0 0\n",
            "1 1 1 1 1 0 0 1\n",
            "0 1 0 0 1 0 0 1\n",
            "1 0 1 1 0 0 1 1\n"
          ]
        }
      ]
    },
    {
      "cell_type": "code",
      "source": [
        "LE0 = LR[:32]\n",
        "RE0 = LR[32:]"
      ],
      "metadata": {
        "id": "VR4yXkfneGp7"
      },
      "execution_count": 19,
      "outputs": []
    },
    {
      "cell_type": "code",
      "source": [
        "E = [32,1,2,3,4,5,\n",
        "     4,5,6,7,8,9,\n",
        "     8,9,10,11,12,13,\n",
        "     12,13,14,15,16,17,\n",
        "     16,17,18,19,20,21,\n",
        "     20,21,22,23,24,25,\n",
        "     24,25,26,27,28,29,\n",
        "     28,29,30,31,32,1]"
      ],
      "metadata": {
        "id": "aiqRw42NeVDB"
      },
      "execution_count": 20,
      "outputs": []
    },
    {
      "cell_type": "code",
      "source": [
        "e48 = [RE0[x-1] for x in E]"
      ],
      "metadata": {
        "id": "DyY___qQfA2L"
      },
      "execution_count": 21,
      "outputs": []
    },
    {
      "cell_type": "code",
      "source": [
        "print_matrix(e48,6)"
      ],
      "metadata": {
        "colab": {
          "base_uri": "https://localhost:8080/"
        },
        "id": "HVDg4eL-fMsL",
        "outputId": "f4fb0719-7227-48f3-ae3b-1b823b8f42d2"
      },
      "execution_count": 22,
      "outputs": [
        {
          "output_type": "stream",
          "name": "stdout",
          "text": [
            "1 1 0 1 1 1\n",
            "1 1 1 0 0 1\n",
            "0 1 1 1 1 1\n",
            "1 1 0 0 1 0\n",
            "1 0 1 0 0 1\n",
            "0 1 0 0 1 1\n",
            "1 1 0 1 1 0\n",
            "1 0 0 1 1 1\n"
          ]
        }
      ]
    },
    {
      "cell_type": "code",
      "source": [
        "print_matrix(k1,6)"
      ],
      "metadata": {
        "colab": {
          "base_uri": "https://localhost:8080/"
        },
        "id": "rOm9bPbPf-5H",
        "outputId": "204bce77-a4b4-488e-a33d-5c87394dda6d"
      },
      "execution_count": 23,
      "outputs": [
        {
          "output_type": "stream",
          "name": "stdout",
          "text": [
            "0 0 0 0 1 0\n",
            "1 1 0 0 0 0\n",
            "0 0 1 0 0 1\n",
            "1 0 0 1 1 1\n",
            "1 0 0 1 1 0\n",
            "1 1 0 1 0 0\n",
            "1 0 0 1 1 0\n",
            "1 0 0 1 0 1\n"
          ]
        }
      ]
    },
    {
      "cell_type": "code",
      "source": [
        "e48k1 = [(x+y)%2 for x,y in zip(e48,k1)]"
      ],
      "metadata": {
        "id": "w3wo45WjfP3b"
      },
      "execution_count": 24,
      "outputs": []
    },
    {
      "cell_type": "code",
      "source": [
        "print_matrix(e48k1,6)"
      ],
      "metadata": {
        "colab": {
          "base_uri": "https://localhost:8080/"
        },
        "id": "WNxkSi1ffqIO",
        "outputId": "72fd58ba-c456-447c-8e31-c9424f446c82"
      },
      "execution_count": 25,
      "outputs": [
        {
          "output_type": "stream",
          "name": "stdout",
          "text": [
            "1 1 0 1 0 1\n",
            "0 0 1 0 0 1\n",
            "0 1 0 1 1 0\n",
            "0 1 0 1 0 1\n",
            "0 0 1 1 1 1\n",
            "1 0 0 1 1 1\n",
            "0 1 0 0 0 0\n",
            "0 0 0 0 1 0\n"
          ]
        }
      ]
    },
    {
      "cell_type": "code",
      "source": [
        "S1 = [[14,4,13,1,2,15,11,8,3,10,6,12,5,9,0,7],\n",
        "      [0,15,7,5,14,2,13,1,10,6,12,11,9,5,3,8],\n",
        "       [4,1,14,8,13,6,2,11,15,12,9,7,3,10,5,0],\n",
        "       [15,12,8,2,4,9,1,7,5,11,3,14,10,0,6,13]]"
      ],
      "metadata": {
        "id": "IRfd2MVCft_2"
      },
      "execution_count": 26,
      "outputs": []
    },
    {
      "cell_type": "code",
      "source": [
        "S2 = [[15, 1, 8, 14, 6, 11, 3, 4, 9, 7, 2, 13, 12, 0, 5, 10],\n",
        "      [3, 13, 4, 7, 15, 2, 8, 14, 12, 0, 1, 10, 6, 9, 11, 5,],\n",
        "      [0, 14, 7, 11, 10, 4, 13, 1, 5, 8 ,12, 6, 9, 3, 2, 15],\n",
        "      [13, 8, 10, 1, 3, 15, 4, 2, 11, 6, 7, 12, 0, 5, 14, 9]]"
      ],
      "metadata": {
        "id": "Jb4mIjnohRyj"
      },
      "execution_count": 27,
      "outputs": []
    },
    {
      "cell_type": "code",
      "source": [
        "S3 = [[10,0,9,14,6,3,15,5,1,13,12,7,11,4,2,8],\n",
        "      [13,7,0,9,3,4,6,10,2,8,5,14,12,11,15,1],\n",
        "       [13,6,4,9,8,15,3,0,11,1,2,12,5,10,14,7],\n",
        "      [1,10,13,0,6,9,8,7,4,15,41,3,11,5,2,12]]"
      ],
      "metadata": {
        "id": "O0_lFtrNhoJW"
      },
      "execution_count": 28,
      "outputs": []
    },
    {
      "cell_type": "code",
      "source": [
        "S4 = [[7,13,14,3,0,6,9,10,1,2,8,5,11,12,4,15],\n",
        "      [13,8,11,5,6,15,0,3,4,7,2,12,1,10,14,9],\n",
        "      [10,6,9,0,12,11,7,13,15,1,3,14,5,2,8,4],\n",
        "      [3,15,0,6,10,1,13,8,9,4,5,11,12,7,2,14]]\n"
      ],
      "metadata": {
        "id": "sqR5MK2biDEj"
      },
      "execution_count": 29,
      "outputs": []
    },
    {
      "cell_type": "code",
      "source": [
        "S5 = [[2,12,4,1,7,10,11,6,8,5,3,15,13,0,14,9],\n",
        "      [14,11,2,12,4,7,13,1,5,0,15,10,3,9,8,6],\n",
        "      [4,2,1,11,10,13,7,8,15,9,12,5,6,3,0,14],\n",
        "      [11,8,12,7,1,14,2,13,6,15,0,9,10,4,5,3]]\n",
        "S6 = [[12,1,10,15,9,2,6,8,0,13,3,4,14,7,5,11],\n",
        "      [10,15,4,2,7,12,9,5,6,1,13,14,0,11,3,8],\n",
        "      [9,14,18,5,2,8,12,3,7,0,4,10,1,13,11,6],\n",
        "      [4,3,2,12,9,5,15,10,11,14,1,7,6,0,8,13]]\n",
        "S7 = [[4,11,2,14,15,0,8,13,3,12,9,7,5,10,6,1],\n",
        "      [13,0,11,7,4,9,1,10,14,3,5,12,2,15,8,6],\n",
        "      [1,4,11,13,12,3,7,14,10,15,6,8,0,5,9,2],\n",
        "      [6,11,13,8,1,4,10,7,9,5,0,15,14,2,3,12]]\n",
        "S8 = [[13,2,8,4,6,15,11,1,10,9,3,14,5,0,12,7],\n",
        "      [1,15,13,8,10,3,7,4,12,5,6,11,0,14,9,2],\n",
        "      [7,11,4,1,9,12,14,2,0,6,10,13,15,3,5,8],\n",
        "      [2,1,14,7,4,10,8,13,15,12,9,0,3,5,6,11]]"
      ],
      "metadata": {
        "id": "lyUXxWovohEJ"
      },
      "execution_count": 37,
      "outputs": []
    },
    {
      "cell_type": "code",
      "source": [
        "b6 = e48k1[:6]\n",
        "b6"
      ],
      "metadata": {
        "colab": {
          "base_uri": "https://localhost:8080/"
        },
        "id": "v0e3f5gXiTgk",
        "outputId": "f3d1198b-4aea-469a-b431-e35a89bb14eb"
      },
      "execution_count": 38,
      "outputs": [
        {
          "output_type": "execute_result",
          "data": {
            "text/plain": [
              "[1, 1, 0, 1, 0, 1]"
            ]
          },
          "metadata": {},
          "execution_count": 38
        }
      ]
    },
    {
      "cell_type": "code",
      "source": [
        "r = sum([x*y for x, y in zip([2,1],b6[::5])])"
      ],
      "metadata": {
        "id": "Gn8mS0DgjGks"
      },
      "execution_count": 39,
      "outputs": []
    },
    {
      "cell_type": "code",
      "source": [
        "c = sum([x*y for x,y in zip([8,4,2,1],b6[1:5])])"
      ],
      "metadata": {
        "id": "Ri4Yyf7BjL9E"
      },
      "execution_count": 40,
      "outputs": []
    },
    {
      "cell_type": "code",
      "source": [
        "d2b = [[0,0,0,0],\n",
        "       [0,0,0,1],\n",
        "       [0,0,1,0],\n",
        "       [0,0,1,1],\n",
        "       [0,1,0,0],\n",
        "       [0,1,0,1],\n",
        "       [0,1,1,0],\n",
        "       [0,1,1,1],\n",
        "       [1,0,0,0],\n",
        "       [1,0,0,1],\n",
        "       [1,0,1,0],\n",
        "       [1,0,1,1],\n",
        "       [1,1,0,0],\n",
        "       [1,1,0,1],\n",
        "       [1,1,1,0],\n",
        "       [1,1,1,1]]"
      ],
      "metadata": {
        "id": "-5zCrYvDjPdU"
      },
      "execution_count": 41,
      "outputs": []
    },
    {
      "cell_type": "code",
      "source": [
        "dec = S1[r][c]\n",
        "dec"
      ],
      "metadata": {
        "id": "iC1RgaEsj1OF",
        "outputId": "6876669b-7f45-4624-e284-eac81b99ecb5",
        "colab": {
          "base_uri": "https://localhost:8080/"
        }
      },
      "execution_count": 42,
      "outputs": [
        {
          "output_type": "execute_result",
          "data": {
            "text/plain": [
              "3"
            ]
          },
          "metadata": {},
          "execution_count": 42
        }
      ]
    },
    {
      "cell_type": "code",
      "source": [
        "d2b[dec]"
      ],
      "metadata": {
        "id": "KjKk82BZoVeD",
        "outputId": "8dd3f323-4ffe-43c7-efd6-af83611bbf13",
        "colab": {
          "base_uri": "https://localhost:8080/"
        }
      },
      "execution_count": 43,
      "outputs": [
        {
          "output_type": "execute_result",
          "data": {
            "text/plain": [
              "[0, 0, 1, 1]"
            ]
          },
          "metadata": {},
          "execution_count": 43
        }
      ]
    },
    {
      "cell_type": "code",
      "source": [
        "SS = [S1,S2,S3,S4,S5,S6,S7,S8]\n",
        "s = []\n",
        "for i in range(8):\n",
        "    b6 = e48k1[i*6:i*6+6]\n",
        "    r = sum([x*y for x, y in zip([2,1],b6[::5])])\n",
        "    c = sum([x*y for x,y in zip([8,4,2,1],b6[1:5])])\n",
        "    dec = SS[i][r][c]\n",
        "    s += d2b[dec]"
      ],
      "metadata": {
        "id": "58DdD6sNoXAx"
      },
      "execution_count": 47,
      "outputs": []
    },
    {
      "cell_type": "code",
      "source": [
        "print_matrix(s,4)"
      ],
      "metadata": {
        "id": "5sVsd_Hkqq4f",
        "outputId": "9528aab9-4c91-4286-8c57-f0969798c58b",
        "colab": {
          "base_uri": "https://localhost:8080/"
        }
      },
      "execution_count": 50,
      "outputs": [
        {
          "output_type": "stream",
          "name": "stdout",
          "text": [
            "0 0 1 1\n",
            "1 1 1 1\n",
            "0 1 1 1\n",
            "0 0 1 0\n",
            "0 0 0 1\n",
            "1 1 0 0\n",
            "0 0 1 1\n",
            "0 0 1 0\n"
          ]
        }
      ]
    },
    {
      "cell_type": "code",
      "source": [
        "P = [16,7,20,21,\n",
        "     29,12,28,17,\n",
        "     1,15,23,26,\n",
        "     5,18,31,10,\n",
        "     2,8,24,14,\n",
        "     32,27,3,9,\n",
        "     19,13,30,6,\n",
        "     22,11,4,25]"
      ],
      "metadata": {
        "id": "Ub03dp6oq7JO"
      },
      "execution_count": 51,
      "outputs": []
    },
    {
      "cell_type": "code",
      "source": [
        "f = [s[x-1] for x in P]"
      ],
      "metadata": {
        "id": "ZmyHGtqasNpF"
      },
      "execution_count": 52,
      "outputs": []
    },
    {
      "cell_type": "code",
      "source": [
        "print_matrix(f,4)"
      ],
      "metadata": {
        "id": "p2gmBc0qsRCn",
        "outputId": "eb024a80-0ffe-4f63-e6eb-ce3fef7e57ea",
        "colab": {
          "base_uri": "https://localhost:8080/"
        }
      },
      "execution_count": 55,
      "outputs": [
        {
          "output_type": "stream",
          "name": "stdout",
          "text": [
            "0 1 1 1\n",
            "0 1 1 0\n",
            "0 1 0 0\n",
            "1 0 1 1\n",
            "0 1 0 0\n",
            "0 1 1 0\n",
            "0 0 0 1\n",
            "1 1 1 0\n"
          ]
        }
      ]
    },
    {
      "cell_type": "code",
      "source": [
        "RE1 = [(x+y)%2 for x,y in zip(LE0,f)]\n",
        "LE1 = RE0"
      ],
      "metadata": {
        "id": "_av27syUsSNg"
      },
      "execution_count": 57,
      "outputs": []
    },
    {
      "cell_type": "code",
      "source": [
        "RL1 = RE1+LE1"
      ],
      "metadata": {
        "id": "dw20HQ8MseiQ"
      },
      "execution_count": 58,
      "outputs": []
    },
    {
      "cell_type": "code",
      "source": [
        "IPI = [40,8,48,16,56,24,64,32,\n",
        "       39,7,47,15,55,23,63,31,\n",
        "       38,6,46,14,54,22,62,30,\n",
        "       37,5,45,13,53,21,61,29,\n",
        "       36,4,44,12,52,20,60,28,\n",
        "       35,3,43,11,51,19,59,27,\n",
        "       34,2,42,10,50,18,58,26,\n",
        "       33,1,41,9,49,17,57,25]"
      ],
      "metadata": {
        "id": "U42cD_OrsntQ"
      },
      "execution_count": 64,
      "outputs": []
    },
    {
      "cell_type": "code",
      "source": [
        "C = [RL1[x-1] for x in IPI]"
      ],
      "metadata": {
        "id": "s1DHf8XOs8_1"
      },
      "execution_count": 65,
      "outputs": []
    },
    {
      "cell_type": "code",
      "source": [
        "print_matrix(C,8)"
      ],
      "metadata": {
        "id": "qvs1768CtFlF",
        "outputId": "8c8aa2a6-f3a7-4f87-d114-9d035861508a",
        "colab": {
          "base_uri": "https://localhost:8080/"
        }
      },
      "execution_count": 66,
      "outputs": [
        {
          "output_type": "stream",
          "name": "stdout",
          "text": [
            "0 1 1 1 1 0 1 1\n",
            "0 0 0 0 0 1 1 0\n",
            "1 1 0 0 0 1 0 1\n",
            "1 1 1 0 1 1 0 0\n",
            "1 1 1 1 0 0 1 1\n",
            "1 1 1 0 0 1 1 0\n",
            "0 1 1 0 1 0 0 0\n",
            "1 0 1 1 0 1 1 1\n"
          ]
        }
      ]
    },
    {
      "cell_type": "markdown",
      "source": [
        "# 복호화"
      ],
      "metadata": {
        "id": "OFpx9gBxtG78"
      }
    },
    {
      "cell_type": "code",
      "source": [
        "LR = [C[x-1] for x in IP]\n",
        "LE0 = LR[:32]\n",
        "RE0 = LR[32:]\n",
        "e48 = [RE0[x-1] for x in E]\n",
        "e48k1 = [(x+y)%2 for x,y in zip(e48,k1)]\n",
        "s = []\n",
        "for i in range(8):\n",
        "    b6 = e48k1[i*6:i*6+6]\n",
        "    r = sum([x*y for x, y in zip([2,1],b6[::5])])\n",
        "    c = sum([x*y for x,y in zip([8,4,2,1],b6[1:5])])\n",
        "    dec = SS[i][r][c]\n",
        "    s += d2b[dec]\n",
        "f = [s[x-1] for x in P]\n",
        "RE1 = [(x+y)%2 for x,y in zip(LE0,f)]\n",
        "LE1 = RE0\n",
        "RL1 = RE1+LE1\n",
        "print_matrix([RL1[x-1] for x in IPI],8)"
      ],
      "metadata": {
        "id": "gCrn6WfrtU-A",
        "outputId": "a129c093-10db-4cc3-dae2-3047a6044948",
        "colab": {
          "base_uri": "https://localhost:8080/"
        }
      },
      "execution_count": 68,
      "outputs": [
        {
          "output_type": "stream",
          "name": "stdout",
          "text": [
            "0 1 1 0 1 0 1 1\n",
            "0 1 0 1 0 0 1 1\n",
            "1 0 0 0 0 0 0 0\n",
            "1 1 1 1 1 1 0 1\n",
            "1 0 1 1 0 0 1 0\n",
            "1 0 1 0 0 1 1 0\n",
            "0 0 1 1 1 1 0 0\n",
            "1 0 1 1 0 1 1 1\n"
          ]
        }
      ]
    },
    {
      "cell_type": "code",
      "source": [
        "print_matrix(M,8)"
      ],
      "metadata": {
        "id": "HTCcFNICtwhd",
        "outputId": "a8463551-ce3f-439d-b739-e31c46d35cb9",
        "colab": {
          "base_uri": "https://localhost:8080/"
        }
      },
      "execution_count": 71,
      "outputs": [
        {
          "output_type": "stream",
          "name": "stdout",
          "text": [
            "0 1 1 0 1 0 1 1\n",
            "0 1 0 1 0 0 1 1\n",
            "1 0 0 0 0 0 0 0\n",
            "1 1 1 1 1 1 0 1\n",
            "1 0 1 1 0 0 1 0\n",
            "1 0 1 0 0 1 1 0\n",
            "0 0 1 1 1 1 0 0\n",
            "1 0 1 1 0 1 1 1\n"
          ]
        }
      ]
    },
    {
      "cell_type": "code",
      "source": [],
      "metadata": {
        "id": "IOaguOEgDAps"
      },
      "execution_count": null,
      "outputs": []
    }
  ]
}